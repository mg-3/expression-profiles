{
  "nbformat": 4,
  "nbformat_minor": 0,
  "metadata": {
    "colab": {
      "name": "Exfiles_similarity.ipynb",
      "version": "0.3.2",
      "provenance": [],
      "collapsed_sections": []
    },
    "kernelspec": {
      "name": "python3",
      "display_name": "Python 3"
    }
  },
  "cells": [
    {
      "metadata": {
        "id": "vB7J5P7Vszpg",
        "colab_type": "text"
      },
      "cell_type": "markdown",
      "source": [
        "<table width=\"100%\" style=\"border:none\">\n",
        "  <tr>\n",
        "    <td valign=\"top\">\n",
        "      <h1>Ex-Files Similarity</h1>\n",
        "      <ul>\n",
        "<li>Author: Jeremy Yang\n",
        "<li>Required: Python3, Pandas 0.22+\n",
        "<li>Comparison of gene expression profiles.\n",
        "<li>Metrics: \n",
        "  <ul>\n",
        "    <li>Pearson correlation\n",
        "    <li>Spearman rank correlation\n",
        "    <li>Weighted Spearman rank correlation (not yet)\n",
        "    <li>Tanimoto similarity\n",
        "    <li>Area Between Curves\n",
        "  </ul>\n",
        "<li>Designed for GTEx RNAseq data with 20+ tissues.\n",
        "      </ul>\n",
        "      [About Colaboratory](https://research.google.com/colaboratory/faq.html).\n",
        "    </td>\n",
        "    <td align=\"right\">\n",
        "        <p>NIH Data Commons: Team Helium</p>\n",
        "<img style=\"float:right\" width=\"100\" src=\"https://avatars2.githubusercontent.com/u/33356654?s=200&v=4\" alt=\"HeliumDataCommons Logo\" />\n",
        "    </td>\n",
        "  </tr>\n",
        "  </table>\n",
        " "
      ]
    },
    {
      "metadata": {
        "id": "StWvpEEEef7p",
        "colab_type": "code",
        "colab": {
          "base_uri": "https://localhost:8080/",
          "height": 35
        },
        "outputId": "50ed0724-deec-4f22-c46d-7c3c36543449"
      },
      "cell_type": "code",
      "source": [
        "import sys,os,re,time,io\n",
        "import urllib.request\n",
        "import google.colab\n",
        "import numpy,scipy\n",
        "import pandas\n",
        "print('Python: %s; Pandas: %s; Scipy: %s ; Numpy: %s'%(sys.version.split()[0],pandas.__version__,scipy.__version__,numpy.__version__))"
      ],
      "execution_count": 31,
      "outputs": [
        {
          "output_type": "stream",
          "text": [
            "Python: 3.6.3; Pandas: 0.22.0; Scipy: 0.19.1 ; Numpy: 1.14.5\n"
          ],
          "name": "stdout"
        }
      ]
    },
    {
      "metadata": {
        "id": "cwKhzyFo1L21",
        "colab_type": "text"
      },
      "cell_type": "markdown",
      "source": [
        "### Upload profiles datafile:"
      ]
    },
    {
      "metadata": {
        "id": "1SMOnt2P1Zfv",
        "colab_type": "code",
        "colab": {
          "resources": {
            "http://localhost:8080/nbextensions/google.colab/files.js": {
              "data": "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",
              "ok": true,
              "headers": [
                [
                  "content-type",
                  "application/javascript"
                ]
              ],
              "status": 200,
              "status_text": ""
            }
          },
          "base_uri": "https://localhost:8080/",
          "height": 127
        },
        "outputId": "f4ba38da-02b4-451a-f003-0962278fb937"
      },
      "cell_type": "code",
      "source": [
        "print('Upload profiles datafile: ')\n",
        "uploaded = google.colab.files.upload()\n",
        "fn = list(uploaded.keys())[0]\n",
        "print('Uploaded \"{name}\" with {length} bytes'.format(name=fn, length=len(uploaded[fn])))\n",
        "exfiles = pandas.read_csv(io.StringIO(uploaded[fn].decode('utf8')), sep='\\t')\n",
        "print(\"dataset nrows: %d ; ncols: %d:\"%(exfiles.shape[0],exfiles.shape[1]), file=sys.stderr)"
      ],
      "execution_count": 32,
      "outputs": [
        {
          "output_type": "stream",
          "text": [
            "Upload profiles datafile: \n"
          ],
          "name": "stdout"
        },
        {
          "output_type": "display_data",
          "data": {
            "text/html": [
              "\n",
              "     <input type=\"file\" id=\"files-95cae7b1-b070-4eae-88f9-48445340863c\" name=\"files[]\" multiple disabled />\n",
              "     <output id=\"result-95cae7b1-b070-4eae-88f9-48445340863c\">\n",
              "      Upload widget is only available when the cell has been executed in the\n",
              "      current browser session. Please rerun this cell to enable.\n",
              "      </output>\n",
              "      <script src=\"/nbextensions/google.colab/files.js\"></script> "
            ],
            "text/plain": [
              "<IPython.core.display.HTML object>"
            ]
          },
          "metadata": {
            "tags": []
          }
        },
        {
          "output_type": "stream",
          "text": [
            "Saving gtex_rnaseq_prep_profiles.tsv to gtex_rnaseq_prep_profiles (2).tsv\n",
            "Uploaded \"gtex_rnaseq_prep_profiles.tsv\" with 41987 bytes\n"
          ],
          "name": "stdout"
        },
        {
          "output_type": "stream",
          "text": [
            "dataset nrows: 246 ; ncols: 32:\n"
          ],
          "name": "stderr"
        }
      ]
    },
    {
      "metadata": {
        "id": "A4clUMu5abIa",
        "colab_type": "code",
        "colab": {
          "base_uri": "https://localhost:8080/",
          "height": 321
        },
        "outputId": "f33e05ed-b831-43e6-c8c2-e97c9eefc349"
      },
      "cell_type": "code",
      "source": [
        "exfiles.head()"
      ],
      "execution_count": 33,
      "outputs": [
        {
          "output_type": "execute_result",
          "data": {
            "text/html": [
              "<div>\n",
              "<style scoped>\n",
              "    .dataframe tbody tr th:only-of-type {\n",
              "        vertical-align: middle;\n",
              "    }\n",
              "\n",
              "    .dataframe tbody tr th {\n",
              "        vertical-align: top;\n",
              "    }\n",
              "\n",
              "    .dataframe thead th {\n",
              "        text-align: right;\n",
              "    }\n",
              "</style>\n",
              "<table border=\"1\" class=\"dataframe\">\n",
              "  <thead>\n",
              "    <tr style=\"text-align: right;\">\n",
              "      <th></th>\n",
              "      <th>ENSG</th>\n",
              "      <th>SEX</th>\n",
              "      <th>Adipose - Subcutaneous</th>\n",
              "      <th>Adipose - Visceral (Omentum)</th>\n",
              "      <th>Adrenal Gland</th>\n",
              "      <th>Artery - Aorta</th>\n",
              "      <th>Artery - Coronary</th>\n",
              "      <th>Artery - Tibial</th>\n",
              "      <th>Bladder</th>\n",
              "      <th>Brain - Cerebellum</th>\n",
              "      <th>...</th>\n",
              "      <th>Muscle - Skeletal</th>\n",
              "      <th>Nerve - Tibial</th>\n",
              "      <th>Pancreas</th>\n",
              "      <th>Pituitary</th>\n",
              "      <th>Skin - Not Sun Exposed (Suprapubic)</th>\n",
              "      <th>Skin - Sun Exposed (Lower leg)</th>\n",
              "      <th>Small Intestine - Terminal Ileum</th>\n",
              "      <th>Spleen</th>\n",
              "      <th>Stomach</th>\n",
              "      <th>Thyroid</th>\n",
              "    </tr>\n",
              "  </thead>\n",
              "  <tbody>\n",
              "    <tr>\n",
              "      <th>0</th>\n",
              "      <td>ENSG00000039139.9</td>\n",
              "      <td>female</td>\n",
              "      <td>0.078</td>\n",
              "      <td>0.053</td>\n",
              "      <td>0.079</td>\n",
              "      <td>0.083</td>\n",
              "      <td>0.064</td>\n",
              "      <td>0.046</td>\n",
              "      <td>0.613</td>\n",
              "      <td>0.386</td>\n",
              "      <td>...</td>\n",
              "      <td>0.012</td>\n",
              "      <td>0.145</td>\n",
              "      <td>0.569</td>\n",
              "      <td>3.337</td>\n",
              "      <td>0.072</td>\n",
              "      <td>0.091</td>\n",
              "      <td>0.147</td>\n",
              "      <td>0.096</td>\n",
              "      <td>0.628</td>\n",
              "      <td>1.075</td>\n",
              "    </tr>\n",
              "    <tr>\n",
              "      <th>1</th>\n",
              "      <td>ENSG00000082516.8</td>\n",
              "      <td>female</td>\n",
              "      <td>15.570</td>\n",
              "      <td>11.120</td>\n",
              "      <td>7.940</td>\n",
              "      <td>10.420</td>\n",
              "      <td>10.570</td>\n",
              "      <td>12.920</td>\n",
              "      <td>13.780</td>\n",
              "      <td>9.530</td>\n",
              "      <td>...</td>\n",
              "      <td>10.220</td>\n",
              "      <td>15.830</td>\n",
              "      <td>3.412</td>\n",
              "      <td>10.560</td>\n",
              "      <td>11.280</td>\n",
              "      <td>13.910</td>\n",
              "      <td>6.424</td>\n",
              "      <td>9.688</td>\n",
              "      <td>5.186</td>\n",
              "      <td>10.830</td>\n",
              "    </tr>\n",
              "    <tr>\n",
              "      <th>2</th>\n",
              "      <td>ENSG00000100302.6</td>\n",
              "      <td>female</td>\n",
              "      <td>2.329</td>\n",
              "      <td>2.002</td>\n",
              "      <td>2.873</td>\n",
              "      <td>18.810</td>\n",
              "      <td>6.090</td>\n",
              "      <td>3.982</td>\n",
              "      <td>5.712</td>\n",
              "      <td>8.445</td>\n",
              "      <td>...</td>\n",
              "      <td>6.118</td>\n",
              "      <td>1.768</td>\n",
              "      <td>1.031</td>\n",
              "      <td>4.525</td>\n",
              "      <td>2.015</td>\n",
              "      <td>2.481</td>\n",
              "      <td>6.015</td>\n",
              "      <td>0.417</td>\n",
              "      <td>1.772</td>\n",
              "      <td>2.306</td>\n",
              "    </tr>\n",
              "    <tr>\n",
              "      <th>3</th>\n",
              "      <td>ENSG00000100580.7</td>\n",
              "      <td>female</td>\n",
              "      <td>7.470</td>\n",
              "      <td>7.314</td>\n",
              "      <td>11.330</td>\n",
              "      <td>7.127</td>\n",
              "      <td>7.600</td>\n",
              "      <td>9.406</td>\n",
              "      <td>10.050</td>\n",
              "      <td>12.980</td>\n",
              "      <td>...</td>\n",
              "      <td>2.065</td>\n",
              "      <td>10.265</td>\n",
              "      <td>3.321</td>\n",
              "      <td>19.740</td>\n",
              "      <td>6.604</td>\n",
              "      <td>6.659</td>\n",
              "      <td>7.210</td>\n",
              "      <td>14.510</td>\n",
              "      <td>5.252</td>\n",
              "      <td>15.160</td>\n",
              "    </tr>\n",
              "    <tr>\n",
              "      <th>4</th>\n",
              "      <td>ENSG00000101200.5</td>\n",
              "      <td>female</td>\n",
              "      <td>0.696</td>\n",
              "      <td>0.143</td>\n",
              "      <td>0.295</td>\n",
              "      <td>0.000</td>\n",
              "      <td>0.052</td>\n",
              "      <td>0.000</td>\n",
              "      <td>0.194</td>\n",
              "      <td>0.320</td>\n",
              "      <td>...</td>\n",
              "      <td>0.030</td>\n",
              "      <td>0.026</td>\n",
              "      <td>0.000</td>\n",
              "      <td>0.278</td>\n",
              "      <td>0.000</td>\n",
              "      <td>0.000</td>\n",
              "      <td>0.023</td>\n",
              "      <td>0.055</td>\n",
              "      <td>0.000</td>\n",
              "      <td>0.075</td>\n",
              "    </tr>\n",
              "  </tbody>\n",
              "</table>\n",
              "<p>5 rows × 32 columns</p>\n",
              "</div>"
            ],
            "text/plain": [
              "                ENSG     SEX  Adipose - Subcutaneous  \\\n",
              "0  ENSG00000039139.9  female                   0.078   \n",
              "1  ENSG00000082516.8  female                  15.570   \n",
              "2  ENSG00000100302.6  female                   2.329   \n",
              "3  ENSG00000100580.7  female                   7.470   \n",
              "4  ENSG00000101200.5  female                   0.696   \n",
              "\n",
              "   Adipose - Visceral (Omentum)  Adrenal Gland  Artery - Aorta  \\\n",
              "0                         0.053          0.079           0.083   \n",
              "1                        11.120          7.940          10.420   \n",
              "2                         2.002          2.873          18.810   \n",
              "3                         7.314         11.330           7.127   \n",
              "4                         0.143          0.295           0.000   \n",
              "\n",
              "   Artery - Coronary  Artery - Tibial  Bladder  Brain - Cerebellum   ...     \\\n",
              "0              0.064            0.046    0.613               0.386   ...      \n",
              "1             10.570           12.920   13.780               9.530   ...      \n",
              "2              6.090            3.982    5.712               8.445   ...      \n",
              "3              7.600            9.406   10.050              12.980   ...      \n",
              "4              0.052            0.000    0.194               0.320   ...      \n",
              "\n",
              "   Muscle - Skeletal  Nerve - Tibial  Pancreas  Pituitary  \\\n",
              "0              0.012           0.145     0.569      3.337   \n",
              "1             10.220          15.830     3.412     10.560   \n",
              "2              6.118           1.768     1.031      4.525   \n",
              "3              2.065          10.265     3.321     19.740   \n",
              "4              0.030           0.026     0.000      0.278   \n",
              "\n",
              "   Skin - Not Sun Exposed (Suprapubic)  Skin - Sun Exposed (Lower leg)  \\\n",
              "0                                0.072                           0.091   \n",
              "1                               11.280                          13.910   \n",
              "2                                2.015                           2.481   \n",
              "3                                6.604                           6.659   \n",
              "4                                0.000                           0.000   \n",
              "\n",
              "   Small Intestine - Terminal Ileum  Spleen  Stomach  Thyroid  \n",
              "0                             0.147   0.096    0.628    1.075  \n",
              "1                             6.424   9.688    5.186   10.830  \n",
              "2                             6.015   0.417    1.772    2.306  \n",
              "3                             7.210  14.510    5.252   15.160  \n",
              "4                             0.023   0.055    0.000    0.075  \n",
              "\n",
              "[5 rows x 32 columns]"
            ]
          },
          "metadata": {
            "tags": []
          },
          "execution_count": 33
        }
      ]
    },
    {
      "metadata": {
        "id": "guaUi75xaeOt",
        "colab_type": "code",
        "colab": {
          "base_uri": "https://localhost:8080/",
          "height": 414
        },
        "outputId": "c418b6cd-2f9f-45d2-c419-35eff232e000"
      },
      "cell_type": "code",
      "source": [
        "exfiles.describe()"
      ],
      "execution_count": 34,
      "outputs": [
        {
          "output_type": "execute_result",
          "data": {
            "text/html": [
              "<div>\n",
              "<style scoped>\n",
              "    .dataframe tbody tr th:only-of-type {\n",
              "        vertical-align: middle;\n",
              "    }\n",
              "\n",
              "    .dataframe tbody tr th {\n",
              "        vertical-align: top;\n",
              "    }\n",
              "\n",
              "    .dataframe thead th {\n",
              "        text-align: right;\n",
              "    }\n",
              "</style>\n",
              "<table border=\"1\" class=\"dataframe\">\n",
              "  <thead>\n",
              "    <tr style=\"text-align: right;\">\n",
              "      <th></th>\n",
              "      <th>Adipose - Subcutaneous</th>\n",
              "      <th>Adipose - Visceral (Omentum)</th>\n",
              "      <th>Adrenal Gland</th>\n",
              "      <th>Artery - Aorta</th>\n",
              "      <th>Artery - Coronary</th>\n",
              "      <th>Artery - Tibial</th>\n",
              "      <th>Bladder</th>\n",
              "      <th>Brain - Cerebellum</th>\n",
              "      <th>Brain - Cortex</th>\n",
              "      <th>Colon - Sigmoid</th>\n",
              "      <th>...</th>\n",
              "      <th>Muscle - Skeletal</th>\n",
              "      <th>Nerve - Tibial</th>\n",
              "      <th>Pancreas</th>\n",
              "      <th>Pituitary</th>\n",
              "      <th>Skin - Not Sun Exposed (Suprapubic)</th>\n",
              "      <th>Skin - Sun Exposed (Lower leg)</th>\n",
              "      <th>Small Intestine - Terminal Ileum</th>\n",
              "      <th>Spleen</th>\n",
              "      <th>Stomach</th>\n",
              "      <th>Thyroid</th>\n",
              "    </tr>\n",
              "  </thead>\n",
              "  <tbody>\n",
              "    <tr>\n",
              "      <th>count</th>\n",
              "      <td>234.000000</td>\n",
              "      <td>228.000000</td>\n",
              "      <td>220.000000</td>\n",
              "      <td>228.000000</td>\n",
              "      <td>218.000000</td>\n",
              "      <td>226.000000</td>\n",
              "      <td>188.000000</td>\n",
              "      <td>208.000000</td>\n",
              "      <td>210.000000</td>\n",
              "      <td>226.000000</td>\n",
              "      <td>...</td>\n",
              "      <td>228.000000</td>\n",
              "      <td>230.000000</td>\n",
              "      <td>222.000000</td>\n",
              "      <td>218.000000</td>\n",
              "      <td>232.000000</td>\n",
              "      <td>232.000000</td>\n",
              "      <td>224.000000</td>\n",
              "      <td>214.000000</td>\n",
              "      <td>230.000000</td>\n",
              "      <td>234.000000</td>\n",
              "    </tr>\n",
              "    <tr>\n",
              "      <th>mean</th>\n",
              "      <td>15.762603</td>\n",
              "      <td>17.043785</td>\n",
              "      <td>7.679109</td>\n",
              "      <td>13.857654</td>\n",
              "      <td>14.240252</td>\n",
              "      <td>13.522394</td>\n",
              "      <td>13.015468</td>\n",
              "      <td>7.206543</td>\n",
              "      <td>5.984771</td>\n",
              "      <td>9.562646</td>\n",
              "      <td>...</td>\n",
              "      <td>3.446789</td>\n",
              "      <td>12.367235</td>\n",
              "      <td>2.369937</td>\n",
              "      <td>7.902665</td>\n",
              "      <td>9.866616</td>\n",
              "      <td>11.322362</td>\n",
              "      <td>5.858228</td>\n",
              "      <td>60.663972</td>\n",
              "      <td>4.716596</td>\n",
              "      <td>9.963692</td>\n",
              "    </tr>\n",
              "    <tr>\n",
              "      <th>std</th>\n",
              "      <td>56.491187</td>\n",
              "      <td>67.515217</td>\n",
              "      <td>21.793660</td>\n",
              "      <td>70.326781</td>\n",
              "      <td>64.142451</td>\n",
              "      <td>76.865723</td>\n",
              "      <td>38.370785</td>\n",
              "      <td>19.550892</td>\n",
              "      <td>20.109712</td>\n",
              "      <td>39.361763</td>\n",
              "      <td>...</td>\n",
              "      <td>13.119360</td>\n",
              "      <td>46.186530</td>\n",
              "      <td>6.080864</td>\n",
              "      <td>21.246520</td>\n",
              "      <td>29.611140</td>\n",
              "      <td>39.326352</td>\n",
              "      <td>15.018161</td>\n",
              "      <td>546.988278</td>\n",
              "      <td>13.427820</td>\n",
              "      <td>29.885929</td>\n",
              "    </tr>\n",
              "    <tr>\n",
              "      <th>min</th>\n",
              "      <td>0.000000</td>\n",
              "      <td>0.000000</td>\n",
              "      <td>0.000000</td>\n",
              "      <td>0.000000</td>\n",
              "      <td>0.000000</td>\n",
              "      <td>0.000000</td>\n",
              "      <td>0.000000</td>\n",
              "      <td>0.000000</td>\n",
              "      <td>0.000000</td>\n",
              "      <td>0.000000</td>\n",
              "      <td>...</td>\n",
              "      <td>0.000000</td>\n",
              "      <td>0.000000</td>\n",
              "      <td>0.000000</td>\n",
              "      <td>0.000000</td>\n",
              "      <td>0.000000</td>\n",
              "      <td>0.000000</td>\n",
              "      <td>0.000000</td>\n",
              "      <td>0.000000</td>\n",
              "      <td>0.000000</td>\n",
              "      <td>0.000000</td>\n",
              "    </tr>\n",
              "    <tr>\n",
              "      <th>25%</th>\n",
              "      <td>0.000000</td>\n",
              "      <td>0.000000</td>\n",
              "      <td>0.000000</td>\n",
              "      <td>0.000000</td>\n",
              "      <td>0.000000</td>\n",
              "      <td>0.000000</td>\n",
              "      <td>0.046250</td>\n",
              "      <td>0.000000</td>\n",
              "      <td>0.000000</td>\n",
              "      <td>0.000000</td>\n",
              "      <td>...</td>\n",
              "      <td>0.000000</td>\n",
              "      <td>0.000000</td>\n",
              "      <td>0.000000</td>\n",
              "      <td>0.000000</td>\n",
              "      <td>0.000000</td>\n",
              "      <td>0.000000</td>\n",
              "      <td>0.000000</td>\n",
              "      <td>0.000000</td>\n",
              "      <td>0.000000</td>\n",
              "      <td>0.000000</td>\n",
              "    </tr>\n",
              "    <tr>\n",
              "      <th>50%</th>\n",
              "      <td>0.132000</td>\n",
              "      <td>0.103000</td>\n",
              "      <td>0.109000</td>\n",
              "      <td>0.112000</td>\n",
              "      <td>0.168500</td>\n",
              "      <td>0.067000</td>\n",
              "      <td>0.830000</td>\n",
              "      <td>0.384500</td>\n",
              "      <td>0.239500</td>\n",
              "      <td>0.116000</td>\n",
              "      <td>...</td>\n",
              "      <td>0.000000</td>\n",
              "      <td>0.195000</td>\n",
              "      <td>0.058500</td>\n",
              "      <td>0.474500</td>\n",
              "      <td>0.161500</td>\n",
              "      <td>0.177500</td>\n",
              "      <td>0.180500</td>\n",
              "      <td>0.233000</td>\n",
              "      <td>0.098500</td>\n",
              "      <td>0.277500</td>\n",
              "    </tr>\n",
              "    <tr>\n",
              "      <th>75%</th>\n",
              "      <td>2.723250</td>\n",
              "      <td>2.332750</td>\n",
              "      <td>2.633000</td>\n",
              "      <td>2.405500</td>\n",
              "      <td>2.901250</td>\n",
              "      <td>2.476750</td>\n",
              "      <td>6.361250</td>\n",
              "      <td>6.408000</td>\n",
              "      <td>3.053250</td>\n",
              "      <td>1.924000</td>\n",
              "      <td>...</td>\n",
              "      <td>0.797250</td>\n",
              "      <td>4.532750</td>\n",
              "      <td>1.371500</td>\n",
              "      <td>5.611000</td>\n",
              "      <td>3.169500</td>\n",
              "      <td>3.495250</td>\n",
              "      <td>3.775000</td>\n",
              "      <td>5.451250</td>\n",
              "      <td>2.053000</td>\n",
              "      <td>4.248250</td>\n",
              "    </tr>\n",
              "    <tr>\n",
              "      <th>max</th>\n",
              "      <td>448.300000</td>\n",
              "      <td>693.650000</td>\n",
              "      <td>128.500000</td>\n",
              "      <td>700.900000</td>\n",
              "      <td>605.000000</td>\n",
              "      <td>802.600000</td>\n",
              "      <td>304.200000</td>\n",
              "      <td>134.400000</td>\n",
              "      <td>181.200000</td>\n",
              "      <td>381.800000</td>\n",
              "      <td>...</td>\n",
              "      <td>126.050000</td>\n",
              "      <td>425.650000</td>\n",
              "      <td>44.635000</td>\n",
              "      <td>179.000000</td>\n",
              "      <td>209.400000</td>\n",
              "      <td>390.150000</td>\n",
              "      <td>85.325000</td>\n",
              "      <td>6355.000000</td>\n",
              "      <td>84.425000</td>\n",
              "      <td>185.600000</td>\n",
              "    </tr>\n",
              "  </tbody>\n",
              "</table>\n",
              "<p>8 rows × 30 columns</p>\n",
              "</div>"
            ],
            "text/plain": [
              "       Adipose - Subcutaneous  Adipose - Visceral (Omentum)  Adrenal Gland  \\\n",
              "count              234.000000                    228.000000     220.000000   \n",
              "mean                15.762603                     17.043785       7.679109   \n",
              "std                 56.491187                     67.515217      21.793660   \n",
              "min                  0.000000                      0.000000       0.000000   \n",
              "25%                  0.000000                      0.000000       0.000000   \n",
              "50%                  0.132000                      0.103000       0.109000   \n",
              "75%                  2.723250                      2.332750       2.633000   \n",
              "max                448.300000                    693.650000     128.500000   \n",
              "\n",
              "       Artery - Aorta  Artery - Coronary  Artery - Tibial     Bladder  \\\n",
              "count      228.000000         218.000000       226.000000  188.000000   \n",
              "mean        13.857654          14.240252        13.522394   13.015468   \n",
              "std         70.326781          64.142451        76.865723   38.370785   \n",
              "min          0.000000           0.000000         0.000000    0.000000   \n",
              "25%          0.000000           0.000000         0.000000    0.046250   \n",
              "50%          0.112000           0.168500         0.067000    0.830000   \n",
              "75%          2.405500           2.901250         2.476750    6.361250   \n",
              "max        700.900000         605.000000       802.600000  304.200000   \n",
              "\n",
              "       Brain - Cerebellum  Brain - Cortex  Colon - Sigmoid     ...      \\\n",
              "count          208.000000      210.000000       226.000000     ...       \n",
              "mean             7.206543        5.984771         9.562646     ...       \n",
              "std             19.550892       20.109712        39.361763     ...       \n",
              "min              0.000000        0.000000         0.000000     ...       \n",
              "25%              0.000000        0.000000         0.000000     ...       \n",
              "50%              0.384500        0.239500         0.116000     ...       \n",
              "75%              6.408000        3.053250         1.924000     ...       \n",
              "max            134.400000      181.200000       381.800000     ...       \n",
              "\n",
              "       Muscle - Skeletal  Nerve - Tibial    Pancreas   Pituitary  \\\n",
              "count         228.000000      230.000000  222.000000  218.000000   \n",
              "mean            3.446789       12.367235    2.369937    7.902665   \n",
              "std            13.119360       46.186530    6.080864   21.246520   \n",
              "min             0.000000        0.000000    0.000000    0.000000   \n",
              "25%             0.000000        0.000000    0.000000    0.000000   \n",
              "50%             0.000000        0.195000    0.058500    0.474500   \n",
              "75%             0.797250        4.532750    1.371500    5.611000   \n",
              "max           126.050000      425.650000   44.635000  179.000000   \n",
              "\n",
              "       Skin - Not Sun Exposed (Suprapubic)  Skin - Sun Exposed (Lower leg)  \\\n",
              "count                           232.000000                      232.000000   \n",
              "mean                              9.866616                       11.322362   \n",
              "std                              29.611140                       39.326352   \n",
              "min                               0.000000                        0.000000   \n",
              "25%                               0.000000                        0.000000   \n",
              "50%                               0.161500                        0.177500   \n",
              "75%                               3.169500                        3.495250   \n",
              "max                             209.400000                      390.150000   \n",
              "\n",
              "       Small Intestine - Terminal Ileum       Spleen     Stomach     Thyroid  \n",
              "count                        224.000000   214.000000  230.000000  234.000000  \n",
              "mean                           5.858228    60.663972    4.716596    9.963692  \n",
              "std                           15.018161   546.988278   13.427820   29.885929  \n",
              "min                            0.000000     0.000000    0.000000    0.000000  \n",
              "25%                            0.000000     0.000000    0.000000    0.000000  \n",
              "50%                            0.180500     0.233000    0.098500    0.277500  \n",
              "75%                            3.775000     5.451250    2.053000    4.248250  \n",
              "max                           85.325000  6355.000000   84.425000  185.600000  \n",
              "\n",
              "[8 rows x 30 columns]"
            ]
          },
          "metadata": {
            "tags": []
          },
          "execution_count": 34
        }
      ]
    },
    {
      "metadata": {
        "id": "2rmvTu5upzFs",
        "colab_type": "text"
      },
      "cell_type": "markdown",
      "source": [
        "### Read and merge gene symbols.\n",
        "File from https://www.ensembl.org/biomart, dataset human genes, fields Gene stable ID, Gene stable ID version,  NCBI gene ID, HGNC symbol."
      ]
    },
    {
      "metadata": {
        "id": "Xo2F7qVApyk0",
        "colab_type": "code",
        "colab": {
          "resources": {
            "http://localhost:8080/nbextensions/google.colab/files.js": {
              "data": "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",
              "ok": true,
              "headers": [
                [
                  "content-type",
                  "application/javascript"
                ]
              ],
              "status": 200,
              "status_text": ""
            }
          },
          "base_uri": "https://localhost:8080/",
          "height": 109
        },
        "outputId": "6b273e4f-25ca-451c-f478-6677be71b177"
      },
      "cell_type": "code",
      "source": [
        "print('Upload Biomart ENSG2NCBI genes datafile: ')\n",
        "uploaded = google.colab.files.upload()\n",
        "fn = list(uploaded.keys())[0]\n",
        "print('Uploaded \"{name}\" with {length} bytes'.format(name=fn, length=len(uploaded[fn])))\n",
        "genes = pandas.read_csv(io.StringIO(uploaded[fn].decode('utf8')), sep='\\t', usecols=[1,2,3], na_values=[''], dtype={2:str})\n",
        "genes.columns = ['ENSG','NCBI','HGNC']\n",
        "genes.dropna(inplace=True)"
      ],
      "execution_count": 35,
      "outputs": [
        {
          "output_type": "stream",
          "text": [
            "Upload Biomart ENSG2NCBI genes datafile: \n"
          ],
          "name": "stdout"
        },
        {
          "output_type": "display_data",
          "data": {
            "text/html": [
              "\n",
              "     <input type=\"file\" id=\"files-2a120088-b86c-4200-bf66-c53c430c6f2d\" name=\"files[]\" multiple disabled />\n",
              "     <output id=\"result-2a120088-b86c-4200-bf66-c53c430c6f2d\">\n",
              "      Upload widget is only available when the cell has been executed in the\n",
              "      current browser session. Please rerun this cell to enable.\n",
              "      </output>\n",
              "      <script src=\"/nbextensions/google.colab/files.js\"></script> "
            ],
            "text/plain": [
              "<IPython.core.display.HTML object>"
            ]
          },
          "metadata": {
            "tags": []
          }
        },
        {
          "output_type": "stream",
          "text": [
            "Saving biomart_ENSG2NCBI.tsv to biomart_ENSG2NCBI (1).tsv\n",
            "Uploaded \"biomart_ENSG2NCBI.tsv\" with 2786143 bytes\n"
          ],
          "name": "stdout"
        }
      ]
    },
    {
      "metadata": {
        "id": "fegRBFc-tO00",
        "colab_type": "code",
        "colab": {
          "base_uri": "https://localhost:8080/",
          "height": 204
        },
        "outputId": "d6bbbadc-135d-4234-8745-4e5fa785f0b9"
      },
      "cell_type": "code",
      "source": [
        "genes.head()"
      ],
      "execution_count": 36,
      "outputs": [
        {
          "output_type": "execute_result",
          "data": {
            "text/html": [
              "<div>\n",
              "<style scoped>\n",
              "    .dataframe tbody tr th:only-of-type {\n",
              "        vertical-align: middle;\n",
              "    }\n",
              "\n",
              "    .dataframe tbody tr th {\n",
              "        vertical-align: top;\n",
              "    }\n",
              "\n",
              "    .dataframe thead th {\n",
              "        text-align: right;\n",
              "    }\n",
              "</style>\n",
              "<table border=\"1\" class=\"dataframe\">\n",
              "  <thead>\n",
              "    <tr style=\"text-align: right;\">\n",
              "      <th></th>\n",
              "      <th>ENSG</th>\n",
              "      <th>NCBI</th>\n",
              "      <th>HGNC</th>\n",
              "    </tr>\n",
              "  </thead>\n",
              "  <tbody>\n",
              "    <tr>\n",
              "      <th>1</th>\n",
              "      <td>ENSG00000211459.2</td>\n",
              "      <td>4549</td>\n",
              "      <td>MT-RNR1</td>\n",
              "    </tr>\n",
              "    <tr>\n",
              "      <th>3</th>\n",
              "      <td>ENSG00000210082.2</td>\n",
              "      <td>4550</td>\n",
              "      <td>MT-RNR2</td>\n",
              "    </tr>\n",
              "    <tr>\n",
              "      <th>5</th>\n",
              "      <td>ENSG00000198888.2</td>\n",
              "      <td>4535</td>\n",
              "      <td>MT-ND1</td>\n",
              "    </tr>\n",
              "    <tr>\n",
              "      <th>9</th>\n",
              "      <td>ENSG00000198763.3</td>\n",
              "      <td>4536</td>\n",
              "      <td>MT-ND2</td>\n",
              "    </tr>\n",
              "    <tr>\n",
              "      <th>15</th>\n",
              "      <td>ENSG00000198804.2</td>\n",
              "      <td>4512</td>\n",
              "      <td>MT-CO1</td>\n",
              "    </tr>\n",
              "  </tbody>\n",
              "</table>\n",
              "</div>"
            ],
            "text/plain": [
              "                 ENSG  NCBI     HGNC\n",
              "1   ENSG00000211459.2  4549  MT-RNR1\n",
              "3   ENSG00000210082.2  4550  MT-RNR2\n",
              "5   ENSG00000198888.2  4535   MT-ND1\n",
              "9   ENSG00000198763.3  4536   MT-ND2\n",
              "15  ENSG00000198804.2  4512   MT-CO1"
            ]
          },
          "metadata": {
            "tags": []
          },
          "execution_count": 36
        }
      ]
    },
    {
      "metadata": {
        "id": "RSyD7C4Nt9vS",
        "colab_type": "code",
        "colab": {}
      },
      "cell_type": "code",
      "source": [
        "exfiles = pandas.merge(exfiles, genes, on='ENSG', how='inner')\n",
        "exfiles = exfiles[['ENSG','HGNC','NCBI','SEX']+(exfiles.columns[3:exfiles.columns.size-2]).tolist()]"
      ],
      "execution_count": 0,
      "outputs": []
    },
    {
      "metadata": {
        "id": "jwWCN2ZxLUVs",
        "colab_type": "code",
        "colab": {
          "base_uri": "https://localhost:8080/",
          "height": 321
        },
        "outputId": "175a7bd3-699a-4e9f-e7f3-93cd9b41a2cf"
      },
      "cell_type": "code",
      "source": [
        "exfiles.head()"
      ],
      "execution_count": 38,
      "outputs": [
        {
          "output_type": "execute_result",
          "data": {
            "text/html": [
              "<div>\n",
              "<style scoped>\n",
              "    .dataframe tbody tr th:only-of-type {\n",
              "        vertical-align: middle;\n",
              "    }\n",
              "\n",
              "    .dataframe tbody tr th {\n",
              "        vertical-align: top;\n",
              "    }\n",
              "\n",
              "    .dataframe thead th {\n",
              "        text-align: right;\n",
              "    }\n",
              "</style>\n",
              "<table border=\"1\" class=\"dataframe\">\n",
              "  <thead>\n",
              "    <tr style=\"text-align: right;\">\n",
              "      <th></th>\n",
              "      <th>ENSG</th>\n",
              "      <th>HGNC</th>\n",
              "      <th>NCBI</th>\n",
              "      <th>SEX</th>\n",
              "      <th>Adipose - Visceral (Omentum)</th>\n",
              "      <th>Adrenal Gland</th>\n",
              "      <th>Artery - Aorta</th>\n",
              "      <th>Artery - Coronary</th>\n",
              "      <th>Artery - Tibial</th>\n",
              "      <th>Bladder</th>\n",
              "      <th>...</th>\n",
              "      <th>Muscle - Skeletal</th>\n",
              "      <th>Nerve - Tibial</th>\n",
              "      <th>Pancreas</th>\n",
              "      <th>Pituitary</th>\n",
              "      <th>Skin - Not Sun Exposed (Suprapubic)</th>\n",
              "      <th>Skin - Sun Exposed (Lower leg)</th>\n",
              "      <th>Small Intestine - Terminal Ileum</th>\n",
              "      <th>Spleen</th>\n",
              "      <th>Stomach</th>\n",
              "      <th>Thyroid</th>\n",
              "    </tr>\n",
              "  </thead>\n",
              "  <tbody>\n",
              "    <tr>\n",
              "      <th>0</th>\n",
              "      <td>ENSG00000039139.9</td>\n",
              "      <td>DNAH5</td>\n",
              "      <td>1767</td>\n",
              "      <td>female</td>\n",
              "      <td>0.053</td>\n",
              "      <td>0.079</td>\n",
              "      <td>0.083</td>\n",
              "      <td>0.064</td>\n",
              "      <td>0.046</td>\n",
              "      <td>0.613</td>\n",
              "      <td>...</td>\n",
              "      <td>0.012</td>\n",
              "      <td>0.145</td>\n",
              "      <td>0.569</td>\n",
              "      <td>3.337</td>\n",
              "      <td>0.072</td>\n",
              "      <td>0.091</td>\n",
              "      <td>0.147</td>\n",
              "      <td>0.096</td>\n",
              "      <td>0.628</td>\n",
              "      <td>1.075</td>\n",
              "    </tr>\n",
              "    <tr>\n",
              "      <th>1</th>\n",
              "      <td>ENSG00000039139.9</td>\n",
              "      <td>DNAH5</td>\n",
              "      <td>1767</td>\n",
              "      <td>male</td>\n",
              "      <td>0.064</td>\n",
              "      <td>0.079</td>\n",
              "      <td>0.072</td>\n",
              "      <td>0.066</td>\n",
              "      <td>0.058</td>\n",
              "      <td>0.922</td>\n",
              "      <td>...</td>\n",
              "      <td>0.010</td>\n",
              "      <td>0.166</td>\n",
              "      <td>0.596</td>\n",
              "      <td>2.816</td>\n",
              "      <td>0.073</td>\n",
              "      <td>0.113</td>\n",
              "      <td>0.130</td>\n",
              "      <td>0.077</td>\n",
              "      <td>0.679</td>\n",
              "      <td>1.096</td>\n",
              "    </tr>\n",
              "    <tr>\n",
              "      <th>2</th>\n",
              "      <td>ENSG00000082516.8</td>\n",
              "      <td>GEMIN5</td>\n",
              "      <td>25929</td>\n",
              "      <td>female</td>\n",
              "      <td>11.120</td>\n",
              "      <td>7.940</td>\n",
              "      <td>10.420</td>\n",
              "      <td>10.570</td>\n",
              "      <td>12.920</td>\n",
              "      <td>13.780</td>\n",
              "      <td>...</td>\n",
              "      <td>10.220</td>\n",
              "      <td>15.830</td>\n",
              "      <td>3.412</td>\n",
              "      <td>10.560</td>\n",
              "      <td>11.280</td>\n",
              "      <td>13.910</td>\n",
              "      <td>6.424</td>\n",
              "      <td>9.688</td>\n",
              "      <td>5.186</td>\n",
              "      <td>10.830</td>\n",
              "    </tr>\n",
              "    <tr>\n",
              "      <th>3</th>\n",
              "      <td>ENSG00000082516.8</td>\n",
              "      <td>GEMIN5</td>\n",
              "      <td>25929</td>\n",
              "      <td>male</td>\n",
              "      <td>10.310</td>\n",
              "      <td>7.612</td>\n",
              "      <td>10.320</td>\n",
              "      <td>10.430</td>\n",
              "      <td>12.480</td>\n",
              "      <td>13.385</td>\n",
              "      <td>...</td>\n",
              "      <td>9.188</td>\n",
              "      <td>16.220</td>\n",
              "      <td>3.764</td>\n",
              "      <td>9.512</td>\n",
              "      <td>10.125</td>\n",
              "      <td>13.095</td>\n",
              "      <td>6.367</td>\n",
              "      <td>9.679</td>\n",
              "      <td>5.703</td>\n",
              "      <td>12.010</td>\n",
              "    </tr>\n",
              "    <tr>\n",
              "      <th>4</th>\n",
              "      <td>ENSG00000100302.6</td>\n",
              "      <td>RASD2</td>\n",
              "      <td>23551</td>\n",
              "      <td>female</td>\n",
              "      <td>2.002</td>\n",
              "      <td>2.873</td>\n",
              "      <td>18.810</td>\n",
              "      <td>6.090</td>\n",
              "      <td>3.982</td>\n",
              "      <td>5.712</td>\n",
              "      <td>...</td>\n",
              "      <td>6.118</td>\n",
              "      <td>1.768</td>\n",
              "      <td>1.031</td>\n",
              "      <td>4.525</td>\n",
              "      <td>2.015</td>\n",
              "      <td>2.481</td>\n",
              "      <td>6.015</td>\n",
              "      <td>0.417</td>\n",
              "      <td>1.772</td>\n",
              "      <td>2.306</td>\n",
              "    </tr>\n",
              "  </tbody>\n",
              "</table>\n",
              "<p>5 rows × 33 columns</p>\n",
              "</div>"
            ],
            "text/plain": [
              "                ENSG    HGNC   NCBI     SEX  Adipose - Visceral (Omentum)  \\\n",
              "0  ENSG00000039139.9   DNAH5   1767  female                         0.053   \n",
              "1  ENSG00000039139.9   DNAH5   1767    male                         0.064   \n",
              "2  ENSG00000082516.8  GEMIN5  25929  female                        11.120   \n",
              "3  ENSG00000082516.8  GEMIN5  25929    male                        10.310   \n",
              "4  ENSG00000100302.6   RASD2  23551  female                         2.002   \n",
              "\n",
              "   Adrenal Gland  Artery - Aorta  Artery - Coronary  Artery - Tibial  Bladder  \\\n",
              "0          0.079           0.083              0.064            0.046    0.613   \n",
              "1          0.079           0.072              0.066            0.058    0.922   \n",
              "2          7.940          10.420             10.570           12.920   13.780   \n",
              "3          7.612          10.320             10.430           12.480   13.385   \n",
              "4          2.873          18.810              6.090            3.982    5.712   \n",
              "\n",
              "    ...     Muscle - Skeletal  Nerve - Tibial  Pancreas  Pituitary  \\\n",
              "0   ...                 0.012           0.145     0.569      3.337   \n",
              "1   ...                 0.010           0.166     0.596      2.816   \n",
              "2   ...                10.220          15.830     3.412     10.560   \n",
              "3   ...                 9.188          16.220     3.764      9.512   \n",
              "4   ...                 6.118           1.768     1.031      4.525   \n",
              "\n",
              "   Skin - Not Sun Exposed (Suprapubic)  Skin - Sun Exposed (Lower leg)  \\\n",
              "0                                0.072                           0.091   \n",
              "1                                0.073                           0.113   \n",
              "2                               11.280                          13.910   \n",
              "3                               10.125                          13.095   \n",
              "4                                2.015                           2.481   \n",
              "\n",
              "   Small Intestine - Terminal Ileum  Spleen  Stomach  Thyroid  \n",
              "0                             0.147   0.096    0.628    1.075  \n",
              "1                             0.130   0.077    0.679    1.096  \n",
              "2                             6.424   9.688    5.186   10.830  \n",
              "3                             6.367   9.679    5.703   12.010  \n",
              "4                             6.015   0.417    1.772    2.306  \n",
              "\n",
              "[5 rows x 33 columns]"
            ]
          },
          "metadata": {
            "tags": []
          },
          "execution_count": 38
        }
      ]
    },
    {
      "metadata": {
        "id": "TtUJOvTlgIvl",
        "colab_type": "text"
      },
      "cell_type": "markdown",
      "source": [
        "### Pearson correlation coefficient"
      ]
    },
    {
      "metadata": {
        "id": "3s--m00tc4XO",
        "colab_type": "code",
        "colab": {}
      },
      "cell_type": "code",
      "source": [
        "def Pearson_NxN(exfiles, idcols, datacols, minval):\n",
        "  idcoltags = exfiles.columns[idcols]\n",
        "  results = pandas.DataFrame(index=range(int(exfiles.shape[0]**2/2)))    #N^2/2, upper bound\n",
        "  for tag in idcoltags:\n",
        "    results[tag+'A'] = pandas.Series()\n",
        "  for tag in idcoltags:\n",
        "    results[tag+'B'] = pandas.Series()\n",
        "  results['Pearson'] = pandas.Series(dtype='float')\n",
        "  \n",
        "  n_out=0; n_nan=0; n_submin=0;\n",
        "  for iA in range(exfiles.shape[0]):\n",
        "    A = exfiles.iloc[iA,datacols]\n",
        "    for iB in range(iA+1, exfiles.shape[0]):\n",
        "      B = exfiles.iloc[iB,datacols]\n",
        "      c = numpy.corrcoef(numpy.array([A.tolist(),B.tolist()]))[0][1]\n",
        "      if numpy.isnan(c):\n",
        "        n_nan+=1\n",
        "        continue\n",
        "      elif c<minval:\n",
        "        n_submin+=1\n",
        "        continue\n",
        "      idvalsA = exfiles.iloc[iA,idcols].tolist()\n",
        "      idvalsB = exfiles.iloc[iB,idcols].tolist()\n",
        "      j=0\n",
        "      for idval in idvalsA+idvalsB:\n",
        "        results.iloc[n_out,j] = idval\n",
        "        j+=1\n",
        "      results.iloc[n_out,j] = c\n",
        "      n_out+=1\n",
        "  results = results.dropna(how='any') #Remove unused rows\n",
        "  print(\"n_out: %d\"%(n_out))\n",
        "  print(\"n_nan: %d\"%(n_nan))\n",
        "  print(\"n_submin: %d\"%(n_submin))\n",
        "  return(results)"
      ],
      "execution_count": 0,
      "outputs": []
    },
    {
      "metadata": {
        "id": "VZpY54t-f5VN",
        "colab_type": "code",
        "colab": {
          "base_uri": "https://localhost:8080/",
          "height": 404
        },
        "outputId": "74a6a85e-bdf4-4a2a-bcaa-cb1255395aa1"
      },
      "cell_type": "code",
      "source": [
        "results_Pearson = Pearson_NxN(exfiles, list(range(4)), list(range(4,exfiles.shape[1])), 0.5)\n",
        "results_Pearson.head()"
      ],
      "execution_count": 41,
      "outputs": [
        {
          "output_type": "stream",
          "text": [
            "DEBUG: Pearson_NxN IN: nrows = 246, cols: ['ENSG', 'HGNC', 'NCBI', 'SEX', 'Adipose - Visceral (Omentum)', 'Adrenal Gland', 'Artery - Aorta', 'Artery - Coronary', 'Artery - Tibial', 'Bladder', 'Brain - Cerebellum', 'Brain - Cortex', 'Colon - Sigmoid', 'Colon - Transverse', 'Esophagus - Gastroesophageal Junction', 'Esophagus - Mucosa', 'Esophagus - Muscularis', 'Heart - Atrial Appendage', 'Heart - Left Ventricle', 'Kidney - Cortex', 'Liver', 'Lung', 'Minor Salivary Gland', 'Muscle - Skeletal', 'Nerve - Tibial', 'Pancreas', 'Pituitary', 'Skin - Not Sun Exposed (Suprapubic)', 'Skin - Sun Exposed (Lower leg)', 'Small Intestine - Terminal Ileum', 'Spleen', 'Stomach', 'Thyroid']\n",
            "DEBUG: idcols = [0, 1, 2, 3] ; datacols = [4, 5, 6, 7, 8, 9, 10, 11, 12, 13, 14, 15, 16, 17, 18, 19, 20, 21, 22, 23, 24, 25, 26, 27, 28, 29, 30, 31, 32]\n",
            "DEBUG: idcoltags = Index(['ENSG', 'HGNC', 'NCBI', 'SEX'], dtype='object')\n"
          ],
          "name": "stdout"
        },
        {
          "output_type": "stream",
          "text": [
            "/usr/local/lib/python3.6/dist-packages/numpy/lib/function_base.py:3183: RuntimeWarning: invalid value encountered in true_divide\n",
            "  c /= stddev[:, None]\n",
            "/usr/local/lib/python3.6/dist-packages/numpy/lib/function_base.py:3184: RuntimeWarning: invalid value encountered in true_divide\n",
            "  c /= stddev[None, :]\n"
          ],
          "name": "stderr"
        },
        {
          "output_type": "stream",
          "text": [
            "n_out: 1454\n",
            "n_nan: 15429\n",
            "n_submin: 13252\n"
          ],
          "name": "stdout"
        },
        {
          "output_type": "execute_result",
          "data": {
            "text/html": [
              "<div>\n",
              "<style scoped>\n",
              "    .dataframe tbody tr th:only-of-type {\n",
              "        vertical-align: middle;\n",
              "    }\n",
              "\n",
              "    .dataframe tbody tr th {\n",
              "        vertical-align: top;\n",
              "    }\n",
              "\n",
              "    .dataframe thead th {\n",
              "        text-align: right;\n",
              "    }\n",
              "</style>\n",
              "<table border=\"1\" class=\"dataframe\">\n",
              "  <thead>\n",
              "    <tr style=\"text-align: right;\">\n",
              "      <th></th>\n",
              "      <th>ENSGA</th>\n",
              "      <th>HGNCA</th>\n",
              "      <th>NCBIA</th>\n",
              "      <th>SEXA</th>\n",
              "      <th>ENSGB</th>\n",
              "      <th>HGNCB</th>\n",
              "      <th>NCBIB</th>\n",
              "      <th>SEXB</th>\n",
              "      <th>Pearson</th>\n",
              "    </tr>\n",
              "  </thead>\n",
              "  <tbody>\n",
              "    <tr>\n",
              "      <th>0</th>\n",
              "      <td>ENSG00000039139.9</td>\n",
              "      <td>DNAH5</td>\n",
              "      <td>1767</td>\n",
              "      <td>female</td>\n",
              "      <td>ENSG00000039139.9</td>\n",
              "      <td>DNAH5</td>\n",
              "      <td>1767</td>\n",
              "      <td>male</td>\n",
              "      <td>0.983544</td>\n",
              "    </tr>\n",
              "    <tr>\n",
              "      <th>1</th>\n",
              "      <td>ENSG00000039139.9</td>\n",
              "      <td>DNAH5</td>\n",
              "      <td>1767</td>\n",
              "      <td>female</td>\n",
              "      <td>ENSG00000170270.4</td>\n",
              "      <td>GON7</td>\n",
              "      <td>84520</td>\n",
              "      <td>female</td>\n",
              "      <td>0.603809</td>\n",
              "    </tr>\n",
              "    <tr>\n",
              "      <th>2</th>\n",
              "      <td>ENSG00000039139.9</td>\n",
              "      <td>DNAH5</td>\n",
              "      <td>1767</td>\n",
              "      <td>female</td>\n",
              "      <td>ENSG00000170270.4</td>\n",
              "      <td>GON7</td>\n",
              "      <td>84520</td>\n",
              "      <td>male</td>\n",
              "      <td>0.526044</td>\n",
              "    </tr>\n",
              "    <tr>\n",
              "      <th>3</th>\n",
              "      <td>ENSG00000039139.9</td>\n",
              "      <td>DNAH5</td>\n",
              "      <td>1767</td>\n",
              "      <td>female</td>\n",
              "      <td>ENSG00000172568.4</td>\n",
              "      <td>FNDC9</td>\n",
              "      <td>408263</td>\n",
              "      <td>male</td>\n",
              "      <td>0.508407</td>\n",
              "    </tr>\n",
              "    <tr>\n",
              "      <th>4</th>\n",
              "      <td>ENSG00000039139.9</td>\n",
              "      <td>DNAH5</td>\n",
              "      <td>1767</td>\n",
              "      <td>female</td>\n",
              "      <td>ENSG00000184451.5</td>\n",
              "      <td>CCR10</td>\n",
              "      <td>2826</td>\n",
              "      <td>female</td>\n",
              "      <td>0.505454</td>\n",
              "    </tr>\n",
              "  </tbody>\n",
              "</table>\n",
              "</div>"
            ],
            "text/plain": [
              "               ENSGA  HGNCA NCBIA    SEXA              ENSGB  HGNCB   NCBIB  \\\n",
              "0  ENSG00000039139.9  DNAH5  1767  female  ENSG00000039139.9  DNAH5    1767   \n",
              "1  ENSG00000039139.9  DNAH5  1767  female  ENSG00000170270.4   GON7   84520   \n",
              "2  ENSG00000039139.9  DNAH5  1767  female  ENSG00000170270.4   GON7   84520   \n",
              "3  ENSG00000039139.9  DNAH5  1767  female  ENSG00000172568.4  FNDC9  408263   \n",
              "4  ENSG00000039139.9  DNAH5  1767  female  ENSG00000184451.5  CCR10    2826   \n",
              "\n",
              "     SEXB   Pearson  \n",
              "0    male  0.983544  \n",
              "1  female  0.603809  \n",
              "2    male  0.526044  \n",
              "3    male  0.508407  \n",
              "4  female  0.505454  "
            ]
          },
          "metadata": {
            "tags": []
          },
          "execution_count": 41
        }
      ]
    },
    {
      "metadata": {
        "id": "lxYmLhCS6KgN",
        "colab_type": "code",
        "colab": {
          "base_uri": "https://localhost:8080/",
          "height": 297
        },
        "outputId": "4b213f8b-b2fb-4e3c-8934-306703aca915"
      },
      "cell_type": "code",
      "source": [
        "results_Pearson.describe()"
      ],
      "execution_count": 42,
      "outputs": [
        {
          "output_type": "execute_result",
          "data": {
            "text/html": [
              "<div>\n",
              "<style scoped>\n",
              "    .dataframe tbody tr th:only-of-type {\n",
              "        vertical-align: middle;\n",
              "    }\n",
              "\n",
              "    .dataframe tbody tr th {\n",
              "        vertical-align: top;\n",
              "    }\n",
              "\n",
              "    .dataframe thead th {\n",
              "        text-align: right;\n",
              "    }\n",
              "</style>\n",
              "<table border=\"1\" class=\"dataframe\">\n",
              "  <thead>\n",
              "    <tr style=\"text-align: right;\">\n",
              "      <th></th>\n",
              "      <th>Pearson</th>\n",
              "    </tr>\n",
              "  </thead>\n",
              "  <tbody>\n",
              "    <tr>\n",
              "      <th>count</th>\n",
              "      <td>1454.000000</td>\n",
              "    </tr>\n",
              "    <tr>\n",
              "      <th>mean</th>\n",
              "      <td>0.670249</td>\n",
              "    </tr>\n",
              "    <tr>\n",
              "      <th>std</th>\n",
              "      <td>0.136972</td>\n",
              "    </tr>\n",
              "    <tr>\n",
              "      <th>min</th>\n",
              "      <td>0.500272</td>\n",
              "    </tr>\n",
              "    <tr>\n",
              "      <th>25%</th>\n",
              "      <td>0.558491</td>\n",
              "    </tr>\n",
              "    <tr>\n",
              "      <th>50%</th>\n",
              "      <td>0.636643</td>\n",
              "    </tr>\n",
              "    <tr>\n",
              "      <th>75%</th>\n",
              "      <td>0.741618</td>\n",
              "    </tr>\n",
              "    <tr>\n",
              "      <th>max</th>\n",
              "      <td>0.999683</td>\n",
              "    </tr>\n",
              "  </tbody>\n",
              "</table>\n",
              "</div>"
            ],
            "text/plain": [
              "           Pearson\n",
              "count  1454.000000\n",
              "mean      0.670249\n",
              "std       0.136972\n",
              "min       0.500272\n",
              "25%       0.558491\n",
              "50%       0.636643\n",
              "75%       0.741618\n",
              "max       0.999683"
            ]
          },
          "metadata": {
            "tags": []
          },
          "execution_count": 42
        }
      ]
    },
    {
      "metadata": {
        "id": "o-qgHv-SMRVe",
        "colab_type": "code",
        "colab": {
          "base_uri": "https://localhost:8080/",
          "height": 365
        },
        "outputId": "79c8def0-c834-4ec5-91da-a5c7ace9b2cc"
      },
      "cell_type": "code",
      "source": [
        "results_Pearson.plot.hist(y='Pearson')"
      ],
      "execution_count": 43,
      "outputs": [
        {
          "output_type": "execute_result",
          "data": {
            "text/plain": [
              "<matplotlib.axes._subplots.AxesSubplot at 0x7f4cf4c6c320>"
            ]
          },
          "metadata": {
            "tags": []
          },
          "execution_count": 43
        },
        {
          "output_type": "display_data",
          "data": {
            "image/png": "[encoded data removed]",
            "text/plain": [
              "<matplotlib.figure.Figure at 0x7f4cf607c550>"
            ]
          },
          "metadata": {
            "tags": []
          }
        }
      ]
    },
    {
      "metadata": {
        "id": "sdaszodPgEH2",
        "colab_type": "text"
      },
      "cell_type": "markdown",
      "source": [
        "### Spearman rank correlation coefficient"
      ]
    },
    {
      "metadata": {
        "id": "dABRWbufOvll",
        "colab_type": "code",
        "colab": {}
      },
      "cell_type": "code",
      "source": [
        "def Spearman_NxN(exfiles, idcols, datacols, minval):\n",
        "  idcoltags = exfiles.columns[idcols]\n",
        "  print(\"DEBUG: idcols = %s ; datacols = %s\"%(str(idcols),str(datacols)))\n",
        "  print(\"DEBUG: idcoltags = %s\"%(str(idcoltags)))\n",
        "  results = pandas.DataFrame(index=range(int(exfiles.shape[0]**2/2)))    #N^2/2, upper bound\n",
        "  for tag in idcoltags:\n",
        "    results[tag+'A'] = pandas.Series()\n",
        "  for tag in idcoltags:\n",
        "    results[tag+'B'] = pandas.Series()\n",
        "  results['SpearmanRho'] = pandas.Series(dtype='float')\n",
        "  results['SpearmanP'] = pandas.Series(dtype='float')\n",
        "\n",
        "  n_out=0; n_nan=0; n_submin=0; n_err=0;\n",
        "  for iA in range(exfiles.shape[0]):\n",
        "    A = exfiles.iloc[iA,datacols]\n",
        "    for iB in range(iA+1, exfiles.shape[0]):\n",
        "      B = exfiles.iloc[iB,datacols]\n",
        "      try:\n",
        "        rho,pval = scipy.stats.spearmanr(A,B)\n",
        "      except Exception as e:\n",
        "        n_err+=1\n",
        "        continue\n",
        "      if numpy.isnan(rho):\n",
        "        n_nan+=1\n",
        "        continue\n",
        "      elif rho<minval:\n",
        "        n_submin+=1\n",
        "        continue\n",
        "      idvalsA = exfiles.iloc[iA,idcols].tolist()\n",
        "      idvalsB = exfiles.iloc[iB,idcols].tolist()\n",
        "      j=0\n",
        "      for idval in idvalsA+idvalsB:\n",
        "        results.iloc[n_out,j] = idval\n",
        "        j+=1\n",
        "      results.iloc[n_out,j] = rho\n",
        "      results.iloc[n_out,j+1] = pval\n",
        "      n_out+=1\n",
        "  results = results.dropna(how='any') #Remove unused rows\n",
        "  print(\"n_out: %d\"%(n_out))\n",
        "  print(\"n_nan: %d\"%(n_nan))\n",
        "  print(\"n_submin: %d\"%(n_submin))\n",
        "  print(\"n_err: %d\"%(n_err))\n",
        "  return(results)"
      ],
      "execution_count": 0,
      "outputs": []
    },
    {
      "metadata": {
        "id": "LUYWeq0oP92n",
        "colab_type": "code",
        "colab": {
          "base_uri": "https://localhost:8080/",
          "height": 530
        },
        "outputId": "e7d39bf3-8bf7-4486-80a3-5f3891016113"
      },
      "cell_type": "code",
      "source": [
        "results_Spearman = Spearman_NxN(exfiles, list(range(4)), list(range(4,exfiles.shape[1])), 0.5)\n",
        "results_Spearman.head()"
      ],
      "execution_count": 49,
      "outputs": [
        {
          "output_type": "stream",
          "text": [
            "DEBUG: Spearman_NxN IN: nrows = 246, cols: ['ENSG', 'HGNC', 'NCBI', 'SEX', 'Adipose - Visceral (Omentum)', 'Adrenal Gland', 'Artery - Aorta', 'Artery - Coronary', 'Artery - Tibial', 'Bladder', 'Brain - Cerebellum', 'Brain - Cortex', 'Colon - Sigmoid', 'Colon - Transverse', 'Esophagus - Gastroesophageal Junction', 'Esophagus - Mucosa', 'Esophagus - Muscularis', 'Heart - Atrial Appendage', 'Heart - Left Ventricle', 'Kidney - Cortex', 'Liver', 'Lung', 'Minor Salivary Gland', 'Muscle - Skeletal', 'Nerve - Tibial', 'Pancreas', 'Pituitary', 'Skin - Not Sun Exposed (Suprapubic)', 'Skin - Sun Exposed (Lower leg)', 'Small Intestine - Terminal Ileum', 'Spleen', 'Stomach', 'Thyroid']\n",
            "DEBUG: idcols = [0, 1, 2, 3] ; datacols = [4, 5, 6, 7, 8, 9, 10, 11, 12, 13, 14, 15, 16, 17, 18, 19, 20, 21, 22, 23, 24, 25, 26, 27, 28, 29, 30, 31, 32]\n",
            "DEBUG: idcoltags = Index(['ENSG', 'HGNC', 'NCBI', 'SEX'], dtype='object')\n"
          ],
          "name": "stdout"
        },
        {
          "output_type": "stream",
          "text": [
            "/usr/local/lib/python3.6/dist-packages/numpy/lib/function_base.py:3183: RuntimeWarning: invalid value encountered in true_divide\n",
            "  c /= stddev[:, None]\n",
            "/usr/local/lib/python3.6/dist-packages/numpy/lib/function_base.py:3184: RuntimeWarning: invalid value encountered in true_divide\n",
            "  c /= stddev[None, :]\n",
            "/usr/local/lib/python3.6/dist-packages/scipy/stats/_distn_infrastructure.py:879: RuntimeWarning: invalid value encountered in greater\n",
            "  return (self.a < x) & (x < self.b)\n",
            "/usr/local/lib/python3.6/dist-packages/scipy/stats/_distn_infrastructure.py:879: RuntimeWarning: invalid value encountered in less\n",
            "  return (self.a < x) & (x < self.b)\n",
            "/usr/local/lib/python3.6/dist-packages/scipy/stats/_distn_infrastructure.py:1818: RuntimeWarning: invalid value encountered in less_equal\n",
            "  cond2 = cond0 & (x <= self.a)\n"
          ],
          "name": "stderr"
        },
        {
          "output_type": "stream",
          "text": [
            "n_out: 1670\n",
            "n_nan: 345\n",
            "n_submin: 13036\n",
            "n_err: 15084\n"
          ],
          "name": "stdout"
        },
        {
          "output_type": "execute_result",
          "data": {
            "text/html": [
              "<div>\n",
              "<style scoped>\n",
              "    .dataframe tbody tr th:only-of-type {\n",
              "        vertical-align: middle;\n",
              "    }\n",
              "\n",
              "    .dataframe tbody tr th {\n",
              "        vertical-align: top;\n",
              "    }\n",
              "\n",
              "    .dataframe thead th {\n",
              "        text-align: right;\n",
              "    }\n",
              "</style>\n",
              "<table border=\"1\" class=\"dataframe\">\n",
              "  <thead>\n",
              "    <tr style=\"text-align: right;\">\n",
              "      <th></th>\n",
              "      <th>ENSGA</th>\n",
              "      <th>HGNCA</th>\n",
              "      <th>NCBIA</th>\n",
              "      <th>SEXA</th>\n",
              "      <th>ENSGB</th>\n",
              "      <th>HGNCB</th>\n",
              "      <th>NCBIB</th>\n",
              "      <th>SEXB</th>\n",
              "      <th>SpearmanRho</th>\n",
              "      <th>SpearmanP</th>\n",
              "    </tr>\n",
              "  </thead>\n",
              "  <tbody>\n",
              "    <tr>\n",
              "      <th>0</th>\n",
              "      <td>ENSG00000039139.9</td>\n",
              "      <td>DNAH5</td>\n",
              "      <td>1767</td>\n",
              "      <td>female</td>\n",
              "      <td>ENSG00000039139.9</td>\n",
              "      <td>DNAH5</td>\n",
              "      <td>1767</td>\n",
              "      <td>male</td>\n",
              "      <td>0.984236</td>\n",
              "      <td>7.490236e-22</td>\n",
              "    </tr>\n",
              "    <tr>\n",
              "      <th>1</th>\n",
              "      <td>ENSG00000039139.9</td>\n",
              "      <td>DNAH5</td>\n",
              "      <td>1767</td>\n",
              "      <td>female</td>\n",
              "      <td>ENSG00000132911.4</td>\n",
              "      <td>NMUR2</td>\n",
              "      <td>56923</td>\n",
              "      <td>female</td>\n",
              "      <td>0.554013</td>\n",
              "      <td>1.819873e-03</td>\n",
              "    </tr>\n",
              "    <tr>\n",
              "      <th>2</th>\n",
              "      <td>ENSG00000039139.9</td>\n",
              "      <td>DNAH5</td>\n",
              "      <td>1767</td>\n",
              "      <td>female</td>\n",
              "      <td>ENSG00000147003.5</td>\n",
              "      <td>TMEM27</td>\n",
              "      <td>57393</td>\n",
              "      <td>female</td>\n",
              "      <td>0.674714</td>\n",
              "      <td>5.962736e-05</td>\n",
              "    </tr>\n",
              "    <tr>\n",
              "      <th>3</th>\n",
              "      <td>ENSG00000039139.9</td>\n",
              "      <td>DNAH5</td>\n",
              "      <td>1767</td>\n",
              "      <td>female</td>\n",
              "      <td>ENSG00000147003.5</td>\n",
              "      <td>TMEM27</td>\n",
              "      <td>57393</td>\n",
              "      <td>male</td>\n",
              "      <td>0.648768</td>\n",
              "      <td>1.408007e-04</td>\n",
              "    </tr>\n",
              "    <tr>\n",
              "      <th>4</th>\n",
              "      <td>ENSG00000039139.9</td>\n",
              "      <td>DNAH5</td>\n",
              "      <td>1767</td>\n",
              "      <td>female</td>\n",
              "      <td>ENSG00000152128.13</td>\n",
              "      <td>TMEM163</td>\n",
              "      <td>81615</td>\n",
              "      <td>female</td>\n",
              "      <td>0.547783</td>\n",
              "      <td>2.098437e-03</td>\n",
              "    </tr>\n",
              "  </tbody>\n",
              "</table>\n",
              "</div>"
            ],
            "text/plain": [
              "               ENSGA  HGNCA NCBIA    SEXA               ENSGB    HGNCB  NCBIB  \\\n",
              "0  ENSG00000039139.9  DNAH5  1767  female   ENSG00000039139.9    DNAH5   1767   \n",
              "1  ENSG00000039139.9  DNAH5  1767  female   ENSG00000132911.4    NMUR2  56923   \n",
              "2  ENSG00000039139.9  DNAH5  1767  female   ENSG00000147003.5   TMEM27  57393   \n",
              "3  ENSG00000039139.9  DNAH5  1767  female   ENSG00000147003.5   TMEM27  57393   \n",
              "4  ENSG00000039139.9  DNAH5  1767  female  ENSG00000152128.13  TMEM163  81615   \n",
              "\n",
              "     SEXB  SpearmanRho     SpearmanP  \n",
              "0    male     0.984236  7.490236e-22  \n",
              "1  female     0.554013  1.819873e-03  \n",
              "2  female     0.674714  5.962736e-05  \n",
              "3    male     0.648768  1.408007e-04  \n",
              "4  female     0.547783  2.098437e-03  "
            ]
          },
          "metadata": {
            "tags": []
          },
          "execution_count": 49
        }
      ]
    },
    {
      "metadata": {
        "id": "AujQTE-tWbN1",
        "colab_type": "code",
        "colab": {
          "base_uri": "https://localhost:8080/",
          "height": 365
        },
        "outputId": "befe0f51-906a-4245-bd44-ad069e332bfc"
      },
      "cell_type": "code",
      "source": [
        "results_Spearman.plot.hist(y='SpearmanRho')"
      ],
      "execution_count": 54,
      "outputs": [
        {
          "output_type": "execute_result",
          "data": {
            "text/plain": [
              "<matplotlib.axes._subplots.AxesSubplot at 0x7f4cf4d88048>"
            ]
          },
          "metadata": {
            "tags": []
          },
          "execution_count": 54
        },
        {
          "output_type": "display_data",
          "data": {
            "image/png": "[encoded data removed]",
            "text/plain": [
              "<matplotlib.figure.Figure at 0x7f4cf4d912e8>"
            ]
          },
          "metadata": {
            "tags": []
          }
        }
      ]
    },
    {
      "metadata": {
        "id": "ooGwq_WFgNsl",
        "colab_type": "text"
      },
      "cell_type": "markdown",
      "source": [
        "### Tanimoto similarity\n",
        "There is not a universally accepted definition of Tanimoto similarity for real valued vectors, as indicated by the [Jaccard index Wikipedia page](https://en.wikipedia.org/wiki/Jaccard_index). Generalizing from the bitvector form, we use the ratio of (in common) to (could be in common), using the vector dot products:\n",
        "\n",
        "> ## $ sim = \\frac{A * B}{|A|^2 + |B|^2 - A*B} $\n",
        "\n",
        "Function range [0,1]. Unlike Cartesian distance, Jaccard/Tanimoto normalizes for vector size."
      ]
    },
    {
      "metadata": {
        "id": "UHlk2SqzSDEf",
        "colab_type": "code",
        "colab": {}
      },
      "cell_type": "code",
      "source": [
        "def Tanimoto_NxN(exfiles, idcols, datacols, minval):\n",
        "  idcoltags = exfiles.columns[idcols]\n",
        "  results = pandas.DataFrame(index=range(int(exfiles.shape[0]**2/2)))    #N^2/2, upper bound\n",
        "  for tag in idcoltags:\n",
        "    results[tag+'A'] = pandas.Series()\n",
        "  for tag in idcoltags:\n",
        "    results[tag+'B'] = pandas.Series()\n",
        "  results['Tanimoto'] = pandas.Series(dtype='float')\n",
        "\n",
        "  #First compute |V|^2 for each vector.\n",
        "  VV = numpy.ndarray(shape=(exfiles.shape[0],1), dtype=float)\n",
        "  for i in range(exfiles.shape[0]):\n",
        "    V = exfiles.iloc[i,datacols]\n",
        "    VV[i] = numpy.dot(V,V)\n",
        "\n",
        "  n_out=0; n_nan=0; n_submin=0;\n",
        "  for iA in range(exfiles.shape[0]):\n",
        "    A = exfiles.iloc[iA,datacols]\n",
        "    for iB in range(iA+1, exfiles.shape[0]):\n",
        "      B = exfiles.iloc[iB,datacols]\n",
        "      AA = VV[iA]\n",
        "      BB = VV[iB]\n",
        "      AB = numpy.dot(A,B)\n",
        "      den = AA + BB - AB\n",
        "      t = (AB / den) if den>0 else numpy.nan\n",
        "      if numpy.isnan(t):\n",
        "        n_nan+=1\n",
        "        continue\n",
        "      elif t<minval:\n",
        "        n_submin+=1\n",
        "        continue\n",
        "      idvalsA = exfiles.iloc[iA,idcols].tolist()\n",
        "      idvalsB = exfiles.iloc[iB,idcols].tolist()\n",
        "      j=0\n",
        "      for idval in idvalsA+idvalsB:\n",
        "        results.iloc[n_out,j] = idval\n",
        "        j+=1\n",
        "      results.iloc[n_out,j] = t\n",
        "      n_out+=1\n",
        "  results = results.dropna(how='any') #Remove unused rows\n",
        "  print(\"n_out: %d\"%(n_out))\n",
        "  print(\"n_nan: %d\"%(n_nan))\n",
        "  print(\"n_submin: %d\"%(n_submin))\n",
        "  return(results)"
      ],
      "execution_count": 0,
      "outputs": []
    },
    {
      "metadata": {
        "id": "bgdWty4vUPjl",
        "colab_type": "code",
        "colab": {
          "base_uri": "https://localhost:8080/",
          "height": 258
        },
        "outputId": "57b7800f-e975-4ea7-d55f-a3c51f840eab"
      },
      "cell_type": "code",
      "source": [
        "results_Tanimoto = Tanimoto_NxN(exfiles, list(range(4)), list(range(4,exfiles.shape[1])), 0.5)\n",
        "results_Tanimoto.head()"
      ],
      "execution_count": 53,
      "outputs": [
        {
          "output_type": "stream",
          "text": [
            "n_out: 520\n",
            "n_nan: 15085\n",
            "n_submin: 14530\n"
          ],
          "name": "stdout"
        },
        {
          "output_type": "execute_result",
          "data": {
            "text/html": [
              "<div>\n",
              "<style scoped>\n",
              "    .dataframe tbody tr th:only-of-type {\n",
              "        vertical-align: middle;\n",
              "    }\n",
              "\n",
              "    .dataframe tbody tr th {\n",
              "        vertical-align: top;\n",
              "    }\n",
              "\n",
              "    .dataframe thead th {\n",
              "        text-align: right;\n",
              "    }\n",
              "</style>\n",
              "<table border=\"1\" class=\"dataframe\">\n",
              "  <thead>\n",
              "    <tr style=\"text-align: right;\">\n",
              "      <th></th>\n",
              "      <th>ENSGA</th>\n",
              "      <th>HGNCA</th>\n",
              "      <th>NCBIA</th>\n",
              "      <th>SEXA</th>\n",
              "      <th>ENSGB</th>\n",
              "      <th>HGNCB</th>\n",
              "      <th>NCBIB</th>\n",
              "      <th>SEXB</th>\n",
              "      <th>Tanimoto</th>\n",
              "    </tr>\n",
              "  </thead>\n",
              "  <tbody>\n",
              "    <tr>\n",
              "      <th>0</th>\n",
              "      <td>ENSG00000039139.9</td>\n",
              "      <td>DNAH5</td>\n",
              "      <td>1767</td>\n",
              "      <td>female</td>\n",
              "      <td>ENSG00000039139.9</td>\n",
              "      <td>DNAH5</td>\n",
              "      <td>1767</td>\n",
              "      <td>male</td>\n",
              "      <td>0.954722</td>\n",
              "    </tr>\n",
              "    <tr>\n",
              "      <th>1</th>\n",
              "      <td>ENSG00000039139.9</td>\n",
              "      <td>DNAH5</td>\n",
              "      <td>1767</td>\n",
              "      <td>male</td>\n",
              "      <td>ENSG00000203872.6</td>\n",
              "      <td>C6orf163</td>\n",
              "      <td>206412</td>\n",
              "      <td>female</td>\n",
              "      <td>0.526465</td>\n",
              "    </tr>\n",
              "    <tr>\n",
              "      <th>2</th>\n",
              "      <td>ENSG00000039139.9</td>\n",
              "      <td>DNAH5</td>\n",
              "      <td>1767</td>\n",
              "      <td>male</td>\n",
              "      <td>ENSG00000203872.6</td>\n",
              "      <td>C6orf163</td>\n",
              "      <td>206412</td>\n",
              "      <td>male</td>\n",
              "      <td>0.518786</td>\n",
              "    </tr>\n",
              "    <tr>\n",
              "      <th>3</th>\n",
              "      <td>ENSG00000082516.8</td>\n",
              "      <td>GEMIN5</td>\n",
              "      <td>25929</td>\n",
              "      <td>female</td>\n",
              "      <td>ENSG00000082516.8</td>\n",
              "      <td>GEMIN5</td>\n",
              "      <td>25929</td>\n",
              "      <td>male</td>\n",
              "      <td>0.991732</td>\n",
              "    </tr>\n",
              "    <tr>\n",
              "      <th>4</th>\n",
              "      <td>ENSG00000082516.8</td>\n",
              "      <td>GEMIN5</td>\n",
              "      <td>25929</td>\n",
              "      <td>female</td>\n",
              "      <td>ENSG00000100580.7</td>\n",
              "      <td>TMED8</td>\n",
              "      <td>283578</td>\n",
              "      <td>female</td>\n",
              "      <td>0.839777</td>\n",
              "    </tr>\n",
              "  </tbody>\n",
              "</table>\n",
              "</div>"
            ],
            "text/plain": [
              "               ENSGA   HGNCA  NCBIA    SEXA              ENSGB     HGNCB  \\\n",
              "0  ENSG00000039139.9   DNAH5   1767  female  ENSG00000039139.9     DNAH5   \n",
              "1  ENSG00000039139.9   DNAH5   1767    male  ENSG00000203872.6  C6orf163   \n",
              "2  ENSG00000039139.9   DNAH5   1767    male  ENSG00000203872.6  C6orf163   \n",
              "3  ENSG00000082516.8  GEMIN5  25929  female  ENSG00000082516.8    GEMIN5   \n",
              "4  ENSG00000082516.8  GEMIN5  25929  female  ENSG00000100580.7     TMED8   \n",
              "\n",
              "    NCBIB    SEXB  Tanimoto  \n",
              "0    1767    male  0.954722  \n",
              "1  206412  female  0.526465  \n",
              "2  206412    male  0.518786  \n",
              "3   25929    male  0.991732  \n",
              "4  283578  female  0.839777  "
            ]
          },
          "metadata": {
            "tags": []
          },
          "execution_count": 53
        }
      ]
    },
    {
      "metadata": {
        "id": "DyVXeCUdWh1e",
        "colab_type": "code",
        "colab": {
          "base_uri": "https://localhost:8080/",
          "height": 365
        },
        "outputId": "8c82dbcb-7328-4485-c30e-dde8bf1b76d3"
      },
      "cell_type": "code",
      "source": [
        "results_Tanimoto.plot.hist(y='Tanimoto')"
      ],
      "execution_count": 55,
      "outputs": [
        {
          "output_type": "execute_result",
          "data": {
            "text/plain": [
              "<matplotlib.axes._subplots.AxesSubplot at 0x7f4cf4dbf5c0>"
            ]
          },
          "metadata": {
            "tags": []
          },
          "execution_count": 55
        },
        {
          "output_type": "display_data",
          "data": {
            "image/png": "[encoded data removed]",
            "text/plain": [
              "<matplotlib.figure.Figure at 0x7f4cf4d5d630>"
            ]
          },
          "metadata": {
            "tags": []
          }
        }
      ]
    },
    {
      "metadata": {
        "id": "K-EziemNZubc",
        "colab_type": "text"
      },
      "cell_type": "markdown",
      "source": [
        "### Area Under Line Segment (AULS)"
      ]
    },
    {
      "metadata": {
        "id": "8yF-WCtyW-QM",
        "colab_type": "code",
        "colab": {}
      },
      "cell_type": "code",
      "source": [
        "def AULS(y1, y2, w):\n",
        "  a = min(y1,y2) * w\n",
        "  a = a + 0.5 * w * abs(y1-y2)\n",
        "  return(a)"
      ],
      "execution_count": 0,
      "outputs": []
    },
    {
      "metadata": {
        "id": "0JQtzJM8Zopj",
        "colab_type": "text"
      },
      "cell_type": "markdown",
      "source": [
        "### Area Between Curves (ABC)\n",
        " * Novel metric proposed by Giovanni Bocci.\n",
        " * (Sum and subtract triangle areas.) "
      ]
    },
    {
      "metadata": {
        "id": "FgEOCkXRW0kL",
        "colab_type": "code",
        "colab": {}
      },
      "cell_type": "code",
      "source": [
        "def ABC(A,B):\n",
        "  abc = 0.0\n",
        "  for i in range(len(A)-1):\n",
        "    Amid = numpy.mean(A[i:i+1])\n",
        "    Bmid = numpy.mean(B[i:i+1])\n",
        "    if (A[i]>=B[i]):\n",
        "      if (A[i+1]>=B[i+1]):\n",
        "        abc = abc + (AULS(A[i], A[i+1], 1) - AULS(B[i], B[i+1], 1))\n",
        "      else:\n",
        "        abc = abc + (AULS(A[i], Amid, .5) - AULS(B[i], Bmid , .5))\n",
        "        abc = abc + (AULS(Bmid, B[i+1], .5) - AULS(Amid, A[i+1], .5))\n",
        "    else:\n",
        "      if (A[i+1]<B[i+1]):\n",
        "        abc = abc + (AULS(B[i], B[i+1], 1) - AULS(A[i], A[i+1], 1))\n",
        "      else:\n",
        "        abc = abc + (AULS(B[i], Bmid, .5) - AULS(A[i], Amid , .5))\n",
        "        abc = abc + (AULS(Amid, A[i+1], .5) - AULS(Bmid, B[i+1], .5))\n",
        "  return(abc)"
      ],
      "execution_count": 0,
      "outputs": []
    },
    {
      "metadata": {
        "id": "iCmCfhDeXEyE",
        "colab_type": "code",
        "colab": {}
      },
      "cell_type": "code",
      "source": [
        "def ABC_NxN(exfiles, idcols, datacols, minval):\n",
        "  idcoltags = exfiles.columns[idcols]\n",
        "  results = pandas.DataFrame(index=range(int(exfiles.shape[0]**2/2)))    #N^2/2, upper bound\n",
        "  for tag in idcoltags:\n",
        "    results[tag+'A'] = pandas.Series()\n",
        "  for tag in idcoltags:\n",
        "    results[tag+'B'] = pandas.Series()\n",
        "  results['ABC'] = pandas.Series(dtype='float')\n",
        "  results['ABC_sim'] = pandas.Series(dtype='float')\n",
        "  \n",
        "  n_out=0; n_nan=0; n_submin=0;\n",
        "  for iA in range(exfiles.shape[0]):\n",
        "    A = exfiles.iloc[iA,datacols]\n",
        "    for iB in range(iA+1, exfiles.shape[0]):\n",
        "      B = exfiles.iloc[iB,datacols]\n",
        "      abc = ABC(A,B)\n",
        "      abc_sim = (1 / (1 + abc/len(A)))\n",
        "      if numpy.isnan(abc_sim):\n",
        "        n_nan+=1\n",
        "        continue\n",
        "      elif abc_sim<minval:\n",
        "        n_submin+=1\n",
        "        continue\n",
        "      idvalsA = exfiles.iloc[iA,idcols].tolist()\n",
        "      idvalsB = exfiles.iloc[iB,idcols].tolist()\n",
        "      j=0\n",
        "      for idval in idvalsA+idvalsB:\n",
        "        results.iloc[n_out,j] = idval\n",
        "        j+=1\n",
        "      results.iloc[n_out,j] = abc\n",
        "      results.iloc[n_out,j+1] = abc_sim\n",
        "      n_out+=1\n",
        "  results = results.dropna(how='any') #Remove unused rows\n",
        "  print(\"n_out: %d\"%(n_out))\n",
        "  print(\"n_nan: %d\"%(n_nan))\n",
        "  print(\"n_submin: %d\"%(n_submin))\n",
        "  return(results)"
      ],
      "execution_count": 0,
      "outputs": []
    },
    {
      "metadata": {
        "id": "ZoJnrz2yXiPV",
        "colab_type": "code",
        "colab": {
          "base_uri": "https://localhost:8080/",
          "height": 258
        },
        "outputId": "667039ed-734a-4087-a2b2-02420697915e"
      },
      "cell_type": "code",
      "source": [
        "results_ABC = ABC_NxN(exfiles, list(range(4)), list(range(4,exfiles.shape[1])), 0.5)\n",
        "results_ABC.head()"
      ],
      "execution_count": 63,
      "outputs": [
        {
          "output_type": "stream",
          "text": [
            "n_out: 2804\n",
            "n_nan: 15084\n",
            "n_submin: 12247\n"
          ],
          "name": "stdout"
        },
        {
          "output_type": "execute_result",
          "data": {
            "text/html": [
              "<div>\n",
              "<style scoped>\n",
              "    .dataframe tbody tr th:only-of-type {\n",
              "        vertical-align: middle;\n",
              "    }\n",
              "\n",
              "    .dataframe tbody tr th {\n",
              "        vertical-align: top;\n",
              "    }\n",
              "\n",
              "    .dataframe thead th {\n",
              "        text-align: right;\n",
              "    }\n",
              "</style>\n",
              "<table border=\"1\" class=\"dataframe\">\n",
              "  <thead>\n",
              "    <tr style=\"text-align: right;\">\n",
              "      <th></th>\n",
              "      <th>ENSGA</th>\n",
              "      <th>HGNCA</th>\n",
              "      <th>NCBIA</th>\n",
              "      <th>SEXA</th>\n",
              "      <th>ENSGB</th>\n",
              "      <th>HGNCB</th>\n",
              "      <th>NCBIB</th>\n",
              "      <th>SEXB</th>\n",
              "      <th>ABC</th>\n",
              "      <th>ABC_sim</th>\n",
              "    </tr>\n",
              "  </thead>\n",
              "  <tbody>\n",
              "    <tr>\n",
              "      <th>0</th>\n",
              "      <td>ENSG00000039139.9</td>\n",
              "      <td>DNAH5</td>\n",
              "      <td>1767</td>\n",
              "      <td>female</td>\n",
              "      <td>ENSG00000039139.9</td>\n",
              "      <td>DNAH5</td>\n",
              "      <td>1767</td>\n",
              "      <td>male</td>\n",
              "      <td>2.26225</td>\n",
              "      <td>0.927636</td>\n",
              "    </tr>\n",
              "    <tr>\n",
              "      <th>1</th>\n",
              "      <td>ENSG00000039139.9</td>\n",
              "      <td>DNAH5</td>\n",
              "      <td>1767</td>\n",
              "      <td>female</td>\n",
              "      <td>ENSG00000101200.5</td>\n",
              "      <td>AVP</td>\n",
              "      <td>551</td>\n",
              "      <td>female</td>\n",
              "      <td>11.74650</td>\n",
              "      <td>0.711718</td>\n",
              "    </tr>\n",
              "    <tr>\n",
              "      <th>2</th>\n",
              "      <td>ENSG00000039139.9</td>\n",
              "      <td>DNAH5</td>\n",
              "      <td>1767</td>\n",
              "      <td>female</td>\n",
              "      <td>ENSG00000101200.5</td>\n",
              "      <td>AVP</td>\n",
              "      <td>551</td>\n",
              "      <td>male</td>\n",
              "      <td>12.07825</td>\n",
              "      <td>0.705970</td>\n",
              "    </tr>\n",
              "    <tr>\n",
              "      <th>3</th>\n",
              "      <td>ENSG00000039139.9</td>\n",
              "      <td>DNAH5</td>\n",
              "      <td>1767</td>\n",
              "      <td>female</td>\n",
              "      <td>ENSG00000132911.4</td>\n",
              "      <td>NMUR2</td>\n",
              "      <td>56923</td>\n",
              "      <td>female</td>\n",
              "      <td>12.37625</td>\n",
              "      <td>0.700885</td>\n",
              "    </tr>\n",
              "    <tr>\n",
              "      <th>4</th>\n",
              "      <td>ENSG00000039139.9</td>\n",
              "      <td>DNAH5</td>\n",
              "      <td>1767</td>\n",
              "      <td>female</td>\n",
              "      <td>ENSG00000132911.4</td>\n",
              "      <td>NMUR2</td>\n",
              "      <td>56923</td>\n",
              "      <td>male</td>\n",
              "      <td>11.77875</td>\n",
              "      <td>0.711155</td>\n",
              "    </tr>\n",
              "  </tbody>\n",
              "</table>\n",
              "</div>"
            ],
            "text/plain": [
              "               ENSGA  HGNCA NCBIA    SEXA              ENSGB  HGNCB  NCBIB  \\\n",
              "0  ENSG00000039139.9  DNAH5  1767  female  ENSG00000039139.9  DNAH5   1767   \n",
              "1  ENSG00000039139.9  DNAH5  1767  female  ENSG00000101200.5    AVP    551   \n",
              "2  ENSG00000039139.9  DNAH5  1767  female  ENSG00000101200.5    AVP    551   \n",
              "3  ENSG00000039139.9  DNAH5  1767  female  ENSG00000132911.4  NMUR2  56923   \n",
              "4  ENSG00000039139.9  DNAH5  1767  female  ENSG00000132911.4  NMUR2  56923   \n",
              "\n",
              "     SEXB       ABC   ABC_sim  \n",
              "0    male   2.26225  0.927636  \n",
              "1  female  11.74650  0.711718  \n",
              "2    male  12.07825  0.705970  \n",
              "3  female  12.37625  0.700885  \n",
              "4    male  11.77875  0.711155  "
            ]
          },
          "metadata": {
            "tags": []
          },
          "execution_count": 63
        }
      ]
    },
    {
      "metadata": {
        "id": "8lEcyVBGfg-8",
        "colab_type": "code",
        "colab": {
          "base_uri": "https://localhost:8080/",
          "height": 297
        },
        "outputId": "b2d9c168-be48-4813-a1dc-4385617c8177"
      },
      "cell_type": "code",
      "source": [
        "results_ABC.describe()"
      ],
      "execution_count": 65,
      "outputs": [
        {
          "output_type": "execute_result",
          "data": {
            "text/html": [
              "<div>\n",
              "<style scoped>\n",
              "    .dataframe tbody tr th:only-of-type {\n",
              "        vertical-align: middle;\n",
              "    }\n",
              "\n",
              "    .dataframe tbody tr th {\n",
              "        vertical-align: top;\n",
              "    }\n",
              "\n",
              "    .dataframe thead th {\n",
              "        text-align: right;\n",
              "    }\n",
              "</style>\n",
              "<table border=\"1\" class=\"dataframe\">\n",
              "  <thead>\n",
              "    <tr style=\"text-align: right;\">\n",
              "      <th></th>\n",
              "      <th>ABC</th>\n",
              "      <th>ABC_sim</th>\n",
              "    </tr>\n",
              "  </thead>\n",
              "  <tbody>\n",
              "    <tr>\n",
              "      <th>count</th>\n",
              "      <td>2804.000000</td>\n",
              "      <td>2804.000000</td>\n",
              "    </tr>\n",
              "    <tr>\n",
              "      <th>mean</th>\n",
              "      <td>9.251722</td>\n",
              "      <td>0.786702</td>\n",
              "    </tr>\n",
              "    <tr>\n",
              "      <th>std</th>\n",
              "      <td>7.703995</td>\n",
              "      <td>0.143633</td>\n",
              "    </tr>\n",
              "    <tr>\n",
              "      <th>min</th>\n",
              "      <td>0.000000</td>\n",
              "      <td>0.500980</td>\n",
              "    </tr>\n",
              "    <tr>\n",
              "      <th>25%</th>\n",
              "      <td>2.866250</td>\n",
              "      <td>0.652870</td>\n",
              "    </tr>\n",
              "    <tr>\n",
              "      <th>50%</th>\n",
              "      <td>6.198250</td>\n",
              "      <td>0.823905</td>\n",
              "    </tr>\n",
              "    <tr>\n",
              "      <th>75%</th>\n",
              "      <td>15.419250</td>\n",
              "      <td>0.910054</td>\n",
              "    </tr>\n",
              "    <tr>\n",
              "      <th>max</th>\n",
              "      <td>28.886500</td>\n",
              "      <td>1.000000</td>\n",
              "    </tr>\n",
              "  </tbody>\n",
              "</table>\n",
              "</div>"
            ],
            "text/plain": [
              "               ABC      ABC_sim\n",
              "count  2804.000000  2804.000000\n",
              "mean      9.251722     0.786702\n",
              "std       7.703995     0.143633\n",
              "min       0.000000     0.500980\n",
              "25%       2.866250     0.652870\n",
              "50%       6.198250     0.823905\n",
              "75%      15.419250     0.910054\n",
              "max      28.886500     1.000000"
            ]
          },
          "metadata": {
            "tags": []
          },
          "execution_count": 65
        }
      ]
    },
    {
      "metadata": {
        "id": "g94PWvQtfYbz",
        "colab_type": "code",
        "colab": {
          "base_uri": "https://localhost:8080/",
          "height": 365
        },
        "outputId": "549b074a-1941-41b6-9e89-68987b665890"
      },
      "cell_type": "code",
      "source": [
        "results_ABC.plot.hist(y='ABC_sim')"
      ],
      "execution_count": 64,
      "outputs": [
        {
          "output_type": "execute_result",
          "data": {
            "text/plain": [
              "<matplotlib.axes._subplots.AxesSubplot at 0x7f4cf4e15940>"
            ]
          },
          "metadata": {
            "tags": []
          },
          "execution_count": 64
        },
        {
          "output_type": "display_data",
          "data": {
            "image/png": "[encoded data removed]",
            "text/plain": [
              "<matplotlib.figure.Figure at 0x7f4cf4dd4080>"
            ]
          },
          "metadata": {
            "tags": []
          }
        }
      ]
    }
  ]
}