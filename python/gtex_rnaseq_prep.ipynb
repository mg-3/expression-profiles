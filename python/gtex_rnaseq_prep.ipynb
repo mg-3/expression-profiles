{
  "nbformat": 4,
  "nbformat_minor": 0,
  "metadata": {
    "colab": {
      "name": "gtex_rnaseq_prep.ipynb",
      "version": "0.3.2",
      "views": {},
      "default_view": {},
      "provenance": []
    },
    "kernelspec": {
      "name": "python3",
      "display_name": "Python 3"
    }
  },
  "cells": [
    {
      "metadata": {
        "id": "vB7J5P7Vszpg",
        "colab_type": "text"
      },
      "cell_type": "markdown",
      "source": [
        "<table width=\"100%\" style=\"border:none\">\n",
        "  <tr>\n",
        "    <td valign=\"top\">\n",
        "      <h1>GTEx RNAseq Preprocessing</h1>\n",
        "      <ul>\n",
        "<li>Author: Jeremy Yang\n",
        "<li>Based on R code by Oleg Ursu.\n",
        "<li>Clean, tidy, reshape RNAseq expression data.\n",
        "<li>Compute tissue specificity index (Yanai et al., 2004).\n",
        "<li>Save files for downstream SABV expression profile analytics.\n",
        "<li>[About Colaboratory](https://research.google.com/colaboratory/faq.html).\n",
        "      </ul>\n",
        "    </td>\n",
        "    <td align=\"right\">\n",
        "        <p>NIH Data Commons: Team Helium</p>\n",
        "<img style=\"float:right\" width=\"100\" src=\"https://avatars2.githubusercontent.com/u/33356654?s=200&v=4\" alt=\"HeliumDataCommons Logo\" />\n",
        "    </td>\n",
        "  </tr>\n",
        "  </table>\n",
        " "
      ]
    },
    {
      "metadata": {
        "id": "StWvpEEEef7p",
        "colab_type": "code",
        "colab": {
          "autoexec": {
            "startup": false,
            "wait_interval": 0
          },
          "base_uri": "https://localhost:8080/",
          "height": 71
        },
        "outputId": "03280d95-3a6a-40ce-d3fc-830ef1a02e48",
        "executionInfo": {
          "status": "ok",
          "timestamp": 1529943886267,
          "user_tz": 360,
          "elapsed": 321,
          "user": {
            "displayName": "Jeremy Yang",
            "photoUrl": "//lh4.googleusercontent.com/-oulNnl1aBlA/AAAAAAAAAAI/AAAAAAAAAm4/uOczRUUkS4g/s50-c-k-no/photo.jpg",
            "userId": "102807397641040966212"
          }
        }
      },
      "cell_type": "code",
      "source": [
        "import sys,os,re,time,io\n",
        "import urllib.request\n",
        "import google.colab\n",
        "import numpy,scipy\n",
        "import pandas\n",
        "print('Python: %s\\nPandas: %s'%(sys.version,pandas.__version__))"
      ],
      "execution_count": 76,
      "outputs": [
        {
          "output_type": "stream",
          "text": [
            "Python: 3.6.3 (default, Oct  3 2017, 21:45:48) \n",
            "[GCC 7.2.0]\n",
            "Pandas: 0.22.0\n"
          ],
          "name": "stdout"
        }
      ]
    },
    {
      "metadata": {
        "id": "cwKhzyFo1L21",
        "colab_type": "text"
      },
      "cell_type": "markdown",
      "source": [
        "### Upload subjects datafile:\n",
        "(GTEx_v7_Annotations_SubjectPhenotypesDS.txt)"
      ]
    },
    {
      "metadata": {
        "id": "1SMOnt2P1Zfv",
        "colab_type": "code",
        "colab": {
          "autoexec": {
            "startup": false,
            "wait_interval": 0
          },
          "base_uri": "https://localhost:8080/",
          "height": 127
        },
        "outputId": "9ada9d03-cfdc-4784-e7e4-e99d05b0987b",
        "executionInfo": {
          "status": "ok",
          "timestamp": 1529936889100,
          "user_tz": 360,
          "elapsed": 6621,
          "user": {
            "displayName": "Jeremy Yang",
            "photoUrl": "//lh4.googleusercontent.com/-oulNnl1aBlA/AAAAAAAAAAI/AAAAAAAAAm4/uOczRUUkS4g/s50-c-k-no/photo.jpg",
            "userId": "102807397641040966212"
          }
        }
      },
      "cell_type": "code",
      "source": [
        "print('Upload GTEx Subjects datafile: ')\n",
        "uploaded = google.colab.files.upload()\n",
        "fn = list(uploaded.keys())[0]\n",
        "print('Uploaded \"{name}\" with {length} bytes'.format(name=fn, length=len(uploaded[fn])))\n",
        "subjects = pandas.read_csv(io.StringIO(uploaded[fn].decode('utf8')), sep='\\t', index_col='SUBJID')\n",
        "print(\"dataset nrows: %d ; ncols: %d:\"%(subjects.shape[0],subjects.shape[1]), file=sys.stderr)"
      ],
      "execution_count": 2,
      "outputs": [
        {
          "output_type": "stream",
          "text": [
            "Upload GTEx Subjects datafile: \n"
          ],
          "name": "stdout"
        },
        {
          "output_type": "display_data",
          "data": {
            "text/html": [
              "\n",
              "     <input type=\"file\" id=\"files-acd66010-f77a-491f-b9bc-fd231a8fbb7a\" name=\"files[]\" multiple disabled />\n",
              "     <output id=\"result-acd66010-f77a-491f-b9bc-fd231a8fbb7a\">\n",
              "      Upload widget is only available when the cell has been executed in the\n",
              "      current browser session. Please rerun this cell to enable.\n",
              "      </output>\n",
              "      <script src=\"/nbextensions/google.colab/files.js\"></script> "
            ],
            "text/plain": [
              "<IPython.core.display.HTML object>"
            ]
          },
          "metadata": {
            "tags": []
          }
        },
        {
          "output_type": "stream",
          "text": [
            "Saving GTEx_v7_Annotations_SubjectPhenotypesDS.txt to GTEx_v7_Annotations_SubjectPhenotypesDS.txt\n",
            "Uploaded \"GTEx_v7_Annotations_SubjectPhenotypesDS.txt\" with 15485 bytes\n"
          ],
          "name": "stdout"
        },
        {
          "output_type": "stream",
          "text": [
            "dataset nrows: 752 ; ncols: 3:\n"
          ],
          "name": "stderr"
        }
      ]
    },
    {
      "metadata": {
        "id": "zLyV_boFRtSO",
        "colab_type": "code",
        "colab": {
          "autoexec": {
            "startup": false,
            "wait_interval": 0
          },
          "base_uri": "https://localhost:8080/",
          "height": 235
        },
        "outputId": "36cff513-cba5-4b6c-88be-372a69301115",
        "executionInfo": {
          "status": "ok",
          "timestamp": 1529936890654,
          "user_tz": 360,
          "elapsed": 346,
          "user": {
            "displayName": "Jeremy Yang",
            "photoUrl": "//lh4.googleusercontent.com/-oulNnl1aBlA/AAAAAAAAAAI/AAAAAAAAAm4/uOczRUUkS4g/s50-c-k-no/photo.jpg",
            "userId": "102807397641040966212"
          }
        }
      },
      "cell_type": "code",
      "source": [
        "subjects.head()"
      ],
      "execution_count": 3,
      "outputs": [
        {
          "output_type": "execute_result",
          "data": {
            "text/html": [
              "<div>\n",
              "<style scoped>\n",
              "    .dataframe tbody tr th:only-of-type {\n",
              "        vertical-align: middle;\n",
              "    }\n",
              "\n",
              "    .dataframe tbody tr th {\n",
              "        vertical-align: top;\n",
              "    }\n",
              "\n",
              "    .dataframe thead th {\n",
              "        text-align: right;\n",
              "    }\n",
              "</style>\n",
              "<table border=\"1\" class=\"dataframe\">\n",
              "  <thead>\n",
              "    <tr style=\"text-align: right;\">\n",
              "      <th></th>\n",
              "      <th>SEX</th>\n",
              "      <th>AGE</th>\n",
              "      <th>DTHHRDY</th>\n",
              "    </tr>\n",
              "    <tr>\n",
              "      <th>SUBJID</th>\n",
              "      <th></th>\n",
              "      <th></th>\n",
              "      <th></th>\n",
              "    </tr>\n",
              "  </thead>\n",
              "  <tbody>\n",
              "    <tr>\n",
              "      <th>GTEX-1117F</th>\n",
              "      <td>2</td>\n",
              "      <td>60-69</td>\n",
              "      <td>4.0</td>\n",
              "    </tr>\n",
              "    <tr>\n",
              "      <th>GTEX-111CU</th>\n",
              "      <td>1</td>\n",
              "      <td>50-59</td>\n",
              "      <td>0.0</td>\n",
              "    </tr>\n",
              "    <tr>\n",
              "      <th>GTEX-111FC</th>\n",
              "      <td>1</td>\n",
              "      <td>60-69</td>\n",
              "      <td>1.0</td>\n",
              "    </tr>\n",
              "    <tr>\n",
              "      <th>GTEX-111VG</th>\n",
              "      <td>1</td>\n",
              "      <td>60-69</td>\n",
              "      <td>3.0</td>\n",
              "    </tr>\n",
              "    <tr>\n",
              "      <th>GTEX-111YS</th>\n",
              "      <td>1</td>\n",
              "      <td>60-69</td>\n",
              "      <td>0.0</td>\n",
              "    </tr>\n",
              "  </tbody>\n",
              "</table>\n",
              "</div>"
            ],
            "text/plain": [
              "            SEX    AGE  DTHHRDY\n",
              "SUBJID                         \n",
              "GTEX-1117F    2  60-69      4.0\n",
              "GTEX-111CU    1  50-59      0.0\n",
              "GTEX-111FC    1  60-69      1.0\n",
              "GTEX-111VG    1  60-69      3.0\n",
              "GTEX-111YS    1  60-69      0.0"
            ]
          },
          "metadata": {
            "tags": []
          },
          "execution_count": 3
        }
      ]
    },
    {
      "metadata": {
        "id": "XDjnIBHN6PC2",
        "colab_type": "code",
        "colab": {
          "autoexec": {
            "startup": false,
            "wait_interval": 0
          },
          "base_uri": "https://localhost:8080/",
          "height": 143
        },
        "outputId": "6156843a-60b7-43f6-909f-0a9ded8ee8e2",
        "executionInfo": {
          "status": "ok",
          "timestamp": 1529936894196,
          "user_tz": 360,
          "elapsed": 349,
          "user": {
            "displayName": "Jeremy Yang",
            "photoUrl": "//lh4.googleusercontent.com/-oulNnl1aBlA/AAAAAAAAAAI/AAAAAAAAAm4/uOczRUUkS4g/s50-c-k-no/photo.jpg",
            "userId": "102807397641040966212"
          }
        }
      },
      "cell_type": "code",
      "source": [
        "subjects.AGE.value_counts().sort_index()"
      ],
      "execution_count": 4,
      "outputs": [
        {
          "output_type": "execute_result",
          "data": {
            "text/plain": [
              "20-29     58\n",
              "30-39     53\n",
              "40-49    124\n",
              "50-59    253\n",
              "60-69    241\n",
              "70-79     23\n",
              "Name: AGE, dtype: int64"
            ]
          },
          "metadata": {
            "tags": []
          },
          "execution_count": 4
        }
      ]
    },
    {
      "metadata": {
        "id": "00ru0X8O1yRw",
        "colab_type": "text"
      },
      "cell_type": "markdown",
      "source": [
        "### Keep only healthier subjects: \n",
        "(DTHHRDY = 4-point Hardy Scale Death Classification.)"
      ]
    },
    {
      "metadata": {
        "id": "DOhgbLkGBD3A",
        "colab_type": "code",
        "colab": {
          "autoexec": {
            "startup": false,
            "wait_interval": 0
          },
          "base_uri": "https://localhost:8080/",
          "height": 125
        },
        "outputId": "61f06478-ba32-40df-fddd-54416b11f955",
        "executionInfo": {
          "status": "ok",
          "timestamp": 1529936896460,
          "user_tz": 360,
          "elapsed": 330,
          "user": {
            "displayName": "Jeremy Yang",
            "photoUrl": "//lh4.googleusercontent.com/-oulNnl1aBlA/AAAAAAAAAAI/AAAAAAAAAm4/uOczRUUkS4g/s50-c-k-no/photo.jpg",
            "userId": "102807397641040966212"
          }
        }
      },
      "cell_type": "code",
      "source": [
        "print(\"Subjects with Hardy score > 2 or NA: %d (removing)\"%(subjects.query('DTHHRDY > 2').shape[0]), file=sys.stderr)\n",
        "subjects = subjects.query('DTHHRDY <= 2')\n",
        "print(\"dataset ncols: %d ; nrows: %d:\"%(subjects.shape[0],subjects.shape[1]), file=sys.stderr)\n",
        "subjects.DTHHRDY.value_counts(sort=True, dropna=False).sort_index()"
      ],
      "execution_count": 5,
      "outputs": [
        {
          "output_type": "stream",
          "text": [
            "Subjects with Hardy score > 2 or NA: 124 (removing)\n",
            "dataset ncols: 609 ; nrows: 3:\n"
          ],
          "name": "stderr"
        },
        {
          "output_type": "execute_result",
          "data": {
            "text/plain": [
              "0.0    390\n",
              "1.0     29\n",
              "2.0    190\n",
              "Name: DTHHRDY, dtype: int64"
            ]
          },
          "metadata": {
            "tags": []
          },
          "execution_count": 5
        }
      ]
    },
    {
      "metadata": {
        "id": "DQV5a6eVplg5",
        "colab_type": "text"
      },
      "cell_type": "markdown",
      "source": [
        "### Upload samples datafile:\n",
        "(GTEx_v7_Annotations_SampleAttributesDS.txt)"
      ]
    },
    {
      "metadata": {
        "id": "xfMAdBTnexYS",
        "colab_type": "code",
        "colab": {
          "autoexec": {
            "startup": false,
            "wait_interval": 0
          },
          "base_uri": "https://localhost:8080/",
          "height": 127
        },
        "outputId": "19dd200f-671a-4154-b54c-3f407c253e91",
        "executionInfo": {
          "status": "ok",
          "timestamp": 1529936934969,
          "user_tz": 360,
          "elapsed": 36106,
          "user": {
            "displayName": "Jeremy Yang",
            "photoUrl": "//lh4.googleusercontent.com/-oulNnl1aBlA/AAAAAAAAAAI/AAAAAAAAAm4/uOczRUUkS4g/s50-c-k-no/photo.jpg",
            "userId": "102807397641040966212"
          }
        }
      },
      "cell_type": "code",
      "source": [
        "print('Upload GTEx Samples datafile: ')\n",
        "uploaded = google.colab.files.upload()\n",
        "fn = list(uploaded.keys())[0]\n",
        "print('Uploaded \"{name}\" with {length} bytes'.format(name=fn, length=len(uploaded[fn])))\n",
        "samples = pandas.read_csv(io.StringIO(uploaded[fn].decode('utf8')), sep='\\t', index_col='SAMPID')\n",
        "samples = samples[['SMATSSCR', 'SMTS', 'SMTSD']]\n",
        "print(\"dataset nrows: %d ; ncols: %d:\"%(samples.shape[0],samples.shape[1]), file=sys.stderr)"
      ],
      "execution_count": 6,
      "outputs": [
        {
          "output_type": "stream",
          "text": [
            "Upload GTEx Samples datafile: \n"
          ],
          "name": "stdout"
        },
        {
          "output_type": "display_data",
          "data": {
            "text/html": [
              "\n",
              "     <input type=\"file\" id=\"files-810465df-762e-443b-9de4-72ab52bce6ed\" name=\"files[]\" multiple disabled />\n",
              "     <output id=\"result-810465df-762e-443b-9de4-72ab52bce6ed\">\n",
              "      Upload widget is only available when the cell has been executed in the\n",
              "      current browser session. Please rerun this cell to enable.\n",
              "      </output>\n",
              "      <script src=\"/nbextensions/google.colab/files.js\"></script> "
            ],
            "text/plain": [
              "<IPython.core.display.HTML object>"
            ]
          },
          "metadata": {
            "tags": []
          }
        },
        {
          "output_type": "stream",
          "text": [
            "Saving GTEx_v7_Annotations_SampleAttributesDS.txt to GTEx_v7_Annotations_SampleAttributesDS.txt\n",
            "Uploaded \"GTEx_v7_Annotations_SampleAttributesDS.txt\" with 8281415 bytes\n"
          ],
          "name": "stdout"
        },
        {
          "output_type": "stream",
          "text": [
            "dataset nrows: 15598 ; ncols: 3:\n"
          ],
          "name": "stderr"
        }
      ]
    },
    {
      "metadata": {
        "id": "JVR2KlrrxPFk",
        "colab_type": "text"
      },
      "cell_type": "markdown",
      "source": [
        "SUBJID is first two hyphen-delimted fields of SAMPID."
      ]
    },
    {
      "metadata": {
        "id": "GUPSF541upk0",
        "colab_type": "code",
        "colab": {
          "autoexec": {
            "startup": false,
            "wait_interval": 0
          },
          "base_uri": "https://localhost:8080/",
          "height": 0
        },
        "outputId": "a30bd383-416a-42a2-8e25-92ba45ac60a3",
        "executionInfo": {
          "status": "ok",
          "timestamp": 1529936939378,
          "user_tz": 360,
          "elapsed": 408,
          "user": {
            "displayName": "Jeremy Yang",
            "photoUrl": "//lh4.googleusercontent.com/-oulNnl1aBlA/AAAAAAAAAAI/AAAAAAAAAm4/uOczRUUkS4g/s50-c-k-no/photo.jpg",
            "userId": "102807397641040966212"
          }
        }
      },
      "cell_type": "code",
      "source": [
        "samples['SUBJID'] = samples.index\n",
        "samples['SUBJID'] = samples.SUBJID.str.extract('^([^-]+-[^-]+)-', expand=True)"
      ],
      "execution_count": 7,
      "outputs": []
    },
    {
      "metadata": {
        "id": "YZJjVYIWR27k",
        "colab_type": "code",
        "colab": {
          "autoexec": {
            "startup": false,
            "wait_interval": 0
          },
          "base_uri": "https://localhost:8080/",
          "height": 235
        },
        "outputId": "ff08078f-8292-4356-fff8-7c4744fe9dd4",
        "executionInfo": {
          "status": "ok",
          "timestamp": 1529936943493,
          "user_tz": 360,
          "elapsed": 329,
          "user": {
            "displayName": "Jeremy Yang",
            "photoUrl": "//lh4.googleusercontent.com/-oulNnl1aBlA/AAAAAAAAAAI/AAAAAAAAAm4/uOczRUUkS4g/s50-c-k-no/photo.jpg",
            "userId": "102807397641040966212"
          }
        }
      },
      "cell_type": "code",
      "source": [
        "samples.head()"
      ],
      "execution_count": 8,
      "outputs": [
        {
          "output_type": "execute_result",
          "data": {
            "text/html": [
              "<div>\n",
              "<style scoped>\n",
              "    .dataframe tbody tr th:only-of-type {\n",
              "        vertical-align: middle;\n",
              "    }\n",
              "\n",
              "    .dataframe tbody tr th {\n",
              "        vertical-align: top;\n",
              "    }\n",
              "\n",
              "    .dataframe thead th {\n",
              "        text-align: right;\n",
              "    }\n",
              "</style>\n",
              "<table border=\"1\" class=\"dataframe\">\n",
              "  <thead>\n",
              "    <tr style=\"text-align: right;\">\n",
              "      <th></th>\n",
              "      <th>SMATSSCR</th>\n",
              "      <th>SMTS</th>\n",
              "      <th>SMTSD</th>\n",
              "      <th>SUBJID</th>\n",
              "    </tr>\n",
              "    <tr>\n",
              "      <th>SAMPID</th>\n",
              "      <th></th>\n",
              "      <th></th>\n",
              "      <th></th>\n",
              "      <th></th>\n",
              "    </tr>\n",
              "  </thead>\n",
              "  <tbody>\n",
              "    <tr>\n",
              "      <th>GTEX-1117F-0003-SM-58Q7G</th>\n",
              "      <td>NaN</td>\n",
              "      <td>Blood</td>\n",
              "      <td>Whole Blood</td>\n",
              "      <td>GTEX-1117F</td>\n",
              "    </tr>\n",
              "    <tr>\n",
              "      <th>GTEX-1117F-0003-SM-5DWSB</th>\n",
              "      <td>NaN</td>\n",
              "      <td>Blood</td>\n",
              "      <td>Whole Blood</td>\n",
              "      <td>GTEX-1117F</td>\n",
              "    </tr>\n",
              "    <tr>\n",
              "      <th>GTEX-1117F-0003-SM-6WBT7</th>\n",
              "      <td>NaN</td>\n",
              "      <td>Blood</td>\n",
              "      <td>Whole Blood</td>\n",
              "      <td>GTEX-1117F</td>\n",
              "    </tr>\n",
              "    <tr>\n",
              "      <th>GTEX-1117F-0226-SM-5GZZ7</th>\n",
              "      <td>0.0</td>\n",
              "      <td>Adipose Tissue</td>\n",
              "      <td>Adipose - Subcutaneous</td>\n",
              "      <td>GTEX-1117F</td>\n",
              "    </tr>\n",
              "    <tr>\n",
              "      <th>GTEX-1117F-0426-SM-5EGHI</th>\n",
              "      <td>0.0</td>\n",
              "      <td>Muscle</td>\n",
              "      <td>Muscle - Skeletal</td>\n",
              "      <td>GTEX-1117F</td>\n",
              "    </tr>\n",
              "  </tbody>\n",
              "</table>\n",
              "</div>"
            ],
            "text/plain": [
              "                          SMATSSCR            SMTS                   SMTSD  \\\n",
              "SAMPID                                                                       \n",
              "GTEX-1117F-0003-SM-58Q7G       NaN           Blood             Whole Blood   \n",
              "GTEX-1117F-0003-SM-5DWSB       NaN           Blood             Whole Blood   \n",
              "GTEX-1117F-0003-SM-6WBT7       NaN           Blood             Whole Blood   \n",
              "GTEX-1117F-0226-SM-5GZZ7       0.0  Adipose Tissue  Adipose - Subcutaneous   \n",
              "GTEX-1117F-0426-SM-5EGHI       0.0          Muscle       Muscle - Skeletal   \n",
              "\n",
              "                              SUBJID  \n",
              "SAMPID                                \n",
              "GTEX-1117F-0003-SM-58Q7G  GTEX-1117F  \n",
              "GTEX-1117F-0003-SM-5DWSB  GTEX-1117F  \n",
              "GTEX-1117F-0003-SM-6WBT7  GTEX-1117F  \n",
              "GTEX-1117F-0226-SM-5GZZ7  GTEX-1117F  \n",
              "GTEX-1117F-0426-SM-5EGHI  GTEX-1117F  "
            ]
          },
          "metadata": {
            "tags": []
          },
          "execution_count": 8
        }
      ]
    },
    {
      "metadata": {
        "id": "zrITfg3v3iQ1",
        "colab_type": "text"
      },
      "cell_type": "markdown",
      "source": [
        "### MERGE samples and subjects:"
      ]
    },
    {
      "metadata": {
        "id": "fhQuOfNr3vo_",
        "colab_type": "code",
        "colab": {
          "autoexec": {
            "startup": false,
            "wait_interval": 0
          },
          "base_uri": "https://localhost:8080/",
          "height": 235
        },
        "outputId": "2dea6409-6cad-4e14-8b2c-11bad4a792a8",
        "executionInfo": {
          "status": "ok",
          "timestamp": 1529936946671,
          "user_tz": 360,
          "elapsed": 522,
          "user": {
            "displayName": "Jeremy Yang",
            "photoUrl": "//lh4.googleusercontent.com/-oulNnl1aBlA/AAAAAAAAAAI/AAAAAAAAAm4/uOczRUUkS4g/s50-c-k-no/photo.jpg",
            "userId": "102807397641040966212"
          }
        }
      },
      "cell_type": "code",
      "source": [
        "samples = pandas.merge(samples, subjects, how='inner', left_on='SUBJID', right_index=True)\n",
        "samples.head()"
      ],
      "execution_count": 9,
      "outputs": [
        {
          "output_type": "execute_result",
          "data": {
            "text/html": [
              "<div>\n",
              "<style scoped>\n",
              "    .dataframe tbody tr th:only-of-type {\n",
              "        vertical-align: middle;\n",
              "    }\n",
              "\n",
              "    .dataframe tbody tr th {\n",
              "        vertical-align: top;\n",
              "    }\n",
              "\n",
              "    .dataframe thead th {\n",
              "        text-align: right;\n",
              "    }\n",
              "</style>\n",
              "<table border=\"1\" class=\"dataframe\">\n",
              "  <thead>\n",
              "    <tr style=\"text-align: right;\">\n",
              "      <th></th>\n",
              "      <th>SMATSSCR</th>\n",
              "      <th>SMTS</th>\n",
              "      <th>SMTSD</th>\n",
              "      <th>SUBJID</th>\n",
              "      <th>SEX</th>\n",
              "      <th>AGE</th>\n",
              "      <th>DTHHRDY</th>\n",
              "    </tr>\n",
              "    <tr>\n",
              "      <th>SAMPID</th>\n",
              "      <th></th>\n",
              "      <th></th>\n",
              "      <th></th>\n",
              "      <th></th>\n",
              "      <th></th>\n",
              "      <th></th>\n",
              "      <th></th>\n",
              "    </tr>\n",
              "  </thead>\n",
              "  <tbody>\n",
              "    <tr>\n",
              "      <th>GTEX-111CU-0003-SM-58Q95</th>\n",
              "      <td>NaN</td>\n",
              "      <td>Blood</td>\n",
              "      <td>Whole Blood</td>\n",
              "      <td>GTEX-111CU</td>\n",
              "      <td>1</td>\n",
              "      <td>50-59</td>\n",
              "      <td>0.0</td>\n",
              "    </tr>\n",
              "    <tr>\n",
              "      <th>GTEX-111CU-0003-SM-5DWTR</th>\n",
              "      <td>NaN</td>\n",
              "      <td>Blood</td>\n",
              "      <td>Whole Blood</td>\n",
              "      <td>GTEX-111CU</td>\n",
              "      <td>1</td>\n",
              "      <td>50-59</td>\n",
              "      <td>0.0</td>\n",
              "    </tr>\n",
              "    <tr>\n",
              "      <th>GTEX-111CU-0003-SM-6WBUD</th>\n",
              "      <td>NaN</td>\n",
              "      <td>Blood</td>\n",
              "      <td>Whole Blood</td>\n",
              "      <td>GTEX-111CU</td>\n",
              "      <td>1</td>\n",
              "      <td>50-59</td>\n",
              "      <td>0.0</td>\n",
              "    </tr>\n",
              "    <tr>\n",
              "      <th>GTEX-111CU-0126-SM-5GZWZ</th>\n",
              "      <td>0.0</td>\n",
              "      <td>Adrenal Gland</td>\n",
              "      <td>Adrenal Gland</td>\n",
              "      <td>GTEX-111CU</td>\n",
              "      <td>1</td>\n",
              "      <td>50-59</td>\n",
              "      <td>0.0</td>\n",
              "    </tr>\n",
              "    <tr>\n",
              "      <th>GTEX-111CU-0226-SM-5GZXC</th>\n",
              "      <td>0.0</td>\n",
              "      <td>Thyroid</td>\n",
              "      <td>Thyroid</td>\n",
              "      <td>GTEX-111CU</td>\n",
              "      <td>1</td>\n",
              "      <td>50-59</td>\n",
              "      <td>0.0</td>\n",
              "    </tr>\n",
              "  </tbody>\n",
              "</table>\n",
              "</div>"
            ],
            "text/plain": [
              "                          SMATSSCR           SMTS          SMTSD      SUBJID  \\\n",
              "SAMPID                                                                         \n",
              "GTEX-111CU-0003-SM-58Q95       NaN          Blood    Whole Blood  GTEX-111CU   \n",
              "GTEX-111CU-0003-SM-5DWTR       NaN          Blood    Whole Blood  GTEX-111CU   \n",
              "GTEX-111CU-0003-SM-6WBUD       NaN          Blood    Whole Blood  GTEX-111CU   \n",
              "GTEX-111CU-0126-SM-5GZWZ       0.0  Adrenal Gland  Adrenal Gland  GTEX-111CU   \n",
              "GTEX-111CU-0226-SM-5GZXC       0.0        Thyroid        Thyroid  GTEX-111CU   \n",
              "\n",
              "                          SEX    AGE  DTHHRDY  \n",
              "SAMPID                                         \n",
              "GTEX-111CU-0003-SM-58Q95    1  50-59      0.0  \n",
              "GTEX-111CU-0003-SM-5DWTR    1  50-59      0.0  \n",
              "GTEX-111CU-0003-SM-6WBUD    1  50-59      0.0  \n",
              "GTEX-111CU-0126-SM-5GZWZ    1  50-59      0.0  \n",
              "GTEX-111CU-0226-SM-5GZXC    1  50-59      0.0  "
            ]
          },
          "metadata": {
            "tags": []
          },
          "execution_count": 9
        }
      ]
    },
    {
      "metadata": {
        "id": "W_5vX8JGEg-R",
        "colab_type": "text"
      },
      "cell_type": "markdown",
      "source": [
        "### Clean & tidy cols. Remove samples with high degree of autolysis (self-digestion)."
      ]
    },
    {
      "metadata": {
        "id": "NLqHEPzFFGwL",
        "colab_type": "code",
        "colab": {
          "autoexec": {
            "startup": false,
            "wait_interval": 0
          },
          "base_uri": "https://localhost:8080/",
          "height": 89
        },
        "outputId": "d8b3f35e-d720-4e7b-a711-07de29b68fdd",
        "executionInfo": {
          "status": "ok",
          "timestamp": 1529936952700,
          "user_tz": 360,
          "elapsed": 318,
          "user": {
            "displayName": "Jeremy Yang",
            "photoUrl": "//lh4.googleusercontent.com/-oulNnl1aBlA/AAAAAAAAAAI/AAAAAAAAAm4/uOczRUUkS4g/s50-c-k-no/photo.jpg",
            "userId": "102807397641040966212"
          }
        }
      },
      "cell_type": "code",
      "source": [
        "samples.dropna(how='any', inplace=True)\n",
        "print(samples.shape)\n",
        "samples.SEX = samples.SEX.apply(lambda x: 'female' if x==2 else 'male' if x==1 else None)\n",
        "samples.SEX.value_counts().sort_index()"
      ],
      "execution_count": 10,
      "outputs": [
        {
          "output_type": "stream",
          "text": [
            "(9279, 7)\n"
          ],
          "name": "stdout"
        },
        {
          "output_type": "execute_result",
          "data": {
            "text/plain": [
              "female    3323\n",
              "male      5956\n",
              "Name: SEX, dtype: int64"
            ]
          },
          "metadata": {
            "tags": []
          },
          "execution_count": 10
        }
      ]
    },
    {
      "metadata": {
        "id": "pwZ284GA2S8I",
        "colab_type": "code",
        "colab": {
          "autoexec": {
            "startup": false,
            "wait_interval": 0
          },
          "base_uri": "https://localhost:8080/",
          "height": 35
        },
        "outputId": "22c97c88-694d-4ec8-fe6c-a6b5db6ca4f3",
        "executionInfo": {
          "status": "ok",
          "timestamp": 1529936954442,
          "user_tz": 360,
          "elapsed": 310,
          "user": {
            "displayName": "Jeremy Yang",
            "photoUrl": "//lh4.googleusercontent.com/-oulNnl1aBlA/AAAAAAAAAAI/AAAAAAAAAm4/uOczRUUkS4g/s50-c-k-no/photo.jpg",
            "userId": "102807397641040966212"
          }
        }
      },
      "cell_type": "code",
      "source": [
        "samples = samples[samples.SMATSSCR < 2]\n",
        "print(samples.shape)"
      ],
      "execution_count": 11,
      "outputs": [
        {
          "output_type": "stream",
          "text": [
            "(8422, 7)\n"
          ],
          "name": "stdout"
        }
      ]
    },
    {
      "metadata": {
        "id": "fkZ3s4ZPLWKl",
        "colab_type": "code",
        "colab": {
          "autoexec": {
            "startup": false,
            "wait_interval": 0
          },
          "base_uri": "https://localhost:8080/",
          "height": 0
        },
        "outputId": "d28ee7d7-8818-4b81-870d-99109e02352d",
        "executionInfo": {
          "status": "ok",
          "timestamp": 1529936955894,
          "user_tz": 360,
          "elapsed": 327,
          "user": {
            "displayName": "Jeremy Yang",
            "photoUrl": "//lh4.googleusercontent.com/-oulNnl1aBlA/AAAAAAAAAAI/AAAAAAAAAm4/uOczRUUkS4g/s50-c-k-no/photo.jpg",
            "userId": "102807397641040966212"
          }
        }
      },
      "cell_type": "code",
      "source": [
        "samples.loc[(samples.SMTS.str.strip() == '') & samples.SMTSD.str.startswith(\"Skin -\"), 'SMTS'] = 'Skin'"
      ],
      "execution_count": 12,
      "outputs": []
    },
    {
      "metadata": {
        "id": "4yzccK8flH02",
        "colab_type": "code",
        "colab": {
          "autoexec": {
            "startup": false,
            "wait_interval": 0
          },
          "base_uri": "https://localhost:8080/",
          "height": 737
        },
        "outputId": "ea653cc0-308c-49c7-e51c-a7be1b1fddb0",
        "executionInfo": {
          "status": "ok",
          "timestamp": 1529936958320,
          "user_tz": 360,
          "elapsed": 341,
          "user": {
            "displayName": "Jeremy Yang",
            "photoUrl": "//lh4.googleusercontent.com/-oulNnl1aBlA/AAAAAAAAAAI/AAAAAAAAAm4/uOczRUUkS4g/s50-c-k-no/photo.jpg",
            "userId": "102807397641040966212"
          }
        }
      },
      "cell_type": "code",
      "source": [
        "(samples.SMTS+\" : \"+samples.SMTSD).value_counts().sort_index()"
      ],
      "execution_count": 13,
      "outputs": [
        {
          "output_type": "execute_result",
          "data": {
            "text/plain": [
              "Adipose Tissue : Adipose - Subcutaneous               430\n",
              "Adipose Tissue : Adipose - Visceral (Omentum)         315\n",
              "Adrenal Gland : Adrenal Gland                         159\n",
              "Bladder : Bladder                                       8\n",
              "Blood Vessel : Artery - Aorta                         274\n",
              "Blood Vessel : Artery - Coronary                      161\n",
              "Blood Vessel : Artery - Tibial                        452\n",
              "Brain : Brain - Cerebellum                            107\n",
              "Brain : Brain - Cortex                                 96\n",
              "Breast : Breast - Mammary Tissue                      250\n",
              "Cervix Uteri : Cervix - Ectocervix                      5\n",
              "Cervix Uteri : Cervix - Endocervix                      3\n",
              "Colon : Colon - Sigmoid                               193\n",
              "Colon : Colon - Transverse                            186\n",
              "Esophagus : Esophagus - Gastroesophageal Junction     240\n",
              "Esophagus : Esophagus - Mucosa                        370\n",
              "Esophagus : Esophagus - Muscularis                    358\n",
              "Fallopian Tube : Fallopian Tube                         7\n",
              "Heart : Heart - Atrial Appendage                      248\n",
              "Heart : Heart - Left Ventricle                        362\n",
              "Kidney : Kidney - Cortex                               14\n",
              "Liver : Liver                                         144\n",
              "Lung : Lung                                           388\n",
              "Muscle : Muscle - Skeletal                            568\n",
              "Nerve : Nerve - Tibial                                407\n",
              "Ovary : Ovary                                         117\n",
              "Pancreas : Pancreas                                   224\n",
              "Pituitary : Pituitary                                  82\n",
              "Prostate : Prostate                                   106\n",
              "Salivary Gland : Minor Salivary Gland                  95\n",
              "Skin : Skin - Not Sun Exposed (Suprapubic)            333\n",
              "Skin : Skin - Sun Exposed (Lower leg)                 477\n",
              "Small Intestine : Small Intestine - Terminal Ileum    112\n",
              "Spleen : Spleen                                       141\n",
              "Stomach : Stomach                                     202\n",
              "Testis : Testis                                       192\n",
              "Thyroid : Thyroid                                     405\n",
              "Uterus : Uterus                                        95\n",
              "Vagina : Vagina                                        96\n",
              "dtype: int64"
            ]
          },
          "metadata": {
            "tags": []
          },
          "execution_count": 13
        }
      ]
    },
    {
      "metadata": {
        "id": "ZetBwy5jqOQk",
        "colab_type": "text"
      },
      "cell_type": "markdown",
      "source": [
        "### READ GENE TPMs (full or demo subset)\n",
        "Full file is ~56k rows, 2.6GB uncompressed.  Demo ~1k rows.\n",
        "\n",
        "*   GTEx_Analysis_2016-01-15_v7_RNASeQCv1.1.8_gene_tpm.gct.gz\n",
        "*   GTEx_Analysis_2016-01-15_v7_RNASeQCv1.1.8_gene_tpm_demo.gct.gz\n"
      ]
    },
    {
      "metadata": {
        "id": "iAwlsefpq4dx",
        "colab_type": "code",
        "colab": {
          "autoexec": {
            "startup": false,
            "wait_interval": 0
          },
          "base_uri": "https://localhost:8080/",
          "height": 165
        },
        "outputId": "57332d92-a757-419b-fc3f-e97246b9d31d",
        "executionInfo": {
          "status": "ok",
          "timestamp": 1529937341734,
          "user_tz": 360,
          "elapsed": 69052,
          "user": {
            "displayName": "Jeremy Yang",
            "photoUrl": "//lh4.googleusercontent.com/-oulNnl1aBlA/AAAAAAAAAAI/AAAAAAAAAm4/uOczRUUkS4g/s50-c-k-no/photo.jpg",
            "userId": "102807397641040966212"
          }
        }
      },
      "cell_type": "code",
      "source": [
        "print('Upload GTEx RNAseq TPM datafile: ')\n",
        "t0 = time.time()\n",
        "uploaded = google.colab.files.upload()\n",
        "fn = list(uploaded.keys())[0]\n",
        "print('Uploaded \"{name}\" with {length} bytes'.format(name=fn, length=len(uploaded[fn])))\n",
        "rnaseq = pandas.read_table(io.BytesIO(uploaded[fn]), compression='gzip', sep='\\t', skiprows=2)\n",
        "print(\"dataset nrows: %d ; ncols: %d:\"%(rnaseq.shape[0],rnaseq.shape[1]), file=sys.stderr)\n",
        "print(\"Elapsed: %ds\"%(time.time()-t0))"
      ],
      "execution_count": 21,
      "outputs": [
        {
          "output_type": "stream",
          "text": [
            "Upload GTEx RNAseq TPM datafile: \n"
          ],
          "name": "stdout"
        },
        {
          "output_type": "display_data",
          "data": {
            "text/html": [
              "\n",
              "     <input type=\"file\" id=\"files-fd92faa3-cd86-4236-a08b-39d8fa42da3a\" name=\"files[]\" multiple disabled />\n",
              "     <output id=\"result-fd92faa3-cd86-4236-a08b-39d8fa42da3a\">\n",
              "      Upload widget is only available when the cell has been executed in the\n",
              "      current browser session. Please rerun this cell to enable.\n",
              "      </output>\n",
              "      <script src=\"/nbextensions/google.colab/files.js\"></script> "
            ],
            "text/plain": [
              "<IPython.core.display.HTML object>"
            ]
          },
          "metadata": {
            "tags": []
          }
        },
        {
          "output_type": "stream",
          "text": [
            "Saving GTEx_Analysis_2016-01-15_v7_RNASeQCv1.1.8_gene_tpm_demo.gct.gz to GTEx_Analysis_2016-01-15_v7_RNASeQCv1.1.8_gene_tpm_demo.gct (1).gz\n",
            "Uploaded \"GTEx_Analysis_2016-01-15_v7_RNASeQCv1.1.8_gene_tpm_demo.gct.gz\" with 16568044 bytes\n",
            "Elapsed: 68s\n"
          ],
          "name": "stdout"
        },
        {
          "output_type": "stream",
          "text": [
            "dataset nrows: 1046 ; ncols: 11690:\n"
          ],
          "name": "stderr"
        }
      ]
    },
    {
      "metadata": {
        "id": "TMVeLSeH3CwZ",
        "colab_type": "code",
        "colab": {
          "autoexec": {
            "startup": false,
            "wait_interval": 0
          },
          "base_uri": "https://localhost:8080/",
          "height": 107
        },
        "outputId": "9b1cc8b7-6aea-410a-c476-8e886b226a90",
        "executionInfo": {
          "status": "ok",
          "timestamp": 1529937345364,
          "user_tz": 360,
          "elapsed": 917,
          "user": {
            "displayName": "Jeremy Yang",
            "photoUrl": "//lh4.googleusercontent.com/-oulNnl1aBlA/AAAAAAAAAAI/AAAAAAAAAm4/uOczRUUkS4g/s50-c-k-no/photo.jpg",
            "userId": "102807397641040966212"
          }
        }
      },
      "cell_type": "code",
      "source": [
        "rnaseq.info()"
      ],
      "execution_count": 22,
      "outputs": [
        {
          "output_type": "stream",
          "text": [
            "<class 'pandas.core.frame.DataFrame'>\n",
            "RangeIndex: 1046 entries, 0 to 1045\n",
            "Columns: 11690 entries, Name to GTEX-ZXG5-0005-SM-57WCN\n",
            "dtypes: float64(11688), object(2)\n",
            "memory usage: 93.3+ MB\n"
          ],
          "name": "stdout"
        }
      ]
    },
    {
      "metadata": {
        "id": "g0t_4RBswccq",
        "colab_type": "code",
        "colab": {
          "autoexec": {
            "startup": false,
            "wait_interval": 0
          },
          "base_uri": "https://localhost:8080/",
          "height": 233
        },
        "outputId": "4004df92-c6bd-4203-f9b6-c4ad42c58bd9",
        "executionInfo": {
          "status": "ok",
          "timestamp": 1529937347221,
          "user_tz": 360,
          "elapsed": 276,
          "user": {
            "displayName": "Jeremy Yang",
            "photoUrl": "//lh4.googleusercontent.com/-oulNnl1aBlA/AAAAAAAAAAI/AAAAAAAAAm4/uOczRUUkS4g/s50-c-k-no/photo.jpg",
            "userId": "102807397641040966212"
          }
        }
      },
      "cell_type": "code",
      "source": [
        "rnaseq = rnaseq.drop(columns=['Description'])\n",
        "rnaseq = rnaseq.rename(columns={'Name':'ENSG'})\n",
        "rnaseq.columns"
      ],
      "execution_count": 23,
      "outputs": [
        {
          "output_type": "execute_result",
          "data": {
            "text/plain": [
              "Index(['ENSG', 'GTEX-1117F-0226-SM-5GZZ7', 'GTEX-111CU-1826-SM-5GZYN',\n",
              "       'GTEX-111FC-0226-SM-5N9B8', 'GTEX-111VG-2326-SM-5N9BK',\n",
              "       'GTEX-111YS-2426-SM-5GZZQ', 'GTEX-1122O-2026-SM-5NQ91',\n",
              "       'GTEX-1128S-2126-SM-5H12U', 'GTEX-113IC-0226-SM-5HL5C',\n",
              "       'GTEX-117YX-2226-SM-5EGJJ',\n",
              "       ...\n",
              "       'GTEX-ZVE2-0006-SM-51MRW', 'GTEX-ZVP2-0005-SM-51MRK',\n",
              "       'GTEX-ZVT2-0005-SM-57WBW', 'GTEX-ZVT3-0006-SM-51MT9',\n",
              "       'GTEX-ZVT4-0006-SM-57WB8', 'GTEX-ZVTK-0006-SM-57WBK',\n",
              "       'GTEX-ZVZP-0006-SM-51MSW', 'GTEX-ZVZQ-0006-SM-51MR8',\n",
              "       'GTEX-ZXES-0005-SM-57WCB', 'GTEX-ZXG5-0005-SM-57WCN'],\n",
              "      dtype='object', length=11689)"
            ]
          },
          "metadata": {
            "tags": []
          },
          "execution_count": 23
        }
      ]
    },
    {
      "metadata": {
        "id": "1LsGqo2Fxtp1",
        "colab_type": "text"
      },
      "cell_type": "markdown",
      "source": [
        "### MELT: One row per ENSG+SAMPID+TPM triplet:\n",
        "Easier to handle but ~3x storage."
      ]
    },
    {
      "metadata": {
        "id": "bSaZOsP_xkQ2",
        "colab_type": "code",
        "colab": {
          "autoexec": {
            "startup": false,
            "wait_interval": 0
          },
          "base_uri": "https://localhost:8080/",
          "height": 0
        },
        "outputId": "49680554-b999-439d-c374-12e7a036d698",
        "executionInfo": {
          "status": "ok",
          "timestamp": 1529937351695,
          "user_tz": 360,
          "elapsed": 761,
          "user": {
            "displayName": "Jeremy Yang",
            "photoUrl": "//lh4.googleusercontent.com/-oulNnl1aBlA/AAAAAAAAAAI/AAAAAAAAAm4/uOczRUUkS4g/s50-c-k-no/photo.jpg",
            "userId": "102807397641040966212"
          }
        }
      },
      "cell_type": "code",
      "source": [
        "rnaseq = rnaseq.melt(id_vars = \"ENSG\", var_name = \"SAMPID\", value_name = \"TPM\")"
      ],
      "execution_count": 24,
      "outputs": []
    },
    {
      "metadata": {
        "id": "3E0h4B2jzoK5",
        "colab_type": "code",
        "colab": {
          "autoexec": {
            "startup": false,
            "wait_interval": 0
          },
          "base_uri": "https://localhost:8080/",
          "height": 204
        },
        "outputId": "46e7a004-b116-43e5-f80d-7ca0242b16f6",
        "executionInfo": {
          "status": "ok",
          "timestamp": 1529937353398,
          "user_tz": 360,
          "elapsed": 336,
          "user": {
            "displayName": "Jeremy Yang",
            "photoUrl": "//lh4.googleusercontent.com/-oulNnl1aBlA/AAAAAAAAAAI/AAAAAAAAAm4/uOczRUUkS4g/s50-c-k-no/photo.jpg",
            "userId": "102807397641040966212"
          }
        }
      },
      "cell_type": "code",
      "source": [
        "rnaseq.head()"
      ],
      "execution_count": 25,
      "outputs": [
        {
          "output_type": "execute_result",
          "data": {
            "text/html": [
              "<div>\n",
              "<style scoped>\n",
              "    .dataframe tbody tr th:only-of-type {\n",
              "        vertical-align: middle;\n",
              "    }\n",
              "\n",
              "    .dataframe tbody tr th {\n",
              "        vertical-align: top;\n",
              "    }\n",
              "\n",
              "    .dataframe thead th {\n",
              "        text-align: right;\n",
              "    }\n",
              "</style>\n",
              "<table border=\"1\" class=\"dataframe\">\n",
              "  <thead>\n",
              "    <tr style=\"text-align: right;\">\n",
              "      <th></th>\n",
              "      <th>ENSG</th>\n",
              "      <th>SAMPID</th>\n",
              "      <th>TPM</th>\n",
              "    </tr>\n",
              "  </thead>\n",
              "  <tbody>\n",
              "    <tr>\n",
              "      <th>0</th>\n",
              "      <td>ENSG00000116198.8</td>\n",
              "      <td>GTEX-1117F-0226-SM-5GZZ7</td>\n",
              "      <td>11.19</td>\n",
              "    </tr>\n",
              "    <tr>\n",
              "      <th>1</th>\n",
              "      <td>ENSG00000221083.1</td>\n",
              "      <td>GTEX-1117F-0226-SM-5GZZ7</td>\n",
              "      <td>0.00</td>\n",
              "    </tr>\n",
              "    <tr>\n",
              "      <th>2</th>\n",
              "      <td>ENSG00000201725.1</td>\n",
              "      <td>GTEX-1117F-0226-SM-5GZZ7</td>\n",
              "      <td>0.00</td>\n",
              "    </tr>\n",
              "    <tr>\n",
              "      <th>3</th>\n",
              "      <td>ENSG00000049239.8</td>\n",
              "      <td>GTEX-1117F-0226-SM-5GZZ7</td>\n",
              "      <td>86.30</td>\n",
              "    </tr>\n",
              "    <tr>\n",
              "      <th>4</th>\n",
              "      <td>ENSG00000201746.1</td>\n",
              "      <td>GTEX-1117F-0226-SM-5GZZ7</td>\n",
              "      <td>0.00</td>\n",
              "    </tr>\n",
              "  </tbody>\n",
              "</table>\n",
              "</div>"
            ],
            "text/plain": [
              "                ENSG                    SAMPID    TPM\n",
              "0  ENSG00000116198.8  GTEX-1117F-0226-SM-5GZZ7  11.19\n",
              "1  ENSG00000221083.1  GTEX-1117F-0226-SM-5GZZ7   0.00\n",
              "2  ENSG00000201725.1  GTEX-1117F-0226-SM-5GZZ7   0.00\n",
              "3  ENSG00000049239.8  GTEX-1117F-0226-SM-5GZZ7  86.30\n",
              "4  ENSG00000201746.1  GTEX-1117F-0226-SM-5GZZ7   0.00"
            ]
          },
          "metadata": {
            "tags": []
          },
          "execution_count": 25
        }
      ]
    },
    {
      "metadata": {
        "id": "X17IFQ43pg3i",
        "colab_type": "code",
        "colab": {
          "autoexec": {
            "startup": false,
            "wait_interval": 0
          },
          "base_uri": "https://localhost:8080/",
          "height": 161
        },
        "outputId": "bdf194b2-7587-4e5b-a08a-a0f095d2d7ff",
        "executionInfo": {
          "status": "ok",
          "timestamp": 1529937355979,
          "user_tz": 360,
          "elapsed": 298,
          "user": {
            "displayName": "Jeremy Yang",
            "photoUrl": "//lh4.googleusercontent.com/-oulNnl1aBlA/AAAAAAAAAAI/AAAAAAAAAm4/uOczRUUkS4g/s50-c-k-no/photo.jpg",
            "userId": "102807397641040966212"
          }
        }
      },
      "cell_type": "code",
      "source": [
        "rnaseq.info()"
      ],
      "execution_count": 26,
      "outputs": [
        {
          "output_type": "stream",
          "text": [
            "<class 'pandas.core.frame.DataFrame'>\n",
            "RangeIndex: 12225648 entries, 0 to 12225647\n",
            "Data columns (total 3 columns):\n",
            "ENSG      object\n",
            "SAMPID    object\n",
            "TPM       float64\n",
            "dtypes: float64(1), object(2)\n",
            "memory usage: 279.8+ MB\n"
          ],
          "name": "stdout"
        }
      ]
    },
    {
      "metadata": {
        "id": "2rmvTu5upzFs",
        "colab_type": "text"
      },
      "cell_type": "markdown",
      "source": [
        "### Read and merge gene symbols."
      ]
    },
    {
      "metadata": {
        "id": "Xo2F7qVApyk0",
        "colab_type": "code",
        "colab": {
          "autoexec": {
            "startup": false,
            "wait_interval": 0
          },
          "base_uri": "https://localhost:8080/",
          "height": 296
        },
        "outputId": "1ac95019-f9ad-4613-92d4-f76327e2dbce",
        "executionInfo": {
          "status": "ok",
          "timestamp": 1529959903709,
          "user_tz": 360,
          "elapsed": 14419,
          "user": {
            "displayName": "Jeremy Yang",
            "photoUrl": "//lh4.googleusercontent.com/-oulNnl1aBlA/AAAAAAAAAAI/AAAAAAAAAm4/uOczRUUkS4g/s50-c-k-no/photo.jpg",
            "userId": "102807397641040966212"
          }
        }
      },
      "cell_type": "code",
      "source": [
        "print('Upload Biomart ENSG2NCBI genes datafile: ')\n",
        "uploaded = google.colab.files.upload()\n",
        "fn = list(uploaded.keys())[0]\n",
        "print('Uploaded \"{name}\" with {length} bytes'.format(name=fn, length=len(uploaded[fn])))\n",
        "genes = pandas.read_csv(io.StringIO(uploaded[fn].decode('utf8')), sep='\\t', usecols=[1,2,3], na_values=[''], dtype={2:str})\n",
        "genes.columns = ['ENSG','NCBI','HGNC']\n",
        "genes.dropna(inplace=True)"
      ],
      "execution_count": 160,
      "outputs": [
        {
          "output_type": "stream",
          "text": [
            "Upload ENSG2NCBI genes datafile: \n"
          ],
          "name": "stdout"
        },
        {
          "output_type": "display_data",
          "data": {
            "text/html": [
              "\n",
              "     <input type=\"file\" id=\"files-fc37a458-9e22-4453-a73d-c3147460824a\" name=\"files[]\" multiple disabled />\n",
              "     <output id=\"result-fc37a458-9e22-4453-a73d-c3147460824a\">\n",
              "      Upload widget is only available when the cell has been executed in the\n",
              "      current browser session. Please rerun this cell to enable.\n",
              "      </output>\n",
              "      <script src=\"/nbextensions/google.colab/files.js\"></script> "
            ],
            "text/plain": [
              "<IPython.core.display.HTML object>"
            ]
          },
          "metadata": {
            "tags": []
          }
        },
        {
          "output_type": "stream",
          "text": [
            "Saving biomart_ENSG2NCBI.tsv to biomart_ENSG2NCBI (5).tsv\n",
            "Uploaded \"biomart_ENSG2NCBI.tsv\" with 2786143 bytes\n"
          ],
          "name": "stdout"
        },
        {
          "output_type": "execute_result",
          "data": {
            "text/html": [
              "<div>\n",
              "<style scoped>\n",
              "    .dataframe tbody tr th:only-of-type {\n",
              "        vertical-align: middle;\n",
              "    }\n",
              "\n",
              "    .dataframe tbody tr th {\n",
              "        vertical-align: top;\n",
              "    }\n",
              "\n",
              "    .dataframe thead th {\n",
              "        text-align: right;\n",
              "    }\n",
              "</style>\n",
              "<table border=\"1\" class=\"dataframe\">\n",
              "  <thead>\n",
              "    <tr style=\"text-align: right;\">\n",
              "      <th></th>\n",
              "      <th>ENSG</th>\n",
              "      <th>NCBI</th>\n",
              "      <th>HGNC</th>\n",
              "    </tr>\n",
              "  </thead>\n",
              "  <tbody>\n",
              "    <tr>\n",
              "      <th>1</th>\n",
              "      <td>ENSG00000211459.2</td>\n",
              "      <td>4549</td>\n",
              "      <td>MT-RNR1</td>\n",
              "    </tr>\n",
              "    <tr>\n",
              "      <th>3</th>\n",
              "      <td>ENSG00000210082.2</td>\n",
              "      <td>4550</td>\n",
              "      <td>MT-RNR2</td>\n",
              "    </tr>\n",
              "    <tr>\n",
              "      <th>5</th>\n",
              "      <td>ENSG00000198888.2</td>\n",
              "      <td>4535</td>\n",
              "      <td>MT-ND1</td>\n",
              "    </tr>\n",
              "    <tr>\n",
              "      <th>9</th>\n",
              "      <td>ENSG00000198763.3</td>\n",
              "      <td>4536</td>\n",
              "      <td>MT-ND2</td>\n",
              "    </tr>\n",
              "    <tr>\n",
              "      <th>15</th>\n",
              "      <td>ENSG00000198804.2</td>\n",
              "      <td>4512</td>\n",
              "      <td>MT-CO1</td>\n",
              "    </tr>\n",
              "  </tbody>\n",
              "</table>\n",
              "</div>"
            ],
            "text/plain": [
              "                 ENSG  NCBI     HGNC\n",
              "1   ENSG00000211459.2  4549  MT-RNR1\n",
              "3   ENSG00000210082.2  4550  MT-RNR2\n",
              "5   ENSG00000198888.2  4535   MT-ND1\n",
              "9   ENSG00000198763.3  4536   MT-ND2\n",
              "15  ENSG00000198804.2  4512   MT-CO1"
            ]
          },
          "metadata": {
            "tags": []
          },
          "execution_count": 160
        }
      ]
    },
    {
      "metadata": {
        "id": "fegRBFc-tO00",
        "colab_type": "code",
        "colab": {
          "autoexec": {
            "startup": false,
            "wait_interval": 0
          },
          "base_uri": "https://localhost:8080/",
          "height": 161
        },
        "outputId": "e65ad7c5-6710-47ea-ad60-c7da63551d17",
        "executionInfo": {
          "status": "ok",
          "timestamp": 1529959918473,
          "user_tz": 360,
          "elapsed": 314,
          "user": {
            "displayName": "Jeremy Yang",
            "photoUrl": "//lh4.googleusercontent.com/-oulNnl1aBlA/AAAAAAAAAAI/AAAAAAAAAm4/uOczRUUkS4g/s50-c-k-no/photo.jpg",
            "userId": "102807397641040966212"
          }
        }
      },
      "cell_type": "code",
      "source": [
        "genes.info()"
      ],
      "execution_count": 161,
      "outputs": [
        {
          "output_type": "stream",
          "text": [
            "<class 'pandas.core.frame.DataFrame'>\n",
            "Int64Index: 27486 entries, 1 to 64717\n",
            "Data columns (total 3 columns):\n",
            "ENSG    27486 non-null object\n",
            "NCBI    27486 non-null object\n",
            "HGNC    27486 non-null object\n",
            "dtypes: object(3)\n",
            "memory usage: 858.9+ KB\n"
          ],
          "name": "stdout"
        }
      ]
    },
    {
      "metadata": {
        "id": "RSyD7C4Nt9vS",
        "colab_type": "code",
        "colab": {
          "autoexec": {
            "startup": false,
            "wait_interval": 0
          },
          "base_uri": "https://localhost:8080/",
          "height": 564
        },
        "outputId": "96b5b960-a630-4ed6-d754-343f07464384",
        "executionInfo": {
          "status": "ok",
          "timestamp": 1529959982153,
          "user_tz": 360,
          "elapsed": 1882,
          "user": {
            "displayName": "Jeremy Yang",
            "photoUrl": "//lh4.googleusercontent.com/-oulNnl1aBlA/AAAAAAAAAAI/AAAAAAAAAm4/uOczRUUkS4g/s50-c-k-no/photo.jpg",
            "userId": "102807397641040966212"
          }
        }
      },
      "cell_type": "code",
      "source": [
        "rnaseq = pandas.merge(genes, rnaseq, on='ENSG', how='inner')\n",
        "rnaseq.head()"
      ],
      "execution_count": 162,
      "outputs": [
        {
          "output_type": "execute_result",
          "data": {
            "text/html": [
              "<div>\n",
              "<style scoped>\n",
              "    .dataframe tbody tr th:only-of-type {\n",
              "        vertical-align: middle;\n",
              "    }\n",
              "\n",
              "    .dataframe tbody tr th {\n",
              "        vertical-align: top;\n",
              "    }\n",
              "\n",
              "    .dataframe thead th {\n",
              "        text-align: right;\n",
              "    }\n",
              "</style>\n",
              "<table border=\"1\" class=\"dataframe\">\n",
              "  <thead>\n",
              "    <tr style=\"text-align: right;\">\n",
              "      <th></th>\n",
              "      <th>ENSG</th>\n",
              "      <th>NCBI</th>\n",
              "      <th>HGNC</th>\n",
              "      <th>SMTSD</th>\n",
              "      <th>ENSG_x</th>\n",
              "      <th>SAMPID</th>\n",
              "      <th>TPM</th>\n",
              "      <th>SMATSSCR</th>\n",
              "      <th>SMTS</th>\n",
              "      <th>SMTSD_x</th>\n",
              "      <th>SUBJID</th>\n",
              "      <th>SEX</th>\n",
              "      <th>AGE</th>\n",
              "      <th>DTHHRDY</th>\n",
              "      <th>max_tpm_0</th>\n",
              "      <th>ENSG_y</th>\n",
              "      <th>SMTSD_y</th>\n",
              "    </tr>\n",
              "  </thead>\n",
              "  <tbody>\n",
              "    <tr>\n",
              "      <th>0</th>\n",
              "      <td>ENSG00000136999.4</td>\n",
              "      <td>4856</td>\n",
              "      <td>NOV</td>\n",
              "      <td>Adipose - Subcutaneous</td>\n",
              "      <td>ENSG00000136999.4</td>\n",
              "      <td>GTEX-111CU-1826-SM-5GZYN</td>\n",
              "      <td>5.191</td>\n",
              "      <td>0.0</td>\n",
              "      <td>Adipose Tissue</td>\n",
              "      <td>Adipose - Subcutaneous</td>\n",
              "      <td>GTEX-111CU</td>\n",
              "      <td>male</td>\n",
              "      <td>50-59</td>\n",
              "      <td>0.0</td>\n",
              "      <td>False</td>\n",
              "      <td>1</td>\n",
              "      <td>1</td>\n",
              "    </tr>\n",
              "    <tr>\n",
              "      <th>1</th>\n",
              "      <td>ENSG00000136999.4</td>\n",
              "      <td>4856</td>\n",
              "      <td>NOV</td>\n",
              "      <td>Adipose - Subcutaneous</td>\n",
              "      <td>ENSG00000136999.4</td>\n",
              "      <td>GTEX-111YS-2426-SM-5GZZQ</td>\n",
              "      <td>6.857</td>\n",
              "      <td>0.0</td>\n",
              "      <td>Adipose Tissue</td>\n",
              "      <td>Adipose - Subcutaneous</td>\n",
              "      <td>GTEX-111YS</td>\n",
              "      <td>male</td>\n",
              "      <td>60-69</td>\n",
              "      <td>0.0</td>\n",
              "      <td>False</td>\n",
              "      <td>1</td>\n",
              "      <td>1</td>\n",
              "    </tr>\n",
              "    <tr>\n",
              "      <th>2</th>\n",
              "      <td>ENSG00000136999.4</td>\n",
              "      <td>4856</td>\n",
              "      <td>NOV</td>\n",
              "      <td>Adipose - Subcutaneous</td>\n",
              "      <td>ENSG00000136999.4</td>\n",
              "      <td>GTEX-1122O-2026-SM-5NQ91</td>\n",
              "      <td>6.389</td>\n",
              "      <td>0.0</td>\n",
              "      <td>Adipose Tissue</td>\n",
              "      <td>Adipose - Subcutaneous</td>\n",
              "      <td>GTEX-1122O</td>\n",
              "      <td>female</td>\n",
              "      <td>60-69</td>\n",
              "      <td>0.0</td>\n",
              "      <td>False</td>\n",
              "      <td>1</td>\n",
              "      <td>1</td>\n",
              "    </tr>\n",
              "    <tr>\n",
              "      <th>3</th>\n",
              "      <td>ENSG00000136999.4</td>\n",
              "      <td>4856</td>\n",
              "      <td>NOV</td>\n",
              "      <td>Adipose - Subcutaneous</td>\n",
              "      <td>ENSG00000136999.4</td>\n",
              "      <td>GTEX-1128S-2126-SM-5H12U</td>\n",
              "      <td>10.150</td>\n",
              "      <td>0.0</td>\n",
              "      <td>Adipose Tissue</td>\n",
              "      <td>Adipose - Subcutaneous</td>\n",
              "      <td>GTEX-1128S</td>\n",
              "      <td>female</td>\n",
              "      <td>60-69</td>\n",
              "      <td>2.0</td>\n",
              "      <td>False</td>\n",
              "      <td>1</td>\n",
              "      <td>1</td>\n",
              "    </tr>\n",
              "    <tr>\n",
              "      <th>4</th>\n",
              "      <td>ENSG00000136999.4</td>\n",
              "      <td>4856</td>\n",
              "      <td>NOV</td>\n",
              "      <td>Adipose - Subcutaneous</td>\n",
              "      <td>ENSG00000136999.4</td>\n",
              "      <td>GTEX-117YX-2226-SM-5EGJJ</td>\n",
              "      <td>6.956</td>\n",
              "      <td>0.0</td>\n",
              "      <td>Adipose Tissue</td>\n",
              "      <td>Adipose - Subcutaneous</td>\n",
              "      <td>GTEX-117YX</td>\n",
              "      <td>male</td>\n",
              "      <td>50-59</td>\n",
              "      <td>0.0</td>\n",
              "      <td>False</td>\n",
              "      <td>1</td>\n",
              "      <td>1</td>\n",
              "    </tr>\n",
              "  </tbody>\n",
              "</table>\n",
              "</div>"
            ],
            "text/plain": [
              "                ENSG  NCBI HGNC                   SMTSD             ENSG_x  \\\n",
              "0  ENSG00000136999.4  4856  NOV  Adipose - Subcutaneous  ENSG00000136999.4   \n",
              "1  ENSG00000136999.4  4856  NOV  Adipose - Subcutaneous  ENSG00000136999.4   \n",
              "2  ENSG00000136999.4  4856  NOV  Adipose - Subcutaneous  ENSG00000136999.4   \n",
              "3  ENSG00000136999.4  4856  NOV  Adipose - Subcutaneous  ENSG00000136999.4   \n",
              "4  ENSG00000136999.4  4856  NOV  Adipose - Subcutaneous  ENSG00000136999.4   \n",
              "\n",
              "                     SAMPID     TPM  SMATSSCR            SMTS  \\\n",
              "0  GTEX-111CU-1826-SM-5GZYN   5.191       0.0  Adipose Tissue   \n",
              "1  GTEX-111YS-2426-SM-5GZZQ   6.857       0.0  Adipose Tissue   \n",
              "2  GTEX-1122O-2026-SM-5NQ91   6.389       0.0  Adipose Tissue   \n",
              "3  GTEX-1128S-2126-SM-5H12U  10.150       0.0  Adipose Tissue   \n",
              "4  GTEX-117YX-2226-SM-5EGJJ   6.956       0.0  Adipose Tissue   \n",
              "\n",
              "                  SMTSD_x      SUBJID     SEX    AGE  DTHHRDY  max_tpm_0  \\\n",
              "0  Adipose - Subcutaneous  GTEX-111CU    male  50-59      0.0      False   \n",
              "1  Adipose - Subcutaneous  GTEX-111YS    male  60-69      0.0      False   \n",
              "2  Adipose - Subcutaneous  GTEX-1122O  female  60-69      0.0      False   \n",
              "3  Adipose - Subcutaneous  GTEX-1128S  female  60-69      2.0      False   \n",
              "4  Adipose - Subcutaneous  GTEX-117YX    male  50-59      0.0      False   \n",
              "\n",
              "   ENSG_y  SMTSD_y  \n",
              "0       1        1  \n",
              "1       1        1  \n",
              "2       1        1  \n",
              "3       1        1  \n",
              "4       1        1  "
            ]
          },
          "metadata": {
            "tags": []
          },
          "execution_count": 162
        }
      ]
    },
    {
      "metadata": {
        "id": "jma3YSsCzxr7",
        "colab_type": "text"
      },
      "cell_type": "markdown",
      "source": [
        "### Remove genes in pseudoautosomal regions (PAR) of chromosome Y (\"ENSGR\")."
      ]
    },
    {
      "metadata": {
        "id": "iuJLi_nVzuFM",
        "colab_type": "code",
        "colab": {
          "autoexec": {
            "startup": false,
            "wait_interval": 0
          },
          "base_uri": "https://localhost:8080/",
          "height": 35
        },
        "outputId": "7f788369-721c-4781-f438-42ac51523aeb",
        "executionInfo": {
          "status": "ok",
          "timestamp": 1529937422595,
          "user_tz": 360,
          "elapsed": 4655,
          "user": {
            "displayName": "Jeremy Yang",
            "photoUrl": "//lh4.googleusercontent.com/-oulNnl1aBlA/AAAAAAAAAAI/AAAAAAAAAm4/uOczRUUkS4g/s50-c-k-no/photo.jpg",
            "userId": "102807397641040966212"
          }
        }
      },
      "cell_type": "code",
      "source": [
        "n_ensgr = rnaseq.ENSG.str.startswith('ENSGR').sum()\n",
        "print('ENSGR gene TPMs: %d (%.2f%%)'%(n_ensgr,100*n_ensgr/rnaseq.shape[0]))"
      ],
      "execution_count": 29,
      "outputs": [
        {
          "output_type": "stream",
          "text": [
            "ENSGR gene TPMs: 23376 (0.19%)\n"
          ],
          "name": "stdout"
        }
      ]
    },
    {
      "metadata": {
        "id": "bSTgB436XZLq",
        "colab_type": "code",
        "colab": {
          "autoexec": {
            "startup": false,
            "wait_interval": 0
          },
          "base_uri": "https://localhost:8080/",
          "height": 0
        },
        "outputId": "e5402105-a81b-49b0-a772-391ec5e7ba3a",
        "executionInfo": {
          "status": "ok",
          "timestamp": 1529937434967,
          "user_tz": 360,
          "elapsed": 5033,
          "user": {
            "displayName": "Jeremy Yang",
            "photoUrl": "//lh4.googleusercontent.com/-oulNnl1aBlA/AAAAAAAAAAI/AAAAAAAAAm4/uOczRUUkS4g/s50-c-k-no/photo.jpg",
            "userId": "102807397641040966212"
          }
        }
      },
      "cell_type": "code",
      "source": [
        "rnaseq = rnaseq[~rnaseq.ENSG.str.startswith('ENSGR')]"
      ],
      "execution_count": 30,
      "outputs": []
    },
    {
      "metadata": {
        "id": "DF1bdb1ct3vi",
        "colab_type": "text"
      },
      "cell_type": "markdown",
      "source": [
        "### Merge with samples:"
      ]
    },
    {
      "metadata": {
        "id": "KPzImSwat7Mi",
        "colab_type": "code",
        "colab": {
          "autoexec": {
            "startup": false,
            "wait_interval": 0
          },
          "base_uri": "https://localhost:8080/",
          "height": 0
        },
        "outputId": "4dba5d3e-7ba5-4afc-c88c-688456f0d482",
        "executionInfo": {
          "status": "ok",
          "timestamp": 1529937455950,
          "user_tz": 360,
          "elapsed": 2202,
          "user": {
            "displayName": "Jeremy Yang",
            "photoUrl": "//lh4.googleusercontent.com/-oulNnl1aBlA/AAAAAAAAAAI/AAAAAAAAAm4/uOczRUUkS4g/s50-c-k-no/photo.jpg",
            "userId": "102807397641040966212"
          }
        }
      },
      "cell_type": "code",
      "source": [
        "rnaseq = pandas.merge(rnaseq, samples, how=\"inner\", left_on=\"SAMPID\", right_index=True)"
      ],
      "execution_count": 31,
      "outputs": []
    },
    {
      "metadata": {
        "id": "qaWd-f4nVBgo",
        "colab_type": "code",
        "colab": {
          "autoexec": {
            "startup": false,
            "wait_interval": 0
          },
          "base_uri": "https://localhost:8080/",
          "height": 204
        },
        "outputId": "e71402b1-98ca-4e36-b2b8-217faf132590",
        "executionInfo": {
          "status": "ok",
          "timestamp": 1529937458635,
          "user_tz": 360,
          "elapsed": 357,
          "user": {
            "displayName": "Jeremy Yang",
            "photoUrl": "//lh4.googleusercontent.com/-oulNnl1aBlA/AAAAAAAAAAI/AAAAAAAAAm4/uOczRUUkS4g/s50-c-k-no/photo.jpg",
            "userId": "102807397641040966212"
          }
        }
      },
      "cell_type": "code",
      "source": [
        "rnaseq.head()"
      ],
      "execution_count": 32,
      "outputs": [
        {
          "output_type": "execute_result",
          "data": {
            "text/html": [
              "<div>\n",
              "<style scoped>\n",
              "    .dataframe tbody tr th:only-of-type {\n",
              "        vertical-align: middle;\n",
              "    }\n",
              "\n",
              "    .dataframe tbody tr th {\n",
              "        vertical-align: top;\n",
              "    }\n",
              "\n",
              "    .dataframe thead th {\n",
              "        text-align: right;\n",
              "    }\n",
              "</style>\n",
              "<table border=\"1\" class=\"dataframe\">\n",
              "  <thead>\n",
              "    <tr style=\"text-align: right;\">\n",
              "      <th></th>\n",
              "      <th>ENSG</th>\n",
              "      <th>SAMPID</th>\n",
              "      <th>TPM</th>\n",
              "      <th>SMATSSCR</th>\n",
              "      <th>SMTS</th>\n",
              "      <th>SMTSD</th>\n",
              "      <th>SUBJID</th>\n",
              "      <th>SEX</th>\n",
              "      <th>AGE</th>\n",
              "      <th>DTHHRDY</th>\n",
              "    </tr>\n",
              "  </thead>\n",
              "  <tbody>\n",
              "    <tr>\n",
              "      <th>1046</th>\n",
              "      <td>ENSG00000116198.8</td>\n",
              "      <td>GTEX-111CU-1826-SM-5GZYN</td>\n",
              "      <td>11.0600</td>\n",
              "      <td>0.0</td>\n",
              "      <td>Adipose Tissue</td>\n",
              "      <td>Adipose - Subcutaneous</td>\n",
              "      <td>GTEX-111CU</td>\n",
              "      <td>male</td>\n",
              "      <td>50-59</td>\n",
              "      <td>0.0</td>\n",
              "    </tr>\n",
              "    <tr>\n",
              "      <th>1047</th>\n",
              "      <td>ENSG00000221083.1</td>\n",
              "      <td>GTEX-111CU-1826-SM-5GZYN</td>\n",
              "      <td>0.0000</td>\n",
              "      <td>0.0</td>\n",
              "      <td>Adipose Tissue</td>\n",
              "      <td>Adipose - Subcutaneous</td>\n",
              "      <td>GTEX-111CU</td>\n",
              "      <td>male</td>\n",
              "      <td>50-59</td>\n",
              "      <td>0.0</td>\n",
              "    </tr>\n",
              "    <tr>\n",
              "      <th>1048</th>\n",
              "      <td>ENSG00000201725.1</td>\n",
              "      <td>GTEX-111CU-1826-SM-5GZYN</td>\n",
              "      <td>0.4618</td>\n",
              "      <td>0.0</td>\n",
              "      <td>Adipose Tissue</td>\n",
              "      <td>Adipose - Subcutaneous</td>\n",
              "      <td>GTEX-111CU</td>\n",
              "      <td>male</td>\n",
              "      <td>50-59</td>\n",
              "      <td>0.0</td>\n",
              "    </tr>\n",
              "    <tr>\n",
              "      <th>1049</th>\n",
              "      <td>ENSG00000049239.8</td>\n",
              "      <td>GTEX-111CU-1826-SM-5GZYN</td>\n",
              "      <td>61.9000</td>\n",
              "      <td>0.0</td>\n",
              "      <td>Adipose Tissue</td>\n",
              "      <td>Adipose - Subcutaneous</td>\n",
              "      <td>GTEX-111CU</td>\n",
              "      <td>male</td>\n",
              "      <td>50-59</td>\n",
              "      <td>0.0</td>\n",
              "    </tr>\n",
              "    <tr>\n",
              "      <th>1050</th>\n",
              "      <td>ENSG00000201746.1</td>\n",
              "      <td>GTEX-111CU-1826-SM-5GZYN</td>\n",
              "      <td>0.0000</td>\n",
              "      <td>0.0</td>\n",
              "      <td>Adipose Tissue</td>\n",
              "      <td>Adipose - Subcutaneous</td>\n",
              "      <td>GTEX-111CU</td>\n",
              "      <td>male</td>\n",
              "      <td>50-59</td>\n",
              "      <td>0.0</td>\n",
              "    </tr>\n",
              "  </tbody>\n",
              "</table>\n",
              "</div>"
            ],
            "text/plain": [
              "                   ENSG                    SAMPID      TPM  SMATSSCR  \\\n",
              "1046  ENSG00000116198.8  GTEX-111CU-1826-SM-5GZYN  11.0600       0.0   \n",
              "1047  ENSG00000221083.1  GTEX-111CU-1826-SM-5GZYN   0.0000       0.0   \n",
              "1048  ENSG00000201725.1  GTEX-111CU-1826-SM-5GZYN   0.4618       0.0   \n",
              "1049  ENSG00000049239.8  GTEX-111CU-1826-SM-5GZYN  61.9000       0.0   \n",
              "1050  ENSG00000201746.1  GTEX-111CU-1826-SM-5GZYN   0.0000       0.0   \n",
              "\n",
              "                SMTS                   SMTSD      SUBJID   SEX    AGE  DTHHRDY  \n",
              "1046  Adipose Tissue  Adipose - Subcutaneous  GTEX-111CU  male  50-59      0.0  \n",
              "1047  Adipose Tissue  Adipose - Subcutaneous  GTEX-111CU  male  50-59      0.0  \n",
              "1048  Adipose Tissue  Adipose - Subcutaneous  GTEX-111CU  male  50-59      0.0  \n",
              "1049  Adipose Tissue  Adipose - Subcutaneous  GTEX-111CU  male  50-59      0.0  \n",
              "1050  Adipose Tissue  Adipose - Subcutaneous  GTEX-111CU  male  50-59      0.0  "
            ]
          },
          "metadata": {
            "tags": []
          },
          "execution_count": 32
        }
      ]
    },
    {
      "metadata": {
        "id": "GNWwsSrNOAzX",
        "colab_type": "text"
      },
      "cell_type": "markdown",
      "source": [
        "\n",
        "\n",
        "```\n",
        "# This is formatted as code\n",
        "```\n",
        "\n",
        "### Remove data for gene-tissue pairs with all zero expression."
      ]
    },
    {
      "metadata": {
        "id": "3kAiTBrD0jfz",
        "colab_type": "code",
        "colab": {
          "autoexec": {
            "startup": false,
            "wait_interval": 0
          },
          "base_uri": "https://localhost:8080/",
          "height": 197
        },
        "outputId": "0afe7c21-bc5b-4a5c-b284-69da60dbd841",
        "executionInfo": {
          "status": "ok",
          "timestamp": 1529946140272,
          "user_tz": 360,
          "elapsed": 5876,
          "user": {
            "displayName": "Jeremy Yang",
            "photoUrl": "//lh4.googleusercontent.com/-oulNnl1aBlA/AAAAAAAAAAI/AAAAAAAAAm4/uOczRUUkS4g/s50-c-k-no/photo.jpg",
            "userId": "102807397641040966212"
          }
        }
      },
      "cell_type": "code",
      "source": [
        "max_tpm_0 = (rnaseq[['ENSG', 'SMTSD', 'TPM']].groupby(by=['ENSG','SMTSD'], as_index=True).max() == 0).rename(columns={'TPM':'max_tpm_0'})\n",
        "print(max_tpm_0.max_tpm_0.value_counts())\n",
        "rnaseq = pandas.merge(rnaseq, max_tpm_0, left_on=['ENSG', 'SMTSD'], right_index=True)\n",
        "rnaseq = rnaseq[~rnaseq['max_tpm_0']]\n",
        "rnaseq.drop(columns=['max_tpm_0'], inplace=True)"
      ],
      "execution_count": 97,
      "outputs": [
        {
          "output_type": "stream",
          "text": [
            "                                                max_tpm_0\n",
            "ENSG              SMTSD                                  \n",
            "ENSG00000004975.7 Adipose - Subcutaneous            False\n",
            "                  Adipose - Visceral (Omentum)      False\n",
            "                  Adrenal Gland                     False\n",
            "                  Artery - Aorta                    False\n",
            "                  Artery - Coronary                 False\n",
            "False    35734\n",
            "True      4982\n",
            "Name: max_tpm_0, dtype: int64\n"
          ],
          "name": "stdout"
        }
      ]
    },
    {
      "metadata": {
        "id": "Fo25DP6F5nSS",
        "colab_type": "text"
      },
      "cell_type": "markdown",
      "source": [
        "### Remove data for gene-tissue pairs not present in both sexes."
      ]
    },
    {
      "metadata": {
        "id": "lP7meXxz4lAY",
        "colab_type": "code",
        "colab": {
          "autoexec": {
            "startup": false,
            "wait_interval": 0
          },
          "base_uri": "https://localhost:8080/",
          "height": 71
        },
        "outputId": "31650556-b60f-444e-f336-9616b2c73fae",
        "executionInfo": {
          "status": "ok",
          "timestamp": 1529946544522,
          "user_tz": 360,
          "elapsed": 20498,
          "user": {
            "displayName": "Jeremy Yang",
            "photoUrl": "//lh4.googleusercontent.com/-oulNnl1aBlA/AAAAAAAAAAI/AAAAAAAAAm4/uOczRUUkS4g/s50-c-k-no/photo.jpg",
            "userId": "102807397641040966212"
          }
        }
      },
      "cell_type": "code",
      "source": [
        "sex_count = (rnaseq[['ENSG', 'SMTSD', 'SEX']].groupby(by=['ENSG','SMTSD'], as_index=True).nunique()).rename(columns={'SEX':'sex_count'})\n",
        "print(sex_count.sex_count.value_counts())\n",
        "rnaseq = pandas.merge(rnaseq, sex_count, left_on=['ENSG', 'SMTSD'], right_index=True)\n",
        "rnaseq = rnaseq[rnaseq['sex_count'] == 2]\n",
        "rnaseq.drop(columns=['sex_count'], inplace=True)"
      ],
      "execution_count": 99,
      "outputs": [
        {
          "output_type": "stream",
          "text": [
            "2    28974\n",
            "1     6760\n",
            "Name: sex_count, dtype: int64\n"
          ],
          "name": "stdout"
        }
      ]
    },
    {
      "metadata": {
        "id": "7IBesjzyrRDL",
        "colab_type": "text"
      },
      "cell_type": "markdown",
      "source": [
        "### Compute median TPM by gene+tissue:"
      ]
    },
    {
      "metadata": {
        "id": "RIifJ881rdNc",
        "colab_type": "code",
        "colab": {
          "autoexec": {
            "startup": false,
            "wait_interval": 0
          },
          "base_uri": "https://localhost:8080/",
          "height": 222
        },
        "outputId": "004ceb6e-6aab-4e19-c9b6-60620c06470e",
        "executionInfo": {
          "status": "ok",
          "timestamp": 1529946551577,
          "user_tz": 360,
          "elapsed": 1408,
          "user": {
            "displayName": "Jeremy Yang",
            "photoUrl": "//lh4.googleusercontent.com/-oulNnl1aBlA/AAAAAAAAAAI/AAAAAAAAAm4/uOczRUUkS4g/s50-c-k-no/photo.jpg",
            "userId": "102807397641040966212"
          }
        }
      },
      "cell_type": "code",
      "source": [
        "rnaseq_med = rnaseq[['ENSG', 'SMTSD', 'TPM']].groupby(by=['ENSG','SMTSD'], as_index=False).median()\n",
        "print(\"Unique counts: genes: %d ; tissues: %d ; gene-tissue pairs: %d\"%(rnaseq_med.ENSG.nunique(), rnaseq_med.SMTSD.nunique(), rnaseq_med.shape[0]))\n",
        "rnaseq_med.head()"
      ],
      "execution_count": 100,
      "outputs": [
        {
          "output_type": "stream",
          "text": [
            "Unique counts: genes: 1032 ; tissues: 31 ; gene-tissue pairs: 28974\n"
          ],
          "name": "stdout"
        },
        {
          "output_type": "execute_result",
          "data": {
            "text/html": [
              "<div>\n",
              "<style scoped>\n",
              "    .dataframe tbody tr th:only-of-type {\n",
              "        vertical-align: middle;\n",
              "    }\n",
              "\n",
              "    .dataframe tbody tr th {\n",
              "        vertical-align: top;\n",
              "    }\n",
              "\n",
              "    .dataframe thead th {\n",
              "        text-align: right;\n",
              "    }\n",
              "</style>\n",
              "<table border=\"1\" class=\"dataframe\">\n",
              "  <thead>\n",
              "    <tr style=\"text-align: right;\">\n",
              "      <th></th>\n",
              "      <th>ENSG</th>\n",
              "      <th>SMTSD</th>\n",
              "      <th>TPM</th>\n",
              "    </tr>\n",
              "  </thead>\n",
              "  <tbody>\n",
              "    <tr>\n",
              "      <th>0</th>\n",
              "      <td>ENSG00000004975.7</td>\n",
              "      <td>Adipose - Subcutaneous</td>\n",
              "      <td>31.050</td>\n",
              "    </tr>\n",
              "    <tr>\n",
              "      <th>1</th>\n",
              "      <td>ENSG00000004975.7</td>\n",
              "      <td>Adipose - Visceral (Omentum)</td>\n",
              "      <td>21.140</td>\n",
              "    </tr>\n",
              "    <tr>\n",
              "      <th>2</th>\n",
              "      <td>ENSG00000004975.7</td>\n",
              "      <td>Adrenal Gland</td>\n",
              "      <td>30.710</td>\n",
              "    </tr>\n",
              "    <tr>\n",
              "      <th>3</th>\n",
              "      <td>ENSG00000004975.7</td>\n",
              "      <td>Artery - Aorta</td>\n",
              "      <td>33.895</td>\n",
              "    </tr>\n",
              "    <tr>\n",
              "      <th>4</th>\n",
              "      <td>ENSG00000004975.7</td>\n",
              "      <td>Artery - Coronary</td>\n",
              "      <td>30.290</td>\n",
              "    </tr>\n",
              "  </tbody>\n",
              "</table>\n",
              "</div>"
            ],
            "text/plain": [
              "                ENSG                         SMTSD     TPM\n",
              "0  ENSG00000004975.7        Adipose - Subcutaneous  31.050\n",
              "1  ENSG00000004975.7  Adipose - Visceral (Omentum)  21.140\n",
              "2  ENSG00000004975.7                 Adrenal Gland  30.710\n",
              "3  ENSG00000004975.7                Artery - Aorta  33.895\n",
              "4  ENSG00000004975.7             Artery - Coronary  30.290"
            ]
          },
          "metadata": {
            "tags": []
          },
          "execution_count": 100
        }
      ]
    },
    {
      "metadata": {
        "id": "__GC_6NC1C55",
        "colab_type": "code",
        "colab": {
          "autoexec": {
            "startup": false,
            "wait_interval": 0
          }
        }
      },
      "cell_type": "code",
      "source": [
        "rnaseq_med.to_csv('rnaseq_med.tsv', sep='\\t')\n",
        "google.colab.files.download('rnaseq_med.tsv')"
      ],
      "execution_count": 0,
      "outputs": []
    },
    {
      "metadata": {
        "id": "5lWkVXQW4Mkk",
        "colab_type": "code",
        "colab": {
          "autoexec": {
            "startup": false,
            "wait_interval": 0
          },
          "base_uri": "https://localhost:8080/",
          "height": 179
        },
        "outputId": "5c88a797-72c6-4c08-ec8d-976e5de85377",
        "executionInfo": {
          "status": "ok",
          "timestamp": 1529946555652,
          "user_tz": 360,
          "elapsed": 372,
          "user": {
            "displayName": "Jeremy Yang",
            "photoUrl": "//lh4.googleusercontent.com/-oulNnl1aBlA/AAAAAAAAAAI/AAAAAAAAAm4/uOczRUUkS4g/s50-c-k-no/photo.jpg",
            "userId": "102807397641040966212"
          }
        }
      },
      "cell_type": "code",
      "source": [
        "rnaseq_med.TPM.describe()"
      ],
      "execution_count": 101,
      "outputs": [
        {
          "output_type": "execute_result",
          "data": {
            "text/plain": [
              "count    28974.000000\n",
              "mean        12.176161\n",
              "std         92.147086\n",
              "min          0.000000\n",
              "25%          0.000000\n",
              "50%          0.079800\n",
              "75%          2.737125\n",
              "max       5006.000000\n",
              "Name: TPM, dtype: float64"
            ]
          },
          "metadata": {
            "tags": []
          },
          "execution_count": 101
        }
      ]
    },
    {
      "metadata": {
        "id": "OIwpu3JXvv9D",
        "colab_type": "text"
      },
      "cell_type": "markdown",
      "source": [
        "### LOG10(TPM+1) useful transformation."
      ]
    },
    {
      "metadata": {
        "id": "Xiy-KUA6p811",
        "colab_type": "code",
        "colab": {
          "autoexec": {
            "startup": false,
            "wait_interval": 0
          },
          "base_uri": "https://localhost:8080/",
          "height": 0
        },
        "outputId": "91174967-3c5e-4893-f293-757467ce3cec",
        "executionInfo": {
          "status": "ok",
          "timestamp": 1529946558707,
          "user_tz": 360,
          "elapsed": 302,
          "user": {
            "displayName": "Jeremy Yang",
            "photoUrl": "//lh4.googleusercontent.com/-oulNnl1aBlA/AAAAAAAAAAI/AAAAAAAAAm4/uOczRUUkS4g/s50-c-k-no/photo.jpg",
            "userId": "102807397641040966212"
          }
        }
      },
      "cell_type": "code",
      "source": [
        "rnaseq_med['LOG_TPM'] = rnaseq_med.TPM.apply(lambda x: numpy.log10(x+1))"
      ],
      "execution_count": 102,
      "outputs": []
    },
    {
      "metadata": {
        "id": "4FNc-Y-k68GD",
        "colab_type": "code",
        "colab": {
          "autoexec": {
            "startup": false,
            "wait_interval": 0
          },
          "base_uri": "https://localhost:8080/",
          "height": 365
        },
        "outputId": "1b04d35c-e430-4a19-ac36-db9cedbcd5b1",
        "executionInfo": {
          "status": "ok",
          "timestamp": 1529946560763,
          "user_tz": 360,
          "elapsed": 470,
          "user": {
            "displayName": "Jeremy Yang",
            "photoUrl": "//lh4.googleusercontent.com/-oulNnl1aBlA/AAAAAAAAAAI/AAAAAAAAAm4/uOczRUUkS4g/s50-c-k-no/photo.jpg",
            "userId": "102807397641040966212"
          }
        }
      },
      "cell_type": "code",
      "source": [
        "rnaseq_med.LOG_TPM.plot(kind='box')"
      ],
      "execution_count": 103,
      "outputs": [
        {
          "output_type": "execute_result",
          "data": {
            "text/plain": [
              "<matplotlib.axes._subplots.AxesSubplot at 0x7f253e1ce240>"
            ]
          },
          "metadata": {
            "tags": []
          },
          "execution_count": 103
        },
        {
          "output_type": "display_data",
          "data": {
            "image/png": "[encoded data removed]",
            "text/plain": [
              "<matplotlib.figure.Figure at 0x7f253dd090b8>"
            ]
          },
          "metadata": {
            "tags": []
          }
        }
      ]
    },
    {
      "metadata": {
        "id": "fsVkfXPhw4Gy",
        "colab_type": "text"
      },
      "cell_type": "markdown",
      "source": [
        "### Compute tissue specificity index (Yanai et al., 2004).\n",
        "\n",
        "> ## $ \\tau = \\frac{\\sum_{i=0}^N (1 - x_i)}{N - 1} $\n",
        "\n",
        "> * N = number of tissues\n",
        "> * x = expression profile component normalized by the maximal component value\n",
        "\n",
        "Validate with example vector from paper.  Should be 0.95.\n",
        "\n"
      ]
    },
    {
      "metadata": {
        "id": "bHpiwd8qxBxS",
        "colab_type": "code",
        "colab": {
          "autoexec": {
            "startup": false,
            "wait_interval": 0
          },
          "base_uri": "https://localhost:8080/",
          "height": 35
        },
        "outputId": "83193202-fa7a-409a-acb2-01347aca1de5",
        "executionInfo": {
          "status": "ok",
          "timestamp": 1529946564005,
          "user_tz": 360,
          "elapsed": 292,
          "user": {
            "displayName": "Jeremy Yang",
            "photoUrl": "//lh4.googleusercontent.com/-oulNnl1aBlA/AAAAAAAAAAI/AAAAAAAAAm4/uOczRUUkS4g/s50-c-k-no/photo.jpg",
            "userId": "102807397641040966212"
          }
        }
      },
      "cell_type": "code",
      "source": [
        "def TAU(X):\n",
        "  N = len(X)\n",
        "  xmax = max(X)\n",
        "  if xmax==0: return(0.0)\n",
        "  tau = 0.0\n",
        "  for x in X:\n",
        "    tau += (1 - x/xmax)\n",
        "  tau /= (N - 1)\n",
        "  return(tau)\n",
        "print('%.2f'%TAU([0,8,0,0,0,2,0,2,0,0,0,0]))"
      ],
      "execution_count": 104,
      "outputs": [
        {
          "output_type": "stream",
          "text": [
            "0.95\n"
          ],
          "name": "stdout"
        }
      ]
    },
    {
      "metadata": {
        "id": "XQN09AmIz4M1",
        "colab_type": "code",
        "colab": {
          "autoexec": {
            "startup": false,
            "wait_interval": 0
          },
          "base_uri": "https://localhost:8080/",
          "height": 235
        },
        "outputId": "781d76e2-7a87-45c9-fe85-152117cadfd3",
        "executionInfo": {
          "status": "ok",
          "timestamp": 1529946567784,
          "user_tz": 360,
          "elapsed": 340,
          "user": {
            "displayName": "Jeremy Yang",
            "photoUrl": "//lh4.googleusercontent.com/-oulNnl1aBlA/AAAAAAAAAAI/AAAAAAAAAm4/uOczRUUkS4g/s50-c-k-no/photo.jpg",
            "userId": "102807397641040966212"
          }
        }
      },
      "cell_type": "code",
      "source": [
        "rnaseq_tau = rnaseq_med.groupby(['ENSG']).TPM.agg(TAU)\n",
        "rnaseq_tau = pandas.DataFrame(rnaseq_tau).rename(columns={'TPM':'TAU'})\n",
        "rnaseq_tau.head()"
      ],
      "execution_count": 105,
      "outputs": [
        {
          "output_type": "execute_result",
          "data": {
            "text/html": [
              "<div>\n",
              "<style scoped>\n",
              "    .dataframe tbody tr th:only-of-type {\n",
              "        vertical-align: middle;\n",
              "    }\n",
              "\n",
              "    .dataframe tbody tr th {\n",
              "        vertical-align: top;\n",
              "    }\n",
              "\n",
              "    .dataframe thead th {\n",
              "        text-align: right;\n",
              "    }\n",
              "</style>\n",
              "<table border=\"1\" class=\"dataframe\">\n",
              "  <thead>\n",
              "    <tr style=\"text-align: right;\">\n",
              "      <th></th>\n",
              "      <th>TAU</th>\n",
              "    </tr>\n",
              "    <tr>\n",
              "      <th>ENSG</th>\n",
              "      <th></th>\n",
              "    </tr>\n",
              "  </thead>\n",
              "  <tbody>\n",
              "    <tr>\n",
              "      <th>ENSG00000004975.7</th>\n",
              "      <td>0.410932</td>\n",
              "    </tr>\n",
              "    <tr>\n",
              "      <th>ENSG00000008086.6</th>\n",
              "      <td>0.631277</td>\n",
              "    </tr>\n",
              "    <tr>\n",
              "      <th>ENSG00000009950.11</th>\n",
              "      <td>0.929331</td>\n",
              "    </tr>\n",
              "    <tr>\n",
              "      <th>ENSG00000012048.15</th>\n",
              "      <td>0.712469</td>\n",
              "    </tr>\n",
              "    <tr>\n",
              "      <th>ENSG00000014138.4</th>\n",
              "      <td>0.568580</td>\n",
              "    </tr>\n",
              "  </tbody>\n",
              "</table>\n",
              "</div>"
            ],
            "text/plain": [
              "                         TAU\n",
              "ENSG                        \n",
              "ENSG00000004975.7   0.410932\n",
              "ENSG00000008086.6   0.631277\n",
              "ENSG00000009950.11  0.929331\n",
              "ENSG00000012048.15  0.712469\n",
              "ENSG00000014138.4   0.568580"
            ]
          },
          "metadata": {
            "tags": []
          },
          "execution_count": 105
        }
      ]
    },
    {
      "metadata": {
        "id": "O-CdHZaY-Y0L",
        "colab_type": "code",
        "colab": {
          "autoexec": {
            "startup": false,
            "wait_interval": 0
          },
          "base_uri": "https://localhost:8080/",
          "height": 369
        },
        "outputId": "5128b299-2d45-4e09-a7f2-71617d3737e9",
        "executionInfo": {
          "status": "ok",
          "timestamp": 1529946571650,
          "user_tz": 360,
          "elapsed": 448,
          "user": {
            "displayName": "Jeremy Yang",
            "photoUrl": "//lh4.googleusercontent.com/-oulNnl1aBlA/AAAAAAAAAAI/AAAAAAAAAm4/uOczRUUkS4g/s50-c-k-no/photo.jpg",
            "userId": "102807397641040966212"
          }
        }
      },
      "cell_type": "code",
      "source": [
        "rnaseq_tau.plot(kind='hist')"
      ],
      "execution_count": 106,
      "outputs": [
        {
          "output_type": "execute_result",
          "data": {
            "text/plain": [
              "<matplotlib.axes._subplots.AxesSubplot at 0x7f253e2eb128>"
            ]
          },
          "metadata": {
            "tags": []
          },
          "execution_count": 106
        },
        {
          "output_type": "display_data",
          "data": {
            "image/png": "[encoded data removed]",
            "text/plain": [
              "<matplotlib.figure.Figure at 0x7f253dee1550>"
            ]
          },
          "metadata": {
            "tags": []
          }
        }
      ]
    },
    {
      "metadata": {
        "id": "UZhpN48Q2Qrg",
        "colab_type": "text"
      },
      "cell_type": "markdown",
      "source": [
        "### Assign gene-tissue rank (quantile of median) among tissues.\n",
        "Low-Med-High cutoff quantiles: .25 and .75.  These ranks measure, for a given gene, relative tissue expression from the gene-tissue TPMs."
      ]
    },
    {
      "metadata": {
        "id": "FT2DcDCK2zaM",
        "colab_type": "code",
        "colab": {
          "autoexec": {
            "startup": false,
            "wait_interval": 0
          },
          "base_uri": "https://localhost:8080/",
          "height": 0
        },
        "outputId": "7a248056-25e1-4e96-e8f2-7ddb7b6224fa",
        "executionInfo": {
          "status": "ok",
          "timestamp": 1529949745903,
          "user_tz": 360,
          "elapsed": 364,
          "user": {
            "displayName": "Jeremy Yang",
            "photoUrl": "//lh4.googleusercontent.com/-oulNnl1aBlA/AAAAAAAAAAI/AAAAAAAAAm4/uOczRUUkS4g/s50-c-k-no/photo.jpg",
            "userId": "102807397641040966212"
          }
        }
      },
      "cell_type": "code",
      "source": [
        "def GTRanks(rnaseq, tpm_col):\n",
        "  tpm_rank = pandas.Series(dtype=\"float\", index=range(rnaseq.shape[0]))\n",
        "  for i in rnaseq.index:\n",
        "    ensg = rnaseq.ENSG[i]\n",
        "    val_this = rnaseq[tpm_col][i]\n",
        "    vals_ensg = rnaseq[tpm_col][rnaseq.ENSG==ensg]\n",
        "    vals_ensg = vals_ensg.sort_values().reset_index(drop=True)\n",
        "    j = vals_ensg[vals_ensg == val_this].index[0]\n",
        "    tpm_rank.iloc[i] = j/vals_ensg.size \n",
        "\n",
        "  rnaseq[tpm_col+'_RANK'] = tpm_rank\n",
        "  return(rnaseq)"
      ],
      "execution_count": 123,
      "outputs": []
    },
    {
      "metadata": {
        "id": "rtkZFKiuNIgA",
        "colab_type": "code",
        "colab": {
          "autoexec": {
            "startup": false,
            "wait_interval": 0
          },
          "base_uri": "https://localhost:8080/",
          "height": 179
        },
        "outputId": "943a2ae6-9c54-4a2a-84d2-324d919135a3",
        "executionInfo": {
          "status": "ok",
          "timestamp": 1529946577152,
          "user_tz": 360,
          "elapsed": 293,
          "user": {
            "displayName": "Jeremy Yang",
            "photoUrl": "//lh4.googleusercontent.com/-oulNnl1aBlA/AAAAAAAAAAI/AAAAAAAAAm4/uOczRUUkS4g/s50-c-k-no/photo.jpg",
            "userId": "102807397641040966212"
          }
        }
      },
      "cell_type": "code",
      "source": [
        "rnaseq_med.info()"
      ],
      "execution_count": 108,
      "outputs": [
        {
          "output_type": "stream",
          "text": [
            "<class 'pandas.core.frame.DataFrame'>\n",
            "Int64Index: 28974 entries, 0 to 28973\n",
            "Data columns (total 4 columns):\n",
            "ENSG       28974 non-null object\n",
            "SMTSD      28974 non-null object\n",
            "TPM        28974 non-null float64\n",
            "LOG_TPM    28974 non-null float64\n",
            "dtypes: float64(2), object(2)\n",
            "memory usage: 1.1+ MB\n"
          ],
          "name": "stdout"
        }
      ]
    },
    {
      "metadata": {
        "id": "7EtulAR4z2Di",
        "colab_type": "code",
        "colab": {
          "autoexec": {
            "startup": false,
            "wait_interval": 0
          },
          "base_uri": "https://localhost:8080/",
          "height": 222
        },
        "outputId": "b839c7fb-bae4-490e-bf8d-ef7775cf4f18",
        "executionInfo": {
          "status": "ok",
          "timestamp": 1529949892056,
          "user_tz": 360,
          "elapsed": 99212,
          "user": {
            "displayName": "Jeremy Yang",
            "photoUrl": "//lh4.googleusercontent.com/-oulNnl1aBlA/AAAAAAAAAAI/AAAAAAAAAm4/uOczRUUkS4g/s50-c-k-no/photo.jpg",
            "userId": "102807397641040966212"
          }
        }
      },
      "cell_type": "code",
      "source": [
        "t0 = time.time()\n",
        "rnaseq_level = GTRanks(rnaseq_med.copy(), 'TPM')\n",
        "print(\"Elapsed: %ds\"%(time.time()-t0))\n",
        "rnaseq_level.head()"
      ],
      "execution_count": 124,
      "outputs": [
        {
          "output_type": "stream",
          "text": [
            "Elapsed: 98s\n"
          ],
          "name": "stdout"
        },
        {
          "output_type": "execute_result",
          "data": {
            "text/html": [
              "<div>\n",
              "<style scoped>\n",
              "    .dataframe tbody tr th:only-of-type {\n",
              "        vertical-align: middle;\n",
              "    }\n",
              "\n",
              "    .dataframe tbody tr th {\n",
              "        vertical-align: top;\n",
              "    }\n",
              "\n",
              "    .dataframe thead th {\n",
              "        text-align: right;\n",
              "    }\n",
              "</style>\n",
              "<table border=\"1\" class=\"dataframe\">\n",
              "  <thead>\n",
              "    <tr style=\"text-align: right;\">\n",
              "      <th></th>\n",
              "      <th>ENSG</th>\n",
              "      <th>SMTSD</th>\n",
              "      <th>TPM</th>\n",
              "      <th>LOG_TPM</th>\n",
              "      <th>TPM_RANK</th>\n",
              "      <th>LEVEL</th>\n",
              "      <th>AGE</th>\n",
              "      <th>SEX</th>\n",
              "    </tr>\n",
              "  </thead>\n",
              "  <tbody>\n",
              "    <tr>\n",
              "      <th>0</th>\n",
              "      <td>ENSG00000004975.7</td>\n",
              "      <td>Adipose - Subcutaneous</td>\n",
              "      <td>31.050</td>\n",
              "      <td>1.505828</td>\n",
              "      <td>0.548387</td>\n",
              "      <td>Medium</td>\n",
              "      <td>ALL</td>\n",
              "      <td>ALL</td>\n",
              "    </tr>\n",
              "    <tr>\n",
              "      <th>1</th>\n",
              "      <td>ENSG00000004975.7</td>\n",
              "      <td>Adipose - Visceral (Omentum)</td>\n",
              "      <td>21.140</td>\n",
              "      <td>1.345178</td>\n",
              "      <td>0.258065</td>\n",
              "      <td>Medium</td>\n",
              "      <td>ALL</td>\n",
              "      <td>ALL</td>\n",
              "    </tr>\n",
              "    <tr>\n",
              "      <th>2</th>\n",
              "      <td>ENSG00000004975.7</td>\n",
              "      <td>Adrenal Gland</td>\n",
              "      <td>30.710</td>\n",
              "      <td>1.501196</td>\n",
              "      <td>0.483871</td>\n",
              "      <td>Medium</td>\n",
              "      <td>ALL</td>\n",
              "      <td>ALL</td>\n",
              "    </tr>\n",
              "    <tr>\n",
              "      <th>3</th>\n",
              "      <td>ENSG00000004975.7</td>\n",
              "      <td>Artery - Aorta</td>\n",
              "      <td>33.895</td>\n",
              "      <td>1.542763</td>\n",
              "      <td>0.612903</td>\n",
              "      <td>Medium</td>\n",
              "      <td>ALL</td>\n",
              "      <td>ALL</td>\n",
              "    </tr>\n",
              "    <tr>\n",
              "      <th>4</th>\n",
              "      <td>ENSG00000004975.7</td>\n",
              "      <td>Artery - Coronary</td>\n",
              "      <td>30.290</td>\n",
              "      <td>1.495406</td>\n",
              "      <td>0.419355</td>\n",
              "      <td>Medium</td>\n",
              "      <td>ALL</td>\n",
              "      <td>ALL</td>\n",
              "    </tr>\n",
              "  </tbody>\n",
              "</table>\n",
              "</div>"
            ],
            "text/plain": [
              "                ENSG                         SMTSD     TPM   LOG_TPM  \\\n",
              "0  ENSG00000004975.7        Adipose - Subcutaneous  31.050  1.505828   \n",
              "1  ENSG00000004975.7  Adipose - Visceral (Omentum)  21.140  1.345178   \n",
              "2  ENSG00000004975.7                 Adrenal Gland  30.710  1.501196   \n",
              "3  ENSG00000004975.7                Artery - Aorta  33.895  1.542763   \n",
              "4  ENSG00000004975.7             Artery - Coronary  30.290  1.495406   \n",
              "\n",
              "   TPM_RANK   LEVEL  AGE  SEX  \n",
              "0  0.548387  Medium  ALL  ALL  \n",
              "1  0.258065  Medium  ALL  ALL  \n",
              "2  0.483871  Medium  ALL  ALL  \n",
              "3  0.612903  Medium  ALL  ALL  \n",
              "4  0.419355  Medium  ALL  ALL  "
            ]
          },
          "metadata": {
            "tags": []
          },
          "execution_count": 124
        }
      ]
    },
    {
      "metadata": {
        "id": "mBdoL0jWcc7p",
        "colab_type": "code",
        "colab": {
          "autoexec": {
            "startup": false,
            "wait_interval": 0
          },
          "base_uri": "https://localhost:8080/",
          "height": 365
        },
        "outputId": "a3ec0262-0015-4ae8-f0be-c74fa64bc8ef",
        "executionInfo": {
          "status": "ok",
          "timestamp": 1529957536950,
          "user_tz": 360,
          "elapsed": 648,
          "user": {
            "displayName": "Jeremy Yang",
            "photoUrl": "//lh4.googleusercontent.com/-oulNnl1aBlA/AAAAAAAAAAI/AAAAAAAAAm4/uOczRUUkS4g/s50-c-k-no/photo.jpg",
            "userId": "102807397641040966212"
          }
        }
      },
      "cell_type": "code",
      "source": [
        "rnaseq_level.TPM_RANK.plot(kind='hist')"
      ],
      "execution_count": 135,
      "outputs": [
        {
          "output_type": "execute_result",
          "data": {
            "text/plain": [
              "<matplotlib.axes._subplots.AxesSubplot at 0x7f253e3c0a90>"
            ]
          },
          "metadata": {
            "tags": []
          },
          "execution_count": 135
        },
        {
          "output_type": "display_data",
          "data": {
            "image/png": "[encoded data removed]",
            "text/plain": [
              "<matplotlib.figure.Figure at 0x7f253e36d6d8>"
            ]
          },
          "metadata": {
            "tags": []
          }
        }
      ]
    },
    {
      "metadata": {
        "id": "U0ro00ZPczBL",
        "colab_type": "code",
        "colab": {
          "autoexec": {
            "startup": false,
            "wait_interval": 0
          },
          "base_uri": "https://localhost:8080/",
          "height": 297
        },
        "outputId": "aeef513a-df18-4418-acf2-aed19877b569",
        "executionInfo": {
          "status": "ok",
          "timestamp": 1529957544500,
          "user_tz": 360,
          "elapsed": 484,
          "user": {
            "displayName": "Jeremy Yang",
            "photoUrl": "//lh4.googleusercontent.com/-oulNnl1aBlA/AAAAAAAAAAI/AAAAAAAAAm4/uOczRUUkS4g/s50-c-k-no/photo.jpg",
            "userId": "102807397641040966212"
          }
        }
      },
      "cell_type": "code",
      "source": [
        "rnaseq_level.describe()"
      ],
      "execution_count": 136,
      "outputs": [
        {
          "output_type": "execute_result",
          "data": {
            "text/html": [
              "<div>\n",
              "<style scoped>\n",
              "    .dataframe tbody tr th:only-of-type {\n",
              "        vertical-align: middle;\n",
              "    }\n",
              "\n",
              "    .dataframe tbody tr th {\n",
              "        vertical-align: top;\n",
              "    }\n",
              "\n",
              "    .dataframe thead th {\n",
              "        text-align: right;\n",
              "    }\n",
              "</style>\n",
              "<table border=\"1\" class=\"dataframe\">\n",
              "  <thead>\n",
              "    <tr style=\"text-align: right;\">\n",
              "      <th></th>\n",
              "      <th>TPM</th>\n",
              "      <th>LOG_TPM</th>\n",
              "      <th>TPM_RANK</th>\n",
              "    </tr>\n",
              "  </thead>\n",
              "  <tbody>\n",
              "    <tr>\n",
              "      <th>count</th>\n",
              "      <td>28974.000000</td>\n",
              "      <td>28974.000000</td>\n",
              "      <td>28974.000000</td>\n",
              "    </tr>\n",
              "    <tr>\n",
              "      <th>mean</th>\n",
              "      <td>12.176161</td>\n",
              "      <td>0.373786</td>\n",
              "      <td>0.292579</td>\n",
              "    </tr>\n",
              "    <tr>\n",
              "      <th>std</th>\n",
              "      <td>92.147086</td>\n",
              "      <td>0.589962</td>\n",
              "      <td>0.335997</td>\n",
              "    </tr>\n",
              "    <tr>\n",
              "      <th>min</th>\n",
              "      <td>0.000000</td>\n",
              "      <td>0.000000</td>\n",
              "      <td>0.000000</td>\n",
              "    </tr>\n",
              "    <tr>\n",
              "      <th>25%</th>\n",
              "      <td>0.000000</td>\n",
              "      <td>0.000000</td>\n",
              "      <td>0.000000</td>\n",
              "    </tr>\n",
              "    <tr>\n",
              "      <th>50%</th>\n",
              "      <td>0.079800</td>\n",
              "      <td>0.033343</td>\n",
              "      <td>0.129032</td>\n",
              "    </tr>\n",
              "    <tr>\n",
              "      <th>75%</th>\n",
              "      <td>2.737125</td>\n",
              "      <td>0.572538</td>\n",
              "      <td>0.580645</td>\n",
              "    </tr>\n",
              "    <tr>\n",
              "      <th>max</th>\n",
              "      <td>5006.000000</td>\n",
              "      <td>3.699578</td>\n",
              "      <td>0.967742</td>\n",
              "    </tr>\n",
              "  </tbody>\n",
              "</table>\n",
              "</div>"
            ],
            "text/plain": [
              "                TPM       LOG_TPM      TPM_RANK\n",
              "count  28974.000000  28974.000000  28974.000000\n",
              "mean      12.176161      0.373786      0.292579\n",
              "std       92.147086      0.589962      0.335997\n",
              "min        0.000000      0.000000      0.000000\n",
              "25%        0.000000      0.000000      0.000000\n",
              "50%        0.079800      0.033343      0.129032\n",
              "75%        2.737125      0.572538      0.580645\n",
              "max     5006.000000      3.699578      0.967742"
            ]
          },
          "metadata": {
            "tags": []
          },
          "execution_count": 136
        }
      ]
    },
    {
      "metadata": {
        "id": "x4S5GCQDmJPb",
        "colab_type": "code",
        "colab": {
          "autoexec": {
            "startup": false,
            "wait_interval": 0
          }
        }
      },
      "cell_type": "code",
      "source": [
        "rnaseq_level.to_csv('rnaseq_level.tsv', sep='\\t')\n",
        "google.colab.files.download('rnaseq_level.tsv')"
      ],
      "execution_count": 0,
      "outputs": []
    },
    {
      "metadata": {
        "id": "PMGtTxqyZfoM",
        "colab_type": "code",
        "colab": {
          "autoexec": {
            "startup": false,
            "wait_interval": 0
          },
          "base_uri": "https://localhost:8080/",
          "height": 204
        },
        "outputId": "74993a27-6b4c-4e82-8ebe-605b4e74aee9",
        "executionInfo": {
          "status": "ok",
          "timestamp": 1529957557074,
          "user_tz": 360,
          "elapsed": 288,
          "user": {
            "displayName": "Jeremy Yang",
            "photoUrl": "//lh4.googleusercontent.com/-oulNnl1aBlA/AAAAAAAAAAI/AAAAAAAAAm4/uOczRUUkS4g/s50-c-k-no/photo.jpg",
            "userId": "102807397641040966212"
          }
        }
      },
      "cell_type": "code",
      "source": [
        "rnaseq_level['LEVEL'] = rnaseq_level.TPM_RANK.apply(lambda x: 'Not detected' if x==0 else 'Low' if x<.25 else 'Medium' if x<.75 else 'High')\n",
        "rnaseq_level['AGE'] = 'ALL'\n",
        "rnaseq_level['SEX'] = 'ALL'\n",
        "rnaseq_level.head()"
      ],
      "execution_count": 137,
      "outputs": [
        {
          "output_type": "execute_result",
          "data": {
            "text/html": [
              "<div>\n",
              "<style scoped>\n",
              "    .dataframe tbody tr th:only-of-type {\n",
              "        vertical-align: middle;\n",
              "    }\n",
              "\n",
              "    .dataframe tbody tr th {\n",
              "        vertical-align: top;\n",
              "    }\n",
              "\n",
              "    .dataframe thead th {\n",
              "        text-align: right;\n",
              "    }\n",
              "</style>\n",
              "<table border=\"1\" class=\"dataframe\">\n",
              "  <thead>\n",
              "    <tr style=\"text-align: right;\">\n",
              "      <th></th>\n",
              "      <th>ENSG</th>\n",
              "      <th>SMTSD</th>\n",
              "      <th>TPM</th>\n",
              "      <th>LOG_TPM</th>\n",
              "      <th>TPM_RANK</th>\n",
              "      <th>LEVEL</th>\n",
              "      <th>AGE</th>\n",
              "      <th>SEX</th>\n",
              "    </tr>\n",
              "  </thead>\n",
              "  <tbody>\n",
              "    <tr>\n",
              "      <th>0</th>\n",
              "      <td>ENSG00000004975.7</td>\n",
              "      <td>Adipose - Subcutaneous</td>\n",
              "      <td>31.050</td>\n",
              "      <td>1.505828</td>\n",
              "      <td>0.548387</td>\n",
              "      <td>Medium</td>\n",
              "      <td>ALL</td>\n",
              "      <td>ALL</td>\n",
              "    </tr>\n",
              "    <tr>\n",
              "      <th>1</th>\n",
              "      <td>ENSG00000004975.7</td>\n",
              "      <td>Adipose - Visceral (Omentum)</td>\n",
              "      <td>21.140</td>\n",
              "      <td>1.345178</td>\n",
              "      <td>0.258065</td>\n",
              "      <td>Medium</td>\n",
              "      <td>ALL</td>\n",
              "      <td>ALL</td>\n",
              "    </tr>\n",
              "    <tr>\n",
              "      <th>2</th>\n",
              "      <td>ENSG00000004975.7</td>\n",
              "      <td>Adrenal Gland</td>\n",
              "      <td>30.710</td>\n",
              "      <td>1.501196</td>\n",
              "      <td>0.483871</td>\n",
              "      <td>Medium</td>\n",
              "      <td>ALL</td>\n",
              "      <td>ALL</td>\n",
              "    </tr>\n",
              "    <tr>\n",
              "      <th>3</th>\n",
              "      <td>ENSG00000004975.7</td>\n",
              "      <td>Artery - Aorta</td>\n",
              "      <td>33.895</td>\n",
              "      <td>1.542763</td>\n",
              "      <td>0.612903</td>\n",
              "      <td>Medium</td>\n",
              "      <td>ALL</td>\n",
              "      <td>ALL</td>\n",
              "    </tr>\n",
              "    <tr>\n",
              "      <th>4</th>\n",
              "      <td>ENSG00000004975.7</td>\n",
              "      <td>Artery - Coronary</td>\n",
              "      <td>30.290</td>\n",
              "      <td>1.495406</td>\n",
              "      <td>0.419355</td>\n",
              "      <td>Medium</td>\n",
              "      <td>ALL</td>\n",
              "      <td>ALL</td>\n",
              "    </tr>\n",
              "  </tbody>\n",
              "</table>\n",
              "</div>"
            ],
            "text/plain": [
              "                ENSG                         SMTSD     TPM   LOG_TPM  \\\n",
              "0  ENSG00000004975.7        Adipose - Subcutaneous  31.050  1.505828   \n",
              "1  ENSG00000004975.7  Adipose - Visceral (Omentum)  21.140  1.345178   \n",
              "2  ENSG00000004975.7                 Adrenal Gland  30.710  1.501196   \n",
              "3  ENSG00000004975.7                Artery - Aorta  33.895  1.542763   \n",
              "4  ENSG00000004975.7             Artery - Coronary  30.290  1.495406   \n",
              "\n",
              "   TPM_RANK   LEVEL  AGE  SEX  \n",
              "0  0.548387  Medium  ALL  ALL  \n",
              "1  0.258065  Medium  ALL  ALL  \n",
              "2  0.483871  Medium  ALL  ALL  \n",
              "3  0.612903  Medium  ALL  ALL  \n",
              "4  0.419355  Medium  ALL  ALL  "
            ]
          },
          "metadata": {
            "tags": []
          },
          "execution_count": 137
        }
      ]
    },
    {
      "metadata": {
        "id": "ZuwizN20dPOc",
        "colab_type": "code",
        "colab": {
          "autoexec": {
            "startup": false,
            "wait_interval": 0
          },
          "base_uri": "https://localhost:8080/",
          "height": 107
        },
        "outputId": "c1a0cd17-d7a0-4f04-a089-2dc55dd80992",
        "executionInfo": {
          "status": "ok",
          "timestamp": 1529957561777,
          "user_tz": 360,
          "elapsed": 332,
          "user": {
            "displayName": "Jeremy Yang",
            "photoUrl": "//lh4.googleusercontent.com/-oulNnl1aBlA/AAAAAAAAAAI/AAAAAAAAAm4/uOczRUUkS4g/s50-c-k-no/photo.jpg",
            "userId": "102807397641040966212"
          }
        }
      },
      "cell_type": "code",
      "source": [
        "rnaseq_level.LEVEL.value_counts().sort_index()"
      ],
      "execution_count": 138,
      "outputs": [
        {
          "output_type": "execute_result",
          "data": {
            "text/plain": [
              "High             4350\n",
              "Low              3199\n",
              "Medium           8404\n",
              "Not detected    13021\n",
              "Name: LEVEL, dtype: int64"
            ]
          },
          "metadata": {
            "tags": []
          },
          "execution_count": 138
        }
      ]
    },
    {
      "metadata": {
        "id": "uYN-z_adiKwz",
        "colab_type": "text"
      },
      "cell_type": "markdown",
      "source": [
        "### Compute median TPM by gene+tissue+SEX:"
      ]
    },
    {
      "metadata": {
        "id": "1d_9a09mpI3Q",
        "colab_type": "code",
        "colab": {
          "autoexec": {
            "startup": false,
            "wait_interval": 0
          },
          "base_uri": "https://localhost:8080/",
          "height": 222
        },
        "outputId": "979d966b-df8f-435a-c7e3-b9fc6e89b1ae",
        "executionInfo": {
          "status": "ok",
          "timestamp": 1529957577229,
          "user_tz": 360,
          "elapsed": 2081,
          "user": {
            "displayName": "Jeremy Yang",
            "photoUrl": "//lh4.googleusercontent.com/-oulNnl1aBlA/AAAAAAAAAAI/AAAAAAAAAm4/uOczRUUkS4g/s50-c-k-no/photo.jpg",
            "userId": "102807397641040966212"
          }
        }
      },
      "cell_type": "code",
      "source": [
        "rnaseq_med_sex = rnaseq[['ENSG', 'SMTSD', 'SEX', 'TPM']].groupby(by=['ENSG','SMTSD','SEX'], as_index=False).median()\n",
        "print(rnaseq_med_sex.shape)\n",
        "rnaseq_med_sex.head()"
      ],
      "execution_count": 139,
      "outputs": [
        {
          "output_type": "stream",
          "text": [
            "(57948, 4)\n"
          ],
          "name": "stdout"
        },
        {
          "output_type": "execute_result",
          "data": {
            "text/html": [
              "<div>\n",
              "<style scoped>\n",
              "    .dataframe tbody tr th:only-of-type {\n",
              "        vertical-align: middle;\n",
              "    }\n",
              "\n",
              "    .dataframe tbody tr th {\n",
              "        vertical-align: top;\n",
              "    }\n",
              "\n",
              "    .dataframe thead th {\n",
              "        text-align: right;\n",
              "    }\n",
              "</style>\n",
              "<table border=\"1\" class=\"dataframe\">\n",
              "  <thead>\n",
              "    <tr style=\"text-align: right;\">\n",
              "      <th></th>\n",
              "      <th>ENSG</th>\n",
              "      <th>SMTSD</th>\n",
              "      <th>SEX</th>\n",
              "      <th>TPM</th>\n",
              "    </tr>\n",
              "  </thead>\n",
              "  <tbody>\n",
              "    <tr>\n",
              "      <th>0</th>\n",
              "      <td>ENSG00000004975.7</td>\n",
              "      <td>Adipose - Subcutaneous</td>\n",
              "      <td>female</td>\n",
              "      <td>28.920</td>\n",
              "    </tr>\n",
              "    <tr>\n",
              "      <th>1</th>\n",
              "      <td>ENSG00000004975.7</td>\n",
              "      <td>Adipose - Subcutaneous</td>\n",
              "      <td>male</td>\n",
              "      <td>32.260</td>\n",
              "    </tr>\n",
              "    <tr>\n",
              "      <th>2</th>\n",
              "      <td>ENSG00000004975.7</td>\n",
              "      <td>Adipose - Visceral (Omentum)</td>\n",
              "      <td>female</td>\n",
              "      <td>19.830</td>\n",
              "    </tr>\n",
              "    <tr>\n",
              "      <th>3</th>\n",
              "      <td>ENSG00000004975.7</td>\n",
              "      <td>Adipose - Visceral (Omentum)</td>\n",
              "      <td>male</td>\n",
              "      <td>22.275</td>\n",
              "    </tr>\n",
              "    <tr>\n",
              "      <th>4</th>\n",
              "      <td>ENSG00000004975.7</td>\n",
              "      <td>Adrenal Gland</td>\n",
              "      <td>female</td>\n",
              "      <td>30.430</td>\n",
              "    </tr>\n",
              "  </tbody>\n",
              "</table>\n",
              "</div>"
            ],
            "text/plain": [
              "                ENSG                         SMTSD     SEX     TPM\n",
              "0  ENSG00000004975.7        Adipose - Subcutaneous  female  28.920\n",
              "1  ENSG00000004975.7        Adipose - Subcutaneous    male  32.260\n",
              "2  ENSG00000004975.7  Adipose - Visceral (Omentum)  female  19.830\n",
              "3  ENSG00000004975.7  Adipose - Visceral (Omentum)    male  22.275\n",
              "4  ENSG00000004975.7                 Adrenal Gland  female  30.430"
            ]
          },
          "metadata": {
            "tags": []
          },
          "execution_count": 139
        }
      ]
    },
    {
      "metadata": {
        "id": "4UuYZjZcrUU5",
        "colab_type": "text"
      },
      "cell_type": "markdown",
      "source": [
        "### Combine rows into one row per gene+tissue, cols for M and F TPM."
      ]
    },
    {
      "metadata": {
        "id": "W_huvO_NrbTl",
        "colab_type": "code",
        "colab": {
          "autoexec": {
            "startup": false,
            "wait_interval": 0
          },
          "base_uri": "https://localhost:8080/",
          "height": 204
        },
        "outputId": "7ac7024c-cb12-43a9-ed1c-d50aae761cc2",
        "executionInfo": {
          "status": "ok",
          "timestamp": 1529957590411,
          "user_tz": 360,
          "elapsed": 293,
          "user": {
            "displayName": "Jeremy Yang",
            "photoUrl": "//lh4.googleusercontent.com/-oulNnl1aBlA/AAAAAAAAAAI/AAAAAAAAAm4/uOczRUUkS4g/s50-c-k-no/photo.jpg",
            "userId": "102807397641040966212"
          }
        }
      },
      "cell_type": "code",
      "source": [
        "rnaseq_med_sex_f = rnaseq_med_sex.loc[rnaseq_med_sex['SEX'] == 'female']\n",
        "rnaseq_med_sex_f = rnaseq_med_sex_f[['ENSG', 'SMTSD', 'TPM']].rename(columns={'TPM':'TPM_F'})\n",
        "rnaseq_med_sex_m = rnaseq_med_sex.loc[rnaseq_med_sex['SEX'] == 'male']\n",
        "rnaseq_med_sex_m = rnaseq_med_sex_m[['ENSG', 'SMTSD', 'TPM']].rename(columns={'TPM':'TPM_M'})\n",
        "rnaseq_med_sex = pandas.merge(rnaseq_med_sex_f, rnaseq_med_sex_m, how='inner', on=['ENSG','SMTSD'])\n",
        "rnaseq_med_sex.head()"
      ],
      "execution_count": 140,
      "outputs": [
        {
          "output_type": "execute_result",
          "data": {
            "text/html": [
              "<div>\n",
              "<style scoped>\n",
              "    .dataframe tbody tr th:only-of-type {\n",
              "        vertical-align: middle;\n",
              "    }\n",
              "\n",
              "    .dataframe tbody tr th {\n",
              "        vertical-align: top;\n",
              "    }\n",
              "\n",
              "    .dataframe thead th {\n",
              "        text-align: right;\n",
              "    }\n",
              "</style>\n",
              "<table border=\"1\" class=\"dataframe\">\n",
              "  <thead>\n",
              "    <tr style=\"text-align: right;\">\n",
              "      <th></th>\n",
              "      <th>ENSG</th>\n",
              "      <th>SMTSD</th>\n",
              "      <th>TPM_F</th>\n",
              "      <th>TPM_M</th>\n",
              "    </tr>\n",
              "  </thead>\n",
              "  <tbody>\n",
              "    <tr>\n",
              "      <th>0</th>\n",
              "      <td>ENSG00000004975.7</td>\n",
              "      <td>Adipose - Subcutaneous</td>\n",
              "      <td>28.92</td>\n",
              "      <td>32.260</td>\n",
              "    </tr>\n",
              "    <tr>\n",
              "      <th>1</th>\n",
              "      <td>ENSG00000004975.7</td>\n",
              "      <td>Adipose - Visceral (Omentum)</td>\n",
              "      <td>19.83</td>\n",
              "      <td>22.275</td>\n",
              "    </tr>\n",
              "    <tr>\n",
              "      <th>2</th>\n",
              "      <td>ENSG00000004975.7</td>\n",
              "      <td>Adrenal Gland</td>\n",
              "      <td>30.43</td>\n",
              "      <td>31.255</td>\n",
              "    </tr>\n",
              "    <tr>\n",
              "      <th>3</th>\n",
              "      <td>ENSG00000004975.7</td>\n",
              "      <td>Artery - Aorta</td>\n",
              "      <td>32.55</td>\n",
              "      <td>34.550</td>\n",
              "    </tr>\n",
              "    <tr>\n",
              "      <th>4</th>\n",
              "      <td>ENSG00000004975.7</td>\n",
              "      <td>Artery - Coronary</td>\n",
              "      <td>29.04</td>\n",
              "      <td>31.280</td>\n",
              "    </tr>\n",
              "  </tbody>\n",
              "</table>\n",
              "</div>"
            ],
            "text/plain": [
              "                ENSG                         SMTSD  TPM_F   TPM_M\n",
              "0  ENSG00000004975.7        Adipose - Subcutaneous  28.92  32.260\n",
              "1  ENSG00000004975.7  Adipose - Visceral (Omentum)  19.83  22.275\n",
              "2  ENSG00000004975.7                 Adrenal Gland  30.43  31.255\n",
              "3  ENSG00000004975.7                Artery - Aorta  32.55  34.550\n",
              "4  ENSG00000004975.7             Artery - Coronary  29.04  31.280"
            ]
          },
          "metadata": {
            "tags": []
          },
          "execution_count": 140
        }
      ]
    },
    {
      "metadata": {
        "id": "UNujtYxQtu3o",
        "colab_type": "code",
        "colab": {
          "autoexec": {
            "startup": false,
            "wait_interval": 0
          },
          "base_uri": "https://localhost:8080/",
          "height": 222
        },
        "outputId": "c5d6ac6c-1af6-4ac5-83d4-5f5f8018e233",
        "executionInfo": {
          "status": "ok",
          "timestamp": 1529957696724,
          "user_tz": 360,
          "elapsed": 100255,
          "user": {
            "displayName": "Jeremy Yang",
            "photoUrl": "//lh4.googleusercontent.com/-oulNnl1aBlA/AAAAAAAAAAI/AAAAAAAAAm4/uOczRUUkS4g/s50-c-k-no/photo.jpg",
            "userId": "102807397641040966212"
          }
        }
      },
      "cell_type": "code",
      "source": [
        "t0 = time.time()\n",
        "rnaseq_level_f = GTRanks(rnaseq_med_sex[['ENSG','SMTSD','TPM_F']].copy(), 'TPM_F')\n",
        "print(\"Elapsed: %ds\"%(time.time()-t0))\n",
        "rnaseq_level_f['LEVEL_F'] = rnaseq_level_f.TPM_F_RANK.apply(lambda x: 'Not detected' if x==0 else 'Low' if x<.25 else 'Medium' if x<.75 else 'High')\n",
        "rnaseq_level_f.head()"
      ],
      "execution_count": 141,
      "outputs": [
        {
          "output_type": "stream",
          "text": [
            "Elapsed: 99s\n"
          ],
          "name": "stdout"
        },
        {
          "output_type": "execute_result",
          "data": {
            "text/html": [
              "<div>\n",
              "<style scoped>\n",
              "    .dataframe tbody tr th:only-of-type {\n",
              "        vertical-align: middle;\n",
              "    }\n",
              "\n",
              "    .dataframe tbody tr th {\n",
              "        vertical-align: top;\n",
              "    }\n",
              "\n",
              "    .dataframe thead th {\n",
              "        text-align: right;\n",
              "    }\n",
              "</style>\n",
              "<table border=\"1\" class=\"dataframe\">\n",
              "  <thead>\n",
              "    <tr style=\"text-align: right;\">\n",
              "      <th></th>\n",
              "      <th>ENSG</th>\n",
              "      <th>SMTSD</th>\n",
              "      <th>TPM_F</th>\n",
              "      <th>TPM_F_RANK</th>\n",
              "      <th>LEVEL_F</th>\n",
              "    </tr>\n",
              "  </thead>\n",
              "  <tbody>\n",
              "    <tr>\n",
              "      <th>0</th>\n",
              "      <td>ENSG00000004975.7</td>\n",
              "      <td>Adipose - Subcutaneous</td>\n",
              "      <td>28.92</td>\n",
              "      <td>0.387097</td>\n",
              "      <td>Medium</td>\n",
              "    </tr>\n",
              "    <tr>\n",
              "      <th>1</th>\n",
              "      <td>ENSG00000004975.7</td>\n",
              "      <td>Adipose - Visceral (Omentum)</td>\n",
              "      <td>19.83</td>\n",
              "      <td>0.225806</td>\n",
              "      <td>Low</td>\n",
              "    </tr>\n",
              "    <tr>\n",
              "      <th>2</th>\n",
              "      <td>ENSG00000004975.7</td>\n",
              "      <td>Adrenal Gland</td>\n",
              "      <td>30.43</td>\n",
              "      <td>0.483871</td>\n",
              "      <td>Medium</td>\n",
              "    </tr>\n",
              "    <tr>\n",
              "      <th>3</th>\n",
              "      <td>ENSG00000004975.7</td>\n",
              "      <td>Artery - Aorta</td>\n",
              "      <td>32.55</td>\n",
              "      <td>0.580645</td>\n",
              "      <td>Medium</td>\n",
              "    </tr>\n",
              "    <tr>\n",
              "      <th>4</th>\n",
              "      <td>ENSG00000004975.7</td>\n",
              "      <td>Artery - Coronary</td>\n",
              "      <td>29.04</td>\n",
              "      <td>0.451613</td>\n",
              "      <td>Medium</td>\n",
              "    </tr>\n",
              "  </tbody>\n",
              "</table>\n",
              "</div>"
            ],
            "text/plain": [
              "                ENSG                         SMTSD  TPM_F  TPM_F_RANK LEVEL_F\n",
              "0  ENSG00000004975.7        Adipose - Subcutaneous  28.92    0.387097  Medium\n",
              "1  ENSG00000004975.7  Adipose - Visceral (Omentum)  19.83    0.225806     Low\n",
              "2  ENSG00000004975.7                 Adrenal Gland  30.43    0.483871  Medium\n",
              "3  ENSG00000004975.7                Artery - Aorta  32.55    0.580645  Medium\n",
              "4  ENSG00000004975.7             Artery - Coronary  29.04    0.451613  Medium"
            ]
          },
          "metadata": {
            "tags": []
          },
          "execution_count": 141
        }
      ]
    },
    {
      "metadata": {
        "id": "oTZA7hKiKwAQ",
        "colab_type": "code",
        "colab": {
          "autoexec": {
            "startup": false,
            "wait_interval": 0
          },
          "base_uri": "https://localhost:8080/",
          "height": 222
        },
        "outputId": "07321b97-cbe3-4b5d-9862-e98b059682fc",
        "executionInfo": {
          "status": "ok",
          "timestamp": 1529957805604,
          "user_tz": 360,
          "elapsed": 100487,
          "user": {
            "displayName": "Jeremy Yang",
            "photoUrl": "//lh4.googleusercontent.com/-oulNnl1aBlA/AAAAAAAAAAI/AAAAAAAAAm4/uOczRUUkS4g/s50-c-k-no/photo.jpg",
            "userId": "102807397641040966212"
          }
        }
      },
      "cell_type": "code",
      "source": [
        "t0 = time.time()\n",
        "rnaseq_level_m = GTRanks(rnaseq_med_sex[['ENSG','SMTSD','TPM_M']].copy(), 'TPM_M')\n",
        "print(\"Elapsed: %ds\"%(time.time()-t0))\n",
        "rnaseq_level_m['LEVEL_M'] = rnaseq_level_m.TPM_M_RANK.apply(lambda x: 'Not detected' if x==0 else 'Low' if x<.25 else 'Medium' if x<.75 else 'High')\n",
        "rnaseq_level_m.head()"
      ],
      "execution_count": 142,
      "outputs": [
        {
          "output_type": "stream",
          "text": [
            "Elapsed: 100s\n"
          ],
          "name": "stdout"
        },
        {
          "output_type": "execute_result",
          "data": {
            "text/html": [
              "<div>\n",
              "<style scoped>\n",
              "    .dataframe tbody tr th:only-of-type {\n",
              "        vertical-align: middle;\n",
              "    }\n",
              "\n",
              "    .dataframe tbody tr th {\n",
              "        vertical-align: top;\n",
              "    }\n",
              "\n",
              "    .dataframe thead th {\n",
              "        text-align: right;\n",
              "    }\n",
              "</style>\n",
              "<table border=\"1\" class=\"dataframe\">\n",
              "  <thead>\n",
              "    <tr style=\"text-align: right;\">\n",
              "      <th></th>\n",
              "      <th>ENSG</th>\n",
              "      <th>SMTSD</th>\n",
              "      <th>TPM_M</th>\n",
              "      <th>TPM_M_RANK</th>\n",
              "      <th>LEVEL_M</th>\n",
              "    </tr>\n",
              "  </thead>\n",
              "  <tbody>\n",
              "    <tr>\n",
              "      <th>0</th>\n",
              "      <td>ENSG00000004975.7</td>\n",
              "      <td>Adipose - Subcutaneous</td>\n",
              "      <td>32.260</td>\n",
              "      <td>0.580645</td>\n",
              "      <td>Medium</td>\n",
              "    </tr>\n",
              "    <tr>\n",
              "      <th>1</th>\n",
              "      <td>ENSG00000004975.7</td>\n",
              "      <td>Adipose - Visceral (Omentum)</td>\n",
              "      <td>22.275</td>\n",
              "      <td>0.258065</td>\n",
              "      <td>Medium</td>\n",
              "    </tr>\n",
              "    <tr>\n",
              "      <th>2</th>\n",
              "      <td>ENSG00000004975.7</td>\n",
              "      <td>Adrenal Gland</td>\n",
              "      <td>31.255</td>\n",
              "      <td>0.483871</td>\n",
              "      <td>Medium</td>\n",
              "    </tr>\n",
              "    <tr>\n",
              "      <th>3</th>\n",
              "      <td>ENSG00000004975.7</td>\n",
              "      <td>Artery - Aorta</td>\n",
              "      <td>34.550</td>\n",
              "      <td>0.612903</td>\n",
              "      <td>Medium</td>\n",
              "    </tr>\n",
              "    <tr>\n",
              "      <th>4</th>\n",
              "      <td>ENSG00000004975.7</td>\n",
              "      <td>Artery - Coronary</td>\n",
              "      <td>31.280</td>\n",
              "      <td>0.516129</td>\n",
              "      <td>Medium</td>\n",
              "    </tr>\n",
              "  </tbody>\n",
              "</table>\n",
              "</div>"
            ],
            "text/plain": [
              "                ENSG                         SMTSD   TPM_M  TPM_M_RANK LEVEL_M\n",
              "0  ENSG00000004975.7        Adipose - Subcutaneous  32.260    0.580645  Medium\n",
              "1  ENSG00000004975.7  Adipose - Visceral (Omentum)  22.275    0.258065  Medium\n",
              "2  ENSG00000004975.7                 Adrenal Gland  31.255    0.483871  Medium\n",
              "3  ENSG00000004975.7                Artery - Aorta  34.550    0.612903  Medium\n",
              "4  ENSG00000004975.7             Artery - Coronary  31.280    0.516129  Medium"
            ]
          },
          "metadata": {
            "tags": []
          },
          "execution_count": 142
        }
      ]
    },
    {
      "metadata": {
        "id": "dVrKuPwOipdx",
        "colab_type": "code",
        "colab": {
          "autoexec": {
            "startup": false,
            "wait_interval": 0
          },
          "base_uri": "https://localhost:8080/",
          "height": 204
        },
        "outputId": "17511604-443a-4b11-a4e7-ed28764e48e3",
        "executionInfo": {
          "status": "ok",
          "timestamp": 1529958084250,
          "user_tz": 360,
          "elapsed": 311,
          "user": {
            "displayName": "Jeremy Yang",
            "photoUrl": "//lh4.googleusercontent.com/-oulNnl1aBlA/AAAAAAAAAAI/AAAAAAAAAm4/uOczRUUkS4g/s50-c-k-no/photo.jpg",
            "userId": "102807397641040966212"
          }
        }
      },
      "cell_type": "code",
      "source": [
        "rnaseq_level = pandas.merge(rnaseq_level_f, rnaseq_level_m, on = ['ENSG','SMTSD'], how = 'inner')\n",
        "rnaseq_level.head()"
      ],
      "execution_count": 145,
      "outputs": [
        {
          "output_type": "execute_result",
          "data": {
            "text/html": [
              "<div>\n",
              "<style scoped>\n",
              "    .dataframe tbody tr th:only-of-type {\n",
              "        vertical-align: middle;\n",
              "    }\n",
              "\n",
              "    .dataframe tbody tr th {\n",
              "        vertical-align: top;\n",
              "    }\n",
              "\n",
              "    .dataframe thead th {\n",
              "        text-align: right;\n",
              "    }\n",
              "</style>\n",
              "<table border=\"1\" class=\"dataframe\">\n",
              "  <thead>\n",
              "    <tr style=\"text-align: right;\">\n",
              "      <th></th>\n",
              "      <th>ENSG</th>\n",
              "      <th>SMTSD</th>\n",
              "      <th>TPM_F</th>\n",
              "      <th>TPM_F_RANK</th>\n",
              "      <th>LEVEL_F</th>\n",
              "      <th>TPM_M</th>\n",
              "      <th>TPM_M_RANK</th>\n",
              "      <th>LEVEL_M</th>\n",
              "    </tr>\n",
              "  </thead>\n",
              "  <tbody>\n",
              "    <tr>\n",
              "      <th>0</th>\n",
              "      <td>ENSG00000004975.7</td>\n",
              "      <td>Adipose - Subcutaneous</td>\n",
              "      <td>28.92</td>\n",
              "      <td>0.387097</td>\n",
              "      <td>Medium</td>\n",
              "      <td>32.260</td>\n",
              "      <td>0.580645</td>\n",
              "      <td>Medium</td>\n",
              "    </tr>\n",
              "    <tr>\n",
              "      <th>1</th>\n",
              "      <td>ENSG00000004975.7</td>\n",
              "      <td>Adipose - Visceral (Omentum)</td>\n",
              "      <td>19.83</td>\n",
              "      <td>0.225806</td>\n",
              "      <td>Low</td>\n",
              "      <td>22.275</td>\n",
              "      <td>0.258065</td>\n",
              "      <td>Medium</td>\n",
              "    </tr>\n",
              "    <tr>\n",
              "      <th>2</th>\n",
              "      <td>ENSG00000004975.7</td>\n",
              "      <td>Adrenal Gland</td>\n",
              "      <td>30.43</td>\n",
              "      <td>0.483871</td>\n",
              "      <td>Medium</td>\n",
              "      <td>31.255</td>\n",
              "      <td>0.483871</td>\n",
              "      <td>Medium</td>\n",
              "    </tr>\n",
              "    <tr>\n",
              "      <th>3</th>\n",
              "      <td>ENSG00000004975.7</td>\n",
              "      <td>Artery - Aorta</td>\n",
              "      <td>32.55</td>\n",
              "      <td>0.580645</td>\n",
              "      <td>Medium</td>\n",
              "      <td>34.550</td>\n",
              "      <td>0.612903</td>\n",
              "      <td>Medium</td>\n",
              "    </tr>\n",
              "    <tr>\n",
              "      <th>4</th>\n",
              "      <td>ENSG00000004975.7</td>\n",
              "      <td>Artery - Coronary</td>\n",
              "      <td>29.04</td>\n",
              "      <td>0.451613</td>\n",
              "      <td>Medium</td>\n",
              "      <td>31.280</td>\n",
              "      <td>0.516129</td>\n",
              "      <td>Medium</td>\n",
              "    </tr>\n",
              "  </tbody>\n",
              "</table>\n",
              "</div>"
            ],
            "text/plain": [
              "                ENSG                         SMTSD  TPM_F  TPM_F_RANK LEVEL_F  \\\n",
              "0  ENSG00000004975.7        Adipose - Subcutaneous  28.92    0.387097  Medium   \n",
              "1  ENSG00000004975.7  Adipose - Visceral (Omentum)  19.83    0.225806     Low   \n",
              "2  ENSG00000004975.7                 Adrenal Gland  30.43    0.483871  Medium   \n",
              "3  ENSG00000004975.7                Artery - Aorta  32.55    0.580645  Medium   \n",
              "4  ENSG00000004975.7             Artery - Coronary  29.04    0.451613  Medium   \n",
              "\n",
              "    TPM_M  TPM_M_RANK LEVEL_M  \n",
              "0  32.260    0.580645  Medium  \n",
              "1  22.275    0.258065  Medium  \n",
              "2  31.255    0.483871  Medium  \n",
              "3  34.550    0.612903  Medium  \n",
              "4  31.280    0.516129  Medium  "
            ]
          },
          "metadata": {
            "tags": []
          },
          "execution_count": 145
        }
      ]
    },
    {
      "metadata": {
        "id": "8Th6MzQ6yndd",
        "colab_type": "text"
      },
      "cell_type": "markdown",
      "source": [
        "### For each gene, compute sex difference via Wilcox test:\n",
        "(Wilcoxon signed-rank test, with Wilcox treatment, discarding all zero-differences.)"
      ]
    },
    {
      "metadata": {
        "id": "6HNxmpqWk_Sf",
        "colab_type": "code",
        "colab": {
          "autoexec": {
            "startup": false,
            "wait_interval": 0
          },
          "base_uri": "https://localhost:8080/",
          "height": 296
        },
        "outputId": "4219b003-69a9-4b45-f511-7397c7a53309",
        "executionInfo": {
          "status": "ok",
          "timestamp": 1529958094417,
          "user_tz": 360,
          "elapsed": 7285,
          "user": {
            "displayName": "Jeremy Yang",
            "photoUrl": "//lh4.googleusercontent.com/-oulNnl1aBlA/AAAAAAAAAAI/AAAAAAAAAm4/uOczRUUkS4g/s50-c-k-no/photo.jpg",
            "userId": "102807397641040966212"
          }
        }
      },
      "cell_type": "code",
      "source": [
        "wilcox = pandas.DataFrame({'ENSG':rnaseq_med_sex.ENSG.drop_duplicates().sort_values(), 'stat':None, 'pval':None}).reset_index(drop=True)\n",
        "\n",
        "for i in range(wilcox.shape[0]):\n",
        "  tpm_f_this = rnaseq_med_sex.TPM_F[rnaseq_level.ENSG == wilcox.ENSG[i]]\n",
        "  tpm_m_this = rnaseq_med_sex.TPM_M[rnaseq_level.ENSG == wilcox.ENSG[i]]\n",
        "  stat, pval = scipy.stats.wilcoxon(x=tpm_f_this, y=tpm_m_this, zero_method='wilcox')\n",
        "  wilcox.stat.iloc[i] = stat\n",
        "  wilcox.pval.iloc[i] = pval \n",
        "wilcox.head()"
      ],
      "execution_count": 146,
      "outputs": [
        {
          "output_type": "stream",
          "text": [
            "/usr/local/lib/python3.6/dist-packages/scipy/stats/morestats.py:2397: UserWarning: Warning: sample size too small for normal approximation.\n",
            "  warnings.warn(\"Warning: sample size too small for normal approximation.\")\n",
            "/usr/local/lib/python3.6/dist-packages/scipy/stats/morestats.py:2422: RuntimeWarning: invalid value encountered in double_scalars\n",
            "  z = (T - mn - correction) / se\n"
          ],
          "name": "stderr"
        },
        {
          "output_type": "execute_result",
          "data": {
            "text/html": [
              "<div>\n",
              "<style scoped>\n",
              "    .dataframe tbody tr th:only-of-type {\n",
              "        vertical-align: middle;\n",
              "    }\n",
              "\n",
              "    .dataframe tbody tr th {\n",
              "        vertical-align: top;\n",
              "    }\n",
              "\n",
              "    .dataframe thead th {\n",
              "        text-align: right;\n",
              "    }\n",
              "</style>\n",
              "<table border=\"1\" class=\"dataframe\">\n",
              "  <thead>\n",
              "    <tr style=\"text-align: right;\">\n",
              "      <th></th>\n",
              "      <th>ENSG</th>\n",
              "      <th>pval</th>\n",
              "      <th>stat</th>\n",
              "    </tr>\n",
              "  </thead>\n",
              "  <tbody>\n",
              "    <tr>\n",
              "      <th>0</th>\n",
              "      <td>ENSG00000004975.7</td>\n",
              "      <td>0.176324</td>\n",
              "      <td>179</td>\n",
              "    </tr>\n",
              "    <tr>\n",
              "      <th>1</th>\n",
              "      <td>ENSG00000008086.6</td>\n",
              "      <td>0.0547996</td>\n",
              "      <td>150</td>\n",
              "    </tr>\n",
              "    <tr>\n",
              "      <th>2</th>\n",
              "      <td>ENSG00000009950.11</td>\n",
              "      <td>0.216986</td>\n",
              "      <td>185</td>\n",
              "    </tr>\n",
              "    <tr>\n",
              "      <th>3</th>\n",
              "      <td>ENSG00000012048.15</td>\n",
              "      <td>0.056042</td>\n",
              "      <td>150.5</td>\n",
              "    </tr>\n",
              "    <tr>\n",
              "      <th>4</th>\n",
              "      <td>ENSG00000014138.4</td>\n",
              "      <td>0.0919302</td>\n",
              "      <td>162</td>\n",
              "    </tr>\n",
              "  </tbody>\n",
              "</table>\n",
              "</div>"
            ],
            "text/plain": [
              "                 ENSG       pval   stat\n",
              "0   ENSG00000004975.7   0.176324    179\n",
              "1   ENSG00000008086.6  0.0547996    150\n",
              "2  ENSG00000009950.11   0.216986    185\n",
              "3  ENSG00000012048.15   0.056042  150.5\n",
              "4   ENSG00000014138.4  0.0919302    162"
            ]
          },
          "metadata": {
            "tags": []
          },
          "execution_count": 146
        }
      ]
    },
    {
      "metadata": {
        "id": "5X7yGMIi0fYf",
        "colab_type": "text"
      },
      "cell_type": "markdown",
      "source": [
        "### Combine rows into one row per gene+tissue, cols for M and F TPM."
      ]
    },
    {
      "metadata": {
        "id": "R3CrnrZy0usJ",
        "colab_type": "text"
      },
      "cell_type": "markdown",
      "source": [
        "### Log fold-change is log of ratio."
      ]
    },
    {
      "metadata": {
        "id": "vYRobAfenAvd",
        "colab_type": "code",
        "colab": {
          "autoexec": {
            "startup": false,
            "wait_interval": 0
          },
          "base_uri": "https://localhost:8080/",
          "height": 204
        },
        "outputId": "2de89f16-a504-41e0-c8f9-3d01bc132238",
        "executionInfo": {
          "status": "ok",
          "timestamp": 1529958606966,
          "user_tz": 360,
          "elapsed": 290,
          "user": {
            "displayName": "Jeremy Yang",
            "photoUrl": "//lh4.googleusercontent.com/-oulNnl1aBlA/AAAAAAAAAAI/AAAAAAAAAm4/uOczRUUkS4g/s50-c-k-no/photo.jpg",
            "userId": "102807397641040966212"
          }
        }
      },
      "cell_type": "code",
      "source": [
        "rnaseq_level['log2foldchange'] = ((rnaseq_level.TPM_F+1) / (rnaseq_level.TPM_M+1)).apply(lambda x: numpy.log2(max(x, 1/x)))\n",
        "rnaseq_level.head()"
      ],
      "execution_count": 149,
      "outputs": [
        {
          "output_type": "execute_result",
          "data": {
            "text/html": [
              "<div>\n",
              "<style scoped>\n",
              "    .dataframe tbody tr th:only-of-type {\n",
              "        vertical-align: middle;\n",
              "    }\n",
              "\n",
              "    .dataframe tbody tr th {\n",
              "        vertical-align: top;\n",
              "    }\n",
              "\n",
              "    .dataframe thead th {\n",
              "        text-align: right;\n",
              "    }\n",
              "</style>\n",
              "<table border=\"1\" class=\"dataframe\">\n",
              "  <thead>\n",
              "    <tr style=\"text-align: right;\">\n",
              "      <th></th>\n",
              "      <th>ENSG</th>\n",
              "      <th>SMTSD</th>\n",
              "      <th>TPM_F</th>\n",
              "      <th>TPM_F_RANK</th>\n",
              "      <th>LEVEL_F</th>\n",
              "      <th>TPM_M</th>\n",
              "      <th>TPM_M_RANK</th>\n",
              "      <th>LEVEL_M</th>\n",
              "      <th>log2foldchange</th>\n",
              "    </tr>\n",
              "  </thead>\n",
              "  <tbody>\n",
              "    <tr>\n",
              "      <th>0</th>\n",
              "      <td>ENSG00000004975.7</td>\n",
              "      <td>Adipose - Subcutaneous</td>\n",
              "      <td>28.92</td>\n",
              "      <td>0.387097</td>\n",
              "      <td>Medium</td>\n",
              "      <td>32.260</td>\n",
              "      <td>0.580645</td>\n",
              "      <td>Medium</td>\n",
              "      <td>0.152678</td>\n",
              "    </tr>\n",
              "    <tr>\n",
              "      <th>1</th>\n",
              "      <td>ENSG00000004975.7</td>\n",
              "      <td>Adipose - Visceral (Omentum)</td>\n",
              "      <td>19.83</td>\n",
              "      <td>0.225806</td>\n",
              "      <td>Low</td>\n",
              "      <td>22.275</td>\n",
              "      <td>0.258065</td>\n",
              "      <td>Medium</td>\n",
              "      <td>0.160118</td>\n",
              "    </tr>\n",
              "    <tr>\n",
              "      <th>2</th>\n",
              "      <td>ENSG00000004975.7</td>\n",
              "      <td>Adrenal Gland</td>\n",
              "      <td>30.43</td>\n",
              "      <td>0.483871</td>\n",
              "      <td>Medium</td>\n",
              "      <td>31.255</td>\n",
              "      <td>0.483871</td>\n",
              "      <td>Medium</td>\n",
              "      <td>0.037381</td>\n",
              "    </tr>\n",
              "    <tr>\n",
              "      <th>3</th>\n",
              "      <td>ENSG00000004975.7</td>\n",
              "      <td>Artery - Aorta</td>\n",
              "      <td>32.55</td>\n",
              "      <td>0.580645</td>\n",
              "      <td>Medium</td>\n",
              "      <td>34.550</td>\n",
              "      <td>0.612903</td>\n",
              "      <td>Medium</td>\n",
              "      <td>0.083537</td>\n",
              "    </tr>\n",
              "    <tr>\n",
              "      <th>4</th>\n",
              "      <td>ENSG00000004975.7</td>\n",
              "      <td>Artery - Coronary</td>\n",
              "      <td>29.04</td>\n",
              "      <td>0.451613</td>\n",
              "      <td>Medium</td>\n",
              "      <td>31.280</td>\n",
              "      <td>0.516129</td>\n",
              "      <td>Medium</td>\n",
              "      <td>0.103756</td>\n",
              "    </tr>\n",
              "  </tbody>\n",
              "</table>\n",
              "</div>"
            ],
            "text/plain": [
              "                ENSG                         SMTSD  TPM_F  TPM_F_RANK LEVEL_F  \\\n",
              "0  ENSG00000004975.7        Adipose - Subcutaneous  28.92    0.387097  Medium   \n",
              "1  ENSG00000004975.7  Adipose - Visceral (Omentum)  19.83    0.225806     Low   \n",
              "2  ENSG00000004975.7                 Adrenal Gland  30.43    0.483871  Medium   \n",
              "3  ENSG00000004975.7                Artery - Aorta  32.55    0.580645  Medium   \n",
              "4  ENSG00000004975.7             Artery - Coronary  29.04    0.451613  Medium   \n",
              "\n",
              "    TPM_M  TPM_M_RANK LEVEL_M  log2foldchange  \n",
              "0  32.260    0.580645  Medium        0.152678  \n",
              "1  22.275    0.258065  Medium        0.160118  \n",
              "2  31.255    0.483871  Medium        0.037381  \n",
              "3  34.550    0.612903  Medium        0.083537  \n",
              "4  31.280    0.516129  Medium        0.103756  "
            ]
          },
          "metadata": {
            "tags": []
          },
          "execution_count": 149
        }
      ]
    },
    {
      "metadata": {
        "id": "V3mSYzgio-w2",
        "colab_type": "code",
        "colab": {
          "autoexec": {
            "startup": false,
            "wait_interval": 0
          },
          "base_uri": "https://localhost:8080/",
          "height": 365
        },
        "outputId": "6261ac1b-f766-4fdb-f4da-f3a89e136368",
        "executionInfo": {
          "status": "ok",
          "timestamp": 1529958788726,
          "user_tz": 360,
          "elapsed": 808,
          "user": {
            "displayName": "Jeremy Yang",
            "photoUrl": "//lh4.googleusercontent.com/-oulNnl1aBlA/AAAAAAAAAAI/AAAAAAAAAm4/uOczRUUkS4g/s50-c-k-no/photo.jpg",
            "userId": "102807397641040966212"
          }
        }
      },
      "cell_type": "code",
      "source": [
        "rnaseq_level.log2foldchange.plot(kind='hist', logy=True)"
      ],
      "execution_count": 153,
      "outputs": [
        {
          "output_type": "execute_result",
          "data": {
            "text/plain": [
              "<matplotlib.axes._subplots.AxesSubplot at 0x7f253e24afd0>"
            ]
          },
          "metadata": {
            "tags": []
          },
          "execution_count": 153
        },
        {
          "output_type": "display_data",
          "data": {
            "image/png": "[encoded data removed]",
            "text/plain": [
              "<matplotlib.figure.Figure at 0x7f253d4fe160>"
            ]
          },
          "metadata": {
            "tags": []
          }
        }
      ]
    }
  ]
}