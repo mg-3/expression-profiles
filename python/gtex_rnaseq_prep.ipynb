{
  "nbformat": 4,
  "nbformat_minor": 0,
  "metadata": {
    "colab": {
      "name": "gtex_rnaseq_prep.ipynb",
      "version": "0.3.2",
      "views": {},
      "default_view": {},
      "provenance": []
    },
    "kernelspec": {
      "name": "python3",
      "display_name": "Python 3"
    }
  },
  "cells": [
    {
      "metadata": {
        "id": "vB7J5P7Vszpg",
        "colab_type": "text"
      },
      "cell_type": "markdown",
      "source": [
        "<table width=\"100%\" style=\"border:none\">\n",
        "  <tr>\n",
        "    <td valign=\"top\">\n",
        "      <h1>GTEx RNAseq Preprocessing</h1>\n",
        "      <ul>\n",
        "<li>Author: Jeremy Yang\n",
        "<li>Based on R code by Oleg Ursu.\n",
        "<li>Required: Python3, Pandas 0.22+\n",
        "<li>Clean, tidy, reshape RNAseq expression data.\n",
        "<li>Compute tissue specificity index (Yanai et al., 2004).\n",
        "<li>Save files for downstream SABV expression profile analytics.\n",
        "<li>[About Colaboratory](https://research.google.com/colaboratory/faq.html).\n",
        "      </ul>\n",
        "    </td>\n",
        "    <td align=\"right\">\n",
        "        <p>NIH Data Commons: Team Helium</p>\n",
        "<img style=\"float:right\" width=\"100\" src=\"https://avatars2.githubusercontent.com/u/33356654?s=200&v=4\" alt=\"HeliumDataCommons Logo\" />\n",
        "    </td>\n",
        "  </tr>\n",
        "  </table>\n",
        " "
      ]
    },
    {
      "metadata": {
        "id": "StWvpEEEef7p",
        "colab_type": "code",
        "colab": {
          "autoexec": {
            "startup": false,
            "wait_interval": 0
          },
          "base_uri": "https://localhost:8080/",
          "height": 68
        },
        "outputId": "67ee92fa-69b7-4027-97b8-cc1cb8d3bd83",
        "executionInfo": {
          "status": "ok",
          "timestamp": 1533660232353,
          "user_tz": 360,
          "elapsed": 880,
          "user": {
            "displayName": "Jeremy Yang",
            "photoUrl": "//lh4.googleusercontent.com/-oulNnl1aBlA/AAAAAAAAAAI/AAAAAAAAAm4/uOczRUUkS4g/s50-c-k-no/photo.jpg",
            "userId": "102807397641040966212"
          }
        }
      },
      "cell_type": "code",
      "source": [
        "import sys,os,re,time,io\n",
        "import urllib.request\n",
        "import google.colab\n",
        "import numpy,scipy\n",
        "import pandas\n",
        "print('Python: %s\\nPandas: %s'%(sys.version,pandas.__version__))"
      ],
      "execution_count": 1,
      "outputs": [
        {
          "output_type": "stream",
          "text": [
            "Python: 3.6.3 (default, Oct  3 2017, 21:45:48) \n",
            "[GCC 7.2.0]\n",
            "Pandas: 0.22.0\n"
          ],
          "name": "stdout"
        }
      ]
    },
    {
      "metadata": {
        "id": "cwKhzyFo1L21",
        "colab_type": "text"
      },
      "cell_type": "markdown",
      "source": [
        "### Upload subjects datafile:\n",
        "(GTEx_v7_Annotations_SubjectPhenotypesDS.txt)"
      ]
    },
    {
      "metadata": {
        "id": "1SMOnt2P1Zfv",
        "colab_type": "code",
        "colab": {
          "autoexec": {
            "startup": false,
            "wait_interval": 0
          },
          "resources": {
            "http://localhost:8080/nbextensions/google.colab/files.js": {
              "data": "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",
              "ok": true,
              "headers": [
                [
                  "content-type",
                  "application/javascript"
                ]
              ],
              "status": 200,
              "status_text": ""
            }
          },
          "base_uri": "https://localhost:8080/",
          "height": 120
        },
        "outputId": "49ac4252-1764-4f3e-8e9a-8e08096a3a22",
        "executionInfo": {
          "status": "ok",
          "timestamp": 1533662425471,
          "user_tz": 360,
          "elapsed": 18295,
          "user": {
            "displayName": "Jeremy Yang",
            "photoUrl": "//lh4.googleusercontent.com/-oulNnl1aBlA/AAAAAAAAAAI/AAAAAAAAAm4/uOczRUUkS4g/s50-c-k-no/photo.jpg",
            "userId": "102807397641040966212"
          }
        }
      },
      "cell_type": "code",
      "source": [
        "print('Upload GTEx Subjects datafile: ')\n",
        "uploaded = google.colab.files.upload()\n",
        "fn = list(uploaded.keys())[0]\n",
        "print('Uploaded \"{name}\" with {length} bytes'.format(name=fn, length=len(uploaded[fn])))\n",
        "subjects = pandas.read_csv(io.StringIO(uploaded[fn].decode('utf8')), sep='\\t', index_col='SUBJID')\n",
        "print(\"dataset nrows: %d ; ncols: %d:\"%(subjects.shape[0],subjects.shape[1]), file=sys.stderr)"
      ],
      "execution_count": 6,
      "outputs": [
        {
          "output_type": "stream",
          "text": [
            "Upload GTEx Subjects datafile: \n"
          ],
          "name": "stdout"
        },
        {
          "output_type": "display_data",
          "data": {
            "text/html": [
              "\n",
              "     <input type=\"file\" id=\"files-fc00ed81-f27c-4cc6-9c06-ae7502b18be0\" name=\"files[]\" multiple disabled />\n",
              "     <output id=\"result-fc00ed81-f27c-4cc6-9c06-ae7502b18be0\">\n",
              "      Upload widget is only available when the cell has been executed in the\n",
              "      current browser session. Please rerun this cell to enable.\n",
              "      </output>\n",
              "      <script src=\"/nbextensions/google.colab/files.js\"></script> "
            ],
            "text/plain": [
              "<IPython.core.display.HTML object>"
            ]
          },
          "metadata": {
            "tags": []
          }
        },
        {
          "output_type": "stream",
          "text": [
            "Saving GTEx_v7_Annotations_SubjectPhenotypesDS.txt to GTEx_v7_Annotations_SubjectPhenotypesDS (1).txt\n",
            "Uploaded \"GTEx_v7_Annotations_SubjectPhenotypesDS.txt\" with 15485 bytes\n"
          ],
          "name": "stdout"
        },
        {
          "output_type": "stream",
          "text": [
            "dataset nrows: 752 ; ncols: 3:\n"
          ],
          "name": "stderr"
        }
      ]
    },
    {
      "metadata": {
        "id": "zLyV_boFRtSO",
        "colab_type": "code",
        "colab": {
          "autoexec": {
            "startup": false,
            "wait_interval": 0
          },
          "base_uri": "https://localhost:8080/",
          "height": 235
        },
        "outputId": "afbd8a4a-eb4f-4d13-b2f3-1e461f0b805b",
        "executionInfo": {
          "status": "ok",
          "timestamp": 1533662438083,
          "user_tz": 360,
          "elapsed": 1046,
          "user": {
            "displayName": "Jeremy Yang",
            "photoUrl": "//lh4.googleusercontent.com/-oulNnl1aBlA/AAAAAAAAAAI/AAAAAAAAAm4/uOczRUUkS4g/s50-c-k-no/photo.jpg",
            "userId": "102807397641040966212"
          }
        }
      },
      "cell_type": "code",
      "source": [
        "subjects.head()"
      ],
      "execution_count": 7,
      "outputs": [
        {
          "output_type": "execute_result",
          "data": {
            "text/html": [
              "<div>\n",
              "<style scoped>\n",
              "    .dataframe tbody tr th:only-of-type {\n",
              "        vertical-align: middle;\n",
              "    }\n",
              "\n",
              "    .dataframe tbody tr th {\n",
              "        vertical-align: top;\n",
              "    }\n",
              "\n",
              "    .dataframe thead th {\n",
              "        text-align: right;\n",
              "    }\n",
              "</style>\n",
              "<table border=\"1\" class=\"dataframe\">\n",
              "  <thead>\n",
              "    <tr style=\"text-align: right;\">\n",
              "      <th></th>\n",
              "      <th>SEX</th>\n",
              "      <th>AGE</th>\n",
              "      <th>DTHHRDY</th>\n",
              "    </tr>\n",
              "    <tr>\n",
              "      <th>SUBJID</th>\n",
              "      <th></th>\n",
              "      <th></th>\n",
              "      <th></th>\n",
              "    </tr>\n",
              "  </thead>\n",
              "  <tbody>\n",
              "    <tr>\n",
              "      <th>GTEX-1117F</th>\n",
              "      <td>2</td>\n",
              "      <td>60-69</td>\n",
              "      <td>4.0</td>\n",
              "    </tr>\n",
              "    <tr>\n",
              "      <th>GTEX-111CU</th>\n",
              "      <td>1</td>\n",
              "      <td>50-59</td>\n",
              "      <td>0.0</td>\n",
              "    </tr>\n",
              "    <tr>\n",
              "      <th>GTEX-111FC</th>\n",
              "      <td>1</td>\n",
              "      <td>60-69</td>\n",
              "      <td>1.0</td>\n",
              "    </tr>\n",
              "    <tr>\n",
              "      <th>GTEX-111VG</th>\n",
              "      <td>1</td>\n",
              "      <td>60-69</td>\n",
              "      <td>3.0</td>\n",
              "    </tr>\n",
              "    <tr>\n",
              "      <th>GTEX-111YS</th>\n",
              "      <td>1</td>\n",
              "      <td>60-69</td>\n",
              "      <td>0.0</td>\n",
              "    </tr>\n",
              "  </tbody>\n",
              "</table>\n",
              "</div>"
            ],
            "text/plain": [
              "            SEX    AGE  DTHHRDY\n",
              "SUBJID                         \n",
              "GTEX-1117F    2  60-69      4.0\n",
              "GTEX-111CU    1  50-59      0.0\n",
              "GTEX-111FC    1  60-69      1.0\n",
              "GTEX-111VG    1  60-69      3.0\n",
              "GTEX-111YS    1  60-69      0.0"
            ]
          },
          "metadata": {
            "tags": []
          },
          "execution_count": 7
        }
      ]
    },
    {
      "metadata": {
        "id": "XDjnIBHN6PC2",
        "colab_type": "code",
        "colab": {
          "autoexec": {
            "startup": false,
            "wait_interval": 0
          },
          "base_uri": "https://localhost:8080/",
          "height": 136
        },
        "outputId": "bcd28391-a6a9-4711-e272-9c302238bc0e",
        "executionInfo": {
          "status": "ok",
          "timestamp": 1533662451727,
          "user_tz": 360,
          "elapsed": 782,
          "user": {
            "displayName": "Jeremy Yang",
            "photoUrl": "//lh4.googleusercontent.com/-oulNnl1aBlA/AAAAAAAAAAI/AAAAAAAAAm4/uOczRUUkS4g/s50-c-k-no/photo.jpg",
            "userId": "102807397641040966212"
          }
        }
      },
      "cell_type": "code",
      "source": [
        "subjects.AGE.value_counts().sort_index()"
      ],
      "execution_count": 8,
      "outputs": [
        {
          "output_type": "execute_result",
          "data": {
            "text/plain": [
              "20-29     58\n",
              "30-39     53\n",
              "40-49    124\n",
              "50-59    253\n",
              "60-69    241\n",
              "70-79     23\n",
              "Name: AGE, dtype: int64"
            ]
          },
          "metadata": {
            "tags": []
          },
          "execution_count": 8
        }
      ]
    },
    {
      "metadata": {
        "id": "00ru0X8O1yRw",
        "colab_type": "text"
      },
      "cell_type": "markdown",
      "source": [
        "### Keep only healthier subjects: \n",
        "(DTHHRDY = 4-point Hardy Scale Death Classification.)"
      ]
    },
    {
      "metadata": {
        "id": "DOhgbLkGBD3A",
        "colab_type": "code",
        "colab": {
          "autoexec": {
            "startup": false,
            "wait_interval": 0
          },
          "base_uri": "https://localhost:8080/",
          "height": 119
        },
        "outputId": "f326e925-c8cb-40c9-b583-d9a32fae1d87",
        "executionInfo": {
          "status": "ok",
          "timestamp": 1533662488569,
          "user_tz": 360,
          "elapsed": 808,
          "user": {
            "displayName": "Jeremy Yang",
            "photoUrl": "//lh4.googleusercontent.com/-oulNnl1aBlA/AAAAAAAAAAI/AAAAAAAAAm4/uOczRUUkS4g/s50-c-k-no/photo.jpg",
            "userId": "102807397641040966212"
          }
        }
      },
      "cell_type": "code",
      "source": [
        "print(\"Subjects with Hardy score > 2 or NA: %d (removing)\"%(subjects.query('DTHHRDY > 2').shape[0]), file=sys.stderr)\n",
        "subjects = subjects.query('DTHHRDY <= 2')\n",
        "print(\"dataset ncols: %d ; nrows: %d:\"%(subjects.shape[0],subjects.shape[1]), file=sys.stderr)\n",
        "subjects.DTHHRDY.value_counts(sort=True, dropna=False).sort_index()"
      ],
      "execution_count": 9,
      "outputs": [
        {
          "output_type": "stream",
          "text": [
            "Subjects with Hardy score > 2 or NA: 124 (removing)\n",
            "dataset ncols: 609 ; nrows: 3:\n"
          ],
          "name": "stderr"
        },
        {
          "output_type": "execute_result",
          "data": {
            "text/plain": [
              "0.0    390\n",
              "1.0     29\n",
              "2.0    190\n",
              "Name: DTHHRDY, dtype: int64"
            ]
          },
          "metadata": {
            "tags": []
          },
          "execution_count": 9
        }
      ]
    },
    {
      "metadata": {
        "id": "DQV5a6eVplg5",
        "colab_type": "text"
      },
      "cell_type": "markdown",
      "source": [
        "### Upload samples datafile:\n",
        "(GTEx_v7_Annotations_SampleAttributesDS.txt)"
      ]
    },
    {
      "metadata": {
        "id": "xfMAdBTnexYS",
        "colab_type": "code",
        "colab": {
          "autoexec": {
            "startup": false,
            "wait_interval": 0
          },
          "resources": {
            "http://localhost:8080/nbextensions/google.colab/files.js": {
              "data": "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",
              "ok": true,
              "headers": [
                [
                  "content-type",
                  "application/javascript"
                ]
              ],
              "status": 200,
              "status_text": ""
            }
          },
          "base_uri": "https://localhost:8080/",
          "height": 120
        },
        "outputId": "be463fec-952d-4a47-ac9f-ff3e499c1a7d",
        "executionInfo": {
          "status": "ok",
          "timestamp": 1533662617444,
          "user_tz": 360,
          "elapsed": 88976,
          "user": {
            "displayName": "Jeremy Yang",
            "photoUrl": "//lh4.googleusercontent.com/-oulNnl1aBlA/AAAAAAAAAAI/AAAAAAAAAm4/uOczRUUkS4g/s50-c-k-no/photo.jpg",
            "userId": "102807397641040966212"
          }
        }
      },
      "cell_type": "code",
      "source": [
        "print('Upload GTEx Samples datafile: ')\n",
        "uploaded = google.colab.files.upload()\n",
        "fn = list(uploaded.keys())[0]\n",
        "print('Uploaded \"{name}\" with {length} bytes'.format(name=fn, length=len(uploaded[fn])))\n",
        "samples = pandas.read_csv(io.StringIO(uploaded[fn].decode('utf8')), sep='\\t', index_col='SAMPID')\n",
        "samples = samples[['SMATSSCR', 'SMTS', 'SMTSD']]\n",
        "print(\"dataset nrows: %d ; ncols: %d:\"%(samples.shape[0],samples.shape[1]), file=sys.stderr)"
      ],
      "execution_count": 10,
      "outputs": [
        {
          "output_type": "stream",
          "text": [
            "Upload GTEx Samples datafile: \n"
          ],
          "name": "stdout"
        },
        {
          "output_type": "display_data",
          "data": {
            "text/html": [
              "\n",
              "     <input type=\"file\" id=\"files-132c3f6a-3b5b-4de8-ad61-def15135aee0\" name=\"files[]\" multiple disabled />\n",
              "     <output id=\"result-132c3f6a-3b5b-4de8-ad61-def15135aee0\">\n",
              "      Upload widget is only available when the cell has been executed in the\n",
              "      current browser session. Please rerun this cell to enable.\n",
              "      </output>\n",
              "      <script src=\"/nbextensions/google.colab/files.js\"></script> "
            ],
            "text/plain": [
              "<IPython.core.display.HTML object>"
            ]
          },
          "metadata": {
            "tags": []
          }
        },
        {
          "output_type": "stream",
          "text": [
            "Saving GTEx_v7_Annotations_SampleAttributesDS.txt to GTEx_v7_Annotations_SampleAttributesDS.txt\n",
            "Uploaded \"GTEx_v7_Annotations_SampleAttributesDS.txt\" with 8281415 bytes\n"
          ],
          "name": "stdout"
        },
        {
          "output_type": "stream",
          "text": [
            "dataset nrows: 15598 ; ncols: 3:\n"
          ],
          "name": "stderr"
        }
      ]
    },
    {
      "metadata": {
        "id": "JVR2KlrrxPFk",
        "colab_type": "text"
      },
      "cell_type": "markdown",
      "source": [
        "SUBJID is first two hyphen-delimted fields of SAMPID."
      ]
    },
    {
      "metadata": {
        "id": "GUPSF541upk0",
        "colab_type": "code",
        "colab": {
          "autoexec": {
            "startup": false,
            "wait_interval": 0
          }
        }
      },
      "cell_type": "code",
      "source": [
        "samples['SUBJID'] = samples.index\n",
        "samples['SUBJID'] = samples.SUBJID.str.extract('^([^-]+-[^-]+)-', expand=True)"
      ],
      "execution_count": 0,
      "outputs": []
    },
    {
      "metadata": {
        "id": "YZJjVYIWR27k",
        "colab_type": "code",
        "colab": {
          "autoexec": {
            "startup": false,
            "wait_interval": 0
          },
          "base_uri": "https://localhost:8080/",
          "height": 235
        },
        "outputId": "930a34e3-d1e2-4312-dcd7-f71f33ae97e5",
        "executionInfo": {
          "status": "ok",
          "timestamp": 1533662738453,
          "user_tz": 360,
          "elapsed": 771,
          "user": {
            "displayName": "Jeremy Yang",
            "photoUrl": "//lh4.googleusercontent.com/-oulNnl1aBlA/AAAAAAAAAAI/AAAAAAAAAm4/uOczRUUkS4g/s50-c-k-no/photo.jpg",
            "userId": "102807397641040966212"
          }
        }
      },
      "cell_type": "code",
      "source": [
        "samples.head()"
      ],
      "execution_count": 12,
      "outputs": [
        {
          "output_type": "execute_result",
          "data": {
            "text/html": [
              "<div>\n",
              "<style scoped>\n",
              "    .dataframe tbody tr th:only-of-type {\n",
              "        vertical-align: middle;\n",
              "    }\n",
              "\n",
              "    .dataframe tbody tr th {\n",
              "        vertical-align: top;\n",
              "    }\n",
              "\n",
              "    .dataframe thead th {\n",
              "        text-align: right;\n",
              "    }\n",
              "</style>\n",
              "<table border=\"1\" class=\"dataframe\">\n",
              "  <thead>\n",
              "    <tr style=\"text-align: right;\">\n",
              "      <th></th>\n",
              "      <th>SMATSSCR</th>\n",
              "      <th>SMTS</th>\n",
              "      <th>SMTSD</th>\n",
              "      <th>SUBJID</th>\n",
              "    </tr>\n",
              "    <tr>\n",
              "      <th>SAMPID</th>\n",
              "      <th></th>\n",
              "      <th></th>\n",
              "      <th></th>\n",
              "      <th></th>\n",
              "    </tr>\n",
              "  </thead>\n",
              "  <tbody>\n",
              "    <tr>\n",
              "      <th>GTEX-1117F-0003-SM-58Q7G</th>\n",
              "      <td>NaN</td>\n",
              "      <td>Blood</td>\n",
              "      <td>Whole Blood</td>\n",
              "      <td>GTEX-1117F</td>\n",
              "    </tr>\n",
              "    <tr>\n",
              "      <th>GTEX-1117F-0003-SM-5DWSB</th>\n",
              "      <td>NaN</td>\n",
              "      <td>Blood</td>\n",
              "      <td>Whole Blood</td>\n",
              "      <td>GTEX-1117F</td>\n",
              "    </tr>\n",
              "    <tr>\n",
              "      <th>GTEX-1117F-0003-SM-6WBT7</th>\n",
              "      <td>NaN</td>\n",
              "      <td>Blood</td>\n",
              "      <td>Whole Blood</td>\n",
              "      <td>GTEX-1117F</td>\n",
              "    </tr>\n",
              "    <tr>\n",
              "      <th>GTEX-1117F-0226-SM-5GZZ7</th>\n",
              "      <td>0.0</td>\n",
              "      <td>Adipose Tissue</td>\n",
              "      <td>Adipose - Subcutaneous</td>\n",
              "      <td>GTEX-1117F</td>\n",
              "    </tr>\n",
              "    <tr>\n",
              "      <th>GTEX-1117F-0426-SM-5EGHI</th>\n",
              "      <td>0.0</td>\n",
              "      <td>Muscle</td>\n",
              "      <td>Muscle - Skeletal</td>\n",
              "      <td>GTEX-1117F</td>\n",
              "    </tr>\n",
              "  </tbody>\n",
              "</table>\n",
              "</div>"
            ],
            "text/plain": [
              "                          SMATSSCR            SMTS                   SMTSD  \\\n",
              "SAMPID                                                                       \n",
              "GTEX-1117F-0003-SM-58Q7G       NaN           Blood             Whole Blood   \n",
              "GTEX-1117F-0003-SM-5DWSB       NaN           Blood             Whole Blood   \n",
              "GTEX-1117F-0003-SM-6WBT7       NaN           Blood             Whole Blood   \n",
              "GTEX-1117F-0226-SM-5GZZ7       0.0  Adipose Tissue  Adipose - Subcutaneous   \n",
              "GTEX-1117F-0426-SM-5EGHI       0.0          Muscle       Muscle - Skeletal   \n",
              "\n",
              "                              SUBJID  \n",
              "SAMPID                                \n",
              "GTEX-1117F-0003-SM-58Q7G  GTEX-1117F  \n",
              "GTEX-1117F-0003-SM-5DWSB  GTEX-1117F  \n",
              "GTEX-1117F-0003-SM-6WBT7  GTEX-1117F  \n",
              "GTEX-1117F-0226-SM-5GZZ7  GTEX-1117F  \n",
              "GTEX-1117F-0426-SM-5EGHI  GTEX-1117F  "
            ]
          },
          "metadata": {
            "tags": []
          },
          "execution_count": 12
        }
      ]
    },
    {
      "metadata": {
        "id": "zrITfg3v3iQ1",
        "colab_type": "text"
      },
      "cell_type": "markdown",
      "source": [
        "### MERGE samples and subjects:"
      ]
    },
    {
      "metadata": {
        "id": "fhQuOfNr3vo_",
        "colab_type": "code",
        "colab": {
          "autoexec": {
            "startup": false,
            "wait_interval": 0
          },
          "base_uri": "https://localhost:8080/",
          "height": 235
        },
        "outputId": "7d4e4835-4d77-43eb-f61c-57c7ff730e47",
        "executionInfo": {
          "status": "ok",
          "timestamp": 1533662899423,
          "user_tz": 360,
          "elapsed": 988,
          "user": {
            "displayName": "Jeremy Yang",
            "photoUrl": "//lh4.googleusercontent.com/-oulNnl1aBlA/AAAAAAAAAAI/AAAAAAAAAm4/uOczRUUkS4g/s50-c-k-no/photo.jpg",
            "userId": "102807397641040966212"
          }
        }
      },
      "cell_type": "code",
      "source": [
        "samples = pandas.merge(samples, subjects, how='inner', left_on='SUBJID', right_index=True)\n",
        "samples.head()"
      ],
      "execution_count": 13,
      "outputs": [
        {
          "output_type": "execute_result",
          "data": {
            "text/html": [
              "<div>\n",
              "<style scoped>\n",
              "    .dataframe tbody tr th:only-of-type {\n",
              "        vertical-align: middle;\n",
              "    }\n",
              "\n",
              "    .dataframe tbody tr th {\n",
              "        vertical-align: top;\n",
              "    }\n",
              "\n",
              "    .dataframe thead th {\n",
              "        text-align: right;\n",
              "    }\n",
              "</style>\n",
              "<table border=\"1\" class=\"dataframe\">\n",
              "  <thead>\n",
              "    <tr style=\"text-align: right;\">\n",
              "      <th></th>\n",
              "      <th>SMATSSCR</th>\n",
              "      <th>SMTS</th>\n",
              "      <th>SMTSD</th>\n",
              "      <th>SUBJID</th>\n",
              "      <th>SEX</th>\n",
              "      <th>AGE</th>\n",
              "      <th>DTHHRDY</th>\n",
              "    </tr>\n",
              "    <tr>\n",
              "      <th>SAMPID</th>\n",
              "      <th></th>\n",
              "      <th></th>\n",
              "      <th></th>\n",
              "      <th></th>\n",
              "      <th></th>\n",
              "      <th></th>\n",
              "      <th></th>\n",
              "    </tr>\n",
              "  </thead>\n",
              "  <tbody>\n",
              "    <tr>\n",
              "      <th>GTEX-111CU-0003-SM-58Q95</th>\n",
              "      <td>NaN</td>\n",
              "      <td>Blood</td>\n",
              "      <td>Whole Blood</td>\n",
              "      <td>GTEX-111CU</td>\n",
              "      <td>1</td>\n",
              "      <td>50-59</td>\n",
              "      <td>0.0</td>\n",
              "    </tr>\n",
              "    <tr>\n",
              "      <th>GTEX-111CU-0003-SM-5DWTR</th>\n",
              "      <td>NaN</td>\n",
              "      <td>Blood</td>\n",
              "      <td>Whole Blood</td>\n",
              "      <td>GTEX-111CU</td>\n",
              "      <td>1</td>\n",
              "      <td>50-59</td>\n",
              "      <td>0.0</td>\n",
              "    </tr>\n",
              "    <tr>\n",
              "      <th>GTEX-111CU-0003-SM-6WBUD</th>\n",
              "      <td>NaN</td>\n",
              "      <td>Blood</td>\n",
              "      <td>Whole Blood</td>\n",
              "      <td>GTEX-111CU</td>\n",
              "      <td>1</td>\n",
              "      <td>50-59</td>\n",
              "      <td>0.0</td>\n",
              "    </tr>\n",
              "    <tr>\n",
              "      <th>GTEX-111CU-0126-SM-5GZWZ</th>\n",
              "      <td>0.0</td>\n",
              "      <td>Adrenal Gland</td>\n",
              "      <td>Adrenal Gland</td>\n",
              "      <td>GTEX-111CU</td>\n",
              "      <td>1</td>\n",
              "      <td>50-59</td>\n",
              "      <td>0.0</td>\n",
              "    </tr>\n",
              "    <tr>\n",
              "      <th>GTEX-111CU-0226-SM-5GZXC</th>\n",
              "      <td>0.0</td>\n",
              "      <td>Thyroid</td>\n",
              "      <td>Thyroid</td>\n",
              "      <td>GTEX-111CU</td>\n",
              "      <td>1</td>\n",
              "      <td>50-59</td>\n",
              "      <td>0.0</td>\n",
              "    </tr>\n",
              "  </tbody>\n",
              "</table>\n",
              "</div>"
            ],
            "text/plain": [
              "                          SMATSSCR           SMTS          SMTSD      SUBJID  \\\n",
              "SAMPID                                                                         \n",
              "GTEX-111CU-0003-SM-58Q95       NaN          Blood    Whole Blood  GTEX-111CU   \n",
              "GTEX-111CU-0003-SM-5DWTR       NaN          Blood    Whole Blood  GTEX-111CU   \n",
              "GTEX-111CU-0003-SM-6WBUD       NaN          Blood    Whole Blood  GTEX-111CU   \n",
              "GTEX-111CU-0126-SM-5GZWZ       0.0  Adrenal Gland  Adrenal Gland  GTEX-111CU   \n",
              "GTEX-111CU-0226-SM-5GZXC       0.0        Thyroid        Thyroid  GTEX-111CU   \n",
              "\n",
              "                          SEX    AGE  DTHHRDY  \n",
              "SAMPID                                         \n",
              "GTEX-111CU-0003-SM-58Q95    1  50-59      0.0  \n",
              "GTEX-111CU-0003-SM-5DWTR    1  50-59      0.0  \n",
              "GTEX-111CU-0003-SM-6WBUD    1  50-59      0.0  \n",
              "GTEX-111CU-0126-SM-5GZWZ    1  50-59      0.0  \n",
              "GTEX-111CU-0226-SM-5GZXC    1  50-59      0.0  "
            ]
          },
          "metadata": {
            "tags": []
          },
          "execution_count": 13
        }
      ]
    },
    {
      "metadata": {
        "id": "W_5vX8JGEg-R",
        "colab_type": "text"
      },
      "cell_type": "markdown",
      "source": [
        "### Clean & tidy cols. Remove samples with high degree of autolysis (self-digestion)."
      ]
    },
    {
      "metadata": {
        "id": "NLqHEPzFFGwL",
        "colab_type": "code",
        "colab": {
          "autoexec": {
            "startup": false,
            "wait_interval": 0
          },
          "base_uri": "https://localhost:8080/",
          "height": 85
        },
        "outputId": "c1587333-1e55-41d6-8b89-30bd1ee0bb1e",
        "executionInfo": {
          "status": "ok",
          "timestamp": 1533677893026,
          "user_tz": 360,
          "elapsed": 779,
          "user": {
            "displayName": "Jeremy Yang",
            "photoUrl": "//lh4.googleusercontent.com/-oulNnl1aBlA/AAAAAAAAAAI/AAAAAAAAAm4/uOczRUUkS4g/s50-c-k-no/photo.jpg",
            "userId": "102807397641040966212"
          }
        }
      },
      "cell_type": "code",
      "source": [
        "samples.dropna(how='any', inplace=True)\n",
        "print(samples.shape)\n",
        "samples.SEX = samples.SEX.apply(lambda x: 'female' if x==2 else 'male' if x==1 else None)\n",
        "samples.SEX.value_counts().sort_index()"
      ],
      "execution_count": 14,
      "outputs": [
        {
          "output_type": "stream",
          "text": [
            "(9279, 7)\n"
          ],
          "name": "stdout"
        },
        {
          "output_type": "execute_result",
          "data": {
            "text/plain": [
              "female    3323\n",
              "male      5956\n",
              "Name: SEX, dtype: int64"
            ]
          },
          "metadata": {
            "tags": []
          },
          "execution_count": 14
        }
      ]
    },
    {
      "metadata": {
        "id": "pwZ284GA2S8I",
        "colab_type": "code",
        "colab": {
          "autoexec": {
            "startup": false,
            "wait_interval": 0
          },
          "base_uri": "https://localhost:8080/",
          "height": 34
        },
        "outputId": "05f7283c-e594-470e-b976-07daff4edd6f",
        "executionInfo": {
          "status": "ok",
          "timestamp": 1533677900032,
          "user_tz": 360,
          "elapsed": 1127,
          "user": {
            "displayName": "Jeremy Yang",
            "photoUrl": "//lh4.googleusercontent.com/-oulNnl1aBlA/AAAAAAAAAAI/AAAAAAAAAm4/uOczRUUkS4g/s50-c-k-no/photo.jpg",
            "userId": "102807397641040966212"
          }
        }
      },
      "cell_type": "code",
      "source": [
        "samples = samples[samples.SMATSSCR < 2]\n",
        "print(samples.shape)"
      ],
      "execution_count": 15,
      "outputs": [
        {
          "output_type": "stream",
          "text": [
            "(8422, 7)\n"
          ],
          "name": "stdout"
        }
      ]
    },
    {
      "metadata": {
        "id": "fkZ3s4ZPLWKl",
        "colab_type": "code",
        "colab": {
          "autoexec": {
            "startup": false,
            "wait_interval": 0
          }
        }
      },
      "cell_type": "code",
      "source": [
        "samples.loc[(samples.SMTS.str.strip() == '') & samples.SMTSD.str.startswith(\"Skin -\"), 'SMTS'] = 'Skin'"
      ],
      "execution_count": 0,
      "outputs": []
    },
    {
      "metadata": {
        "id": "4yzccK8flH02",
        "colab_type": "code",
        "colab": {
          "autoexec": {
            "startup": false,
            "wait_interval": 0
          },
          "base_uri": "https://localhost:8080/",
          "height": 697
        },
        "outputId": "185cbb31-b0b7-438d-91c9-e941c5b2fc01",
        "executionInfo": {
          "status": "ok",
          "timestamp": 1533677911341,
          "user_tz": 360,
          "elapsed": 786,
          "user": {
            "displayName": "Jeremy Yang",
            "photoUrl": "//lh4.googleusercontent.com/-oulNnl1aBlA/AAAAAAAAAAI/AAAAAAAAAm4/uOczRUUkS4g/s50-c-k-no/photo.jpg",
            "userId": "102807397641040966212"
          }
        }
      },
      "cell_type": "code",
      "source": [
        "(samples.SMTS+\" : \"+samples.SMTSD).value_counts().sort_index()"
      ],
      "execution_count": 17,
      "outputs": [
        {
          "output_type": "execute_result",
          "data": {
            "text/plain": [
              "Adipose Tissue : Adipose - Subcutaneous               430\n",
              "Adipose Tissue : Adipose - Visceral (Omentum)         315\n",
              "Adrenal Gland : Adrenal Gland                         159\n",
              "Bladder : Bladder                                       8\n",
              "Blood Vessel : Artery - Aorta                         274\n",
              "Blood Vessel : Artery - Coronary                      161\n",
              "Blood Vessel : Artery - Tibial                        452\n",
              "Brain : Brain - Cerebellum                            107\n",
              "Brain : Brain - Cortex                                 96\n",
              "Breast : Breast - Mammary Tissue                      250\n",
              "Cervix Uteri : Cervix - Ectocervix                      5\n",
              "Cervix Uteri : Cervix - Endocervix                      3\n",
              "Colon : Colon - Sigmoid                               193\n",
              "Colon : Colon - Transverse                            186\n",
              "Esophagus : Esophagus - Gastroesophageal Junction     240\n",
              "Esophagus : Esophagus - Mucosa                        370\n",
              "Esophagus : Esophagus - Muscularis                    358\n",
              "Fallopian Tube : Fallopian Tube                         7\n",
              "Heart : Heart - Atrial Appendage                      248\n",
              "Heart : Heart - Left Ventricle                        362\n",
              "Kidney : Kidney - Cortex                               14\n",
              "Liver : Liver                                         144\n",
              "Lung : Lung                                           388\n",
              "Muscle : Muscle - Skeletal                            568\n",
              "Nerve : Nerve - Tibial                                407\n",
              "Ovary : Ovary                                         117\n",
              "Pancreas : Pancreas                                   224\n",
              "Pituitary : Pituitary                                  82\n",
              "Prostate : Prostate                                   106\n",
              "Salivary Gland : Minor Salivary Gland                  95\n",
              "Skin : Skin - Not Sun Exposed (Suprapubic)            333\n",
              "Skin : Skin - Sun Exposed (Lower leg)                 477\n",
              "Small Intestine : Small Intestine - Terminal Ileum    112\n",
              "Spleen : Spleen                                       141\n",
              "Stomach : Stomach                                     202\n",
              "Testis : Testis                                       192\n",
              "Thyroid : Thyroid                                     405\n",
              "Uterus : Uterus                                        95\n",
              "Vagina : Vagina                                        96\n",
              "dtype: int64"
            ]
          },
          "metadata": {
            "tags": []
          },
          "execution_count": 17
        }
      ]
    },
    {
      "metadata": {
        "id": "ZetBwy5jqOQk",
        "colab_type": "text"
      },
      "cell_type": "markdown",
      "source": [
        "### READ GENE TPMs (full or demo subset)\n",
        "Full file is ~56k rows, 2.6GB uncompressed.  Demo ~1k rows.\n",
        "\n",
        "*   GTEx_Analysis_2016-01-15_v7_RNASeQCv1.1.8_gene_tpm.gct.gz\n",
        "*   GTEx_Analysis_2016-01-15_v7_RNASeQCv1.1.8_gene_tpm_demo.gct.gz\n"
      ]
    },
    {
      "metadata": {
        "id": "iAwlsefpq4dx",
        "colab_type": "code",
        "colab": {
          "autoexec": {
            "startup": false,
            "wait_interval": 0
          },
          "resources": {
            "http://localhost:8080/nbextensions/google.colab/files.js": {
              "data": "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",
              "ok": true,
              "headers": [
                [
                  "content-type",
                  "application/javascript"
                ]
              ],
              "status": 200,
              "status_text": ""
            }
          },
          "base_uri": "https://localhost:8080/",
          "height": 137
        },
        "outputId": "b6efb91c-de60-4b04-87e2-4237ebac4443",
        "executionInfo": {
          "status": "ok",
          "timestamp": 1533678104724,
          "user_tz": 360,
          "elapsed": 178666,
          "user": {
            "displayName": "Jeremy Yang",
            "photoUrl": "//lh4.googleusercontent.com/-oulNnl1aBlA/AAAAAAAAAAI/AAAAAAAAAm4/uOczRUUkS4g/s50-c-k-no/photo.jpg",
            "userId": "102807397641040966212"
          }
        }
      },
      "cell_type": "code",
      "source": [
        "print('Upload GTEx RNAseq TPM datafile: ')\n",
        "t0 = time.time()\n",
        "uploaded = google.colab.files.upload()\n",
        "fn = list(uploaded.keys())[0]\n",
        "print('Uploaded \"{name}\" with {length} bytes'.format(name=fn, length=len(uploaded[fn])))\n",
        "rnaseq = pandas.read_table(io.BytesIO(uploaded[fn]), compression='gzip', sep='\\t', skiprows=2)\n",
        "print(\"dataset nrows: %d ; ncols: %d:\"%(rnaseq.shape[0],rnaseq.shape[1]), file=sys.stderr)\n",
        "print(\"Elapsed: %ds\"%(time.time()-t0))"
      ],
      "execution_count": 18,
      "outputs": [
        {
          "output_type": "stream",
          "text": [
            "Upload GTEx RNAseq TPM datafile: \n"
          ],
          "name": "stdout"
        },
        {
          "output_type": "display_data",
          "data": {
            "text/html": [
              "\n",
              "     <input type=\"file\" id=\"files-5439b2a4-b474-434b-a4ec-0a4c04d39297\" name=\"files[]\" multiple disabled />\n",
              "     <output id=\"result-5439b2a4-b474-434b-a4ec-0a4c04d39297\">\n",
              "      Upload widget is only available when the cell has been executed in the\n",
              "      current browser session. Please rerun this cell to enable.\n",
              "      </output>\n",
              "      <script src=\"/nbextensions/google.colab/files.js\"></script> "
            ],
            "text/plain": [
              "<IPython.core.display.HTML object>"
            ]
          },
          "metadata": {
            "tags": []
          }
        },
        {
          "output_type": "stream",
          "text": [
            "Saving GTEx_Analysis_2016-01-15_v7_RNASeQCv1.1.8_gene_tpm_demo.gct.gz to GTEx_Analysis_2016-01-15_v7_RNASeQCv1.1.8_gene_tpm_demo.gct.gz\n",
            "Uploaded \"GTEx_Analysis_2016-01-15_v7_RNASeQCv1.1.8_gene_tpm_demo.gct.gz\" with 16568044 bytes\n",
            "Elapsed: 177s\n"
          ],
          "name": "stdout"
        },
        {
          "output_type": "stream",
          "text": [
            "dataset nrows: 1046 ; ncols: 11690:\n"
          ],
          "name": "stderr"
        }
      ]
    },
    {
      "metadata": {
        "id": "TMVeLSeH3CwZ",
        "colab_type": "code",
        "colab": {
          "autoexec": {
            "startup": false,
            "wait_interval": 0
          },
          "base_uri": "https://localhost:8080/",
          "height": 102
        },
        "outputId": "b3d00eca-d314-4696-ceca-7b6520b38e28",
        "executionInfo": {
          "status": "ok",
          "timestamp": 1533678143225,
          "user_tz": 360,
          "elapsed": 1112,
          "user": {
            "displayName": "Jeremy Yang",
            "photoUrl": "//lh4.googleusercontent.com/-oulNnl1aBlA/AAAAAAAAAAI/AAAAAAAAAm4/uOczRUUkS4g/s50-c-k-no/photo.jpg",
            "userId": "102807397641040966212"
          }
        }
      },
      "cell_type": "code",
      "source": [
        "rnaseq.info()"
      ],
      "execution_count": 19,
      "outputs": [
        {
          "output_type": "stream",
          "text": [
            "<class 'pandas.core.frame.DataFrame'>\n",
            "RangeIndex: 1046 entries, 0 to 1045\n",
            "Columns: 11690 entries, Name to GTEX-ZXG5-0005-SM-57WCN\n",
            "dtypes: float64(11688), object(2)\n",
            "memory usage: 93.3+ MB\n"
          ],
          "name": "stdout"
        }
      ]
    },
    {
      "metadata": {
        "id": "g0t_4RBswccq",
        "colab_type": "code",
        "colab": {
          "autoexec": {
            "startup": false,
            "wait_interval": 0
          },
          "base_uri": "https://localhost:8080/",
          "height": 221
        },
        "outputId": "d3e5ecee-b246-476b-944e-a83e9503586f",
        "executionInfo": {
          "status": "ok",
          "timestamp": 1533678147897,
          "user_tz": 360,
          "elapsed": 916,
          "user": {
            "displayName": "Jeremy Yang",
            "photoUrl": "//lh4.googleusercontent.com/-oulNnl1aBlA/AAAAAAAAAAI/AAAAAAAAAm4/uOczRUUkS4g/s50-c-k-no/photo.jpg",
            "userId": "102807397641040966212"
          }
        }
      },
      "cell_type": "code",
      "source": [
        "rnaseq = rnaseq.drop(columns=['Description'])\n",
        "rnaseq = rnaseq.rename(columns={'Name':'ENSG'})\n",
        "rnaseq.columns"
      ],
      "execution_count": 20,
      "outputs": [
        {
          "output_type": "execute_result",
          "data": {
            "text/plain": [
              "Index(['ENSG', 'GTEX-1117F-0226-SM-5GZZ7', 'GTEX-111CU-1826-SM-5GZYN',\n",
              "       'GTEX-111FC-0226-SM-5N9B8', 'GTEX-111VG-2326-SM-5N9BK',\n",
              "       'GTEX-111YS-2426-SM-5GZZQ', 'GTEX-1122O-2026-SM-5NQ91',\n",
              "       'GTEX-1128S-2126-SM-5H12U', 'GTEX-113IC-0226-SM-5HL5C',\n",
              "       'GTEX-117YX-2226-SM-5EGJJ',\n",
              "       ...\n",
              "       'GTEX-ZVE2-0006-SM-51MRW', 'GTEX-ZVP2-0005-SM-51MRK',\n",
              "       'GTEX-ZVT2-0005-SM-57WBW', 'GTEX-ZVT3-0006-SM-51MT9',\n",
              "       'GTEX-ZVT4-0006-SM-57WB8', 'GTEX-ZVTK-0006-SM-57WBK',\n",
              "       'GTEX-ZVZP-0006-SM-51MSW', 'GTEX-ZVZQ-0006-SM-51MR8',\n",
              "       'GTEX-ZXES-0005-SM-57WCB', 'GTEX-ZXG5-0005-SM-57WCN'],\n",
              "      dtype='object', length=11689)"
            ]
          },
          "metadata": {
            "tags": []
          },
          "execution_count": 20
        }
      ]
    },
    {
      "metadata": {
        "id": "1LsGqo2Fxtp1",
        "colab_type": "text"
      },
      "cell_type": "markdown",
      "source": [
        "### MELT: One row per ENSG+SAMPID+TPM triplet:\n",
        "Easier to handle but ~3x storage."
      ]
    },
    {
      "metadata": {
        "id": "bSaZOsP_xkQ2",
        "colab_type": "code",
        "colab": {
          "autoexec": {
            "startup": false,
            "wait_interval": 0
          }
        }
      },
      "cell_type": "code",
      "source": [
        "rnaseq = rnaseq.melt(id_vars = \"ENSG\", var_name = \"SAMPID\", value_name = \"TPM\")"
      ],
      "execution_count": 0,
      "outputs": []
    },
    {
      "metadata": {
        "id": "3E0h4B2jzoK5",
        "colab_type": "code",
        "colab": {
          "autoexec": {
            "startup": false,
            "wait_interval": 0
          },
          "base_uri": "https://localhost:8080/",
          "height": 204
        },
        "outputId": "48bbdc21-60f7-465c-afac-9aae25c92590",
        "executionInfo": {
          "status": "ok",
          "timestamp": 1533678162406,
          "user_tz": 360,
          "elapsed": 760,
          "user": {
            "displayName": "Jeremy Yang",
            "photoUrl": "//lh4.googleusercontent.com/-oulNnl1aBlA/AAAAAAAAAAI/AAAAAAAAAm4/uOczRUUkS4g/s50-c-k-no/photo.jpg",
            "userId": "102807397641040966212"
          }
        }
      },
      "cell_type": "code",
      "source": [
        "rnaseq.head()"
      ],
      "execution_count": 22,
      "outputs": [
        {
          "output_type": "execute_result",
          "data": {
            "text/html": [
              "<div>\n",
              "<style scoped>\n",
              "    .dataframe tbody tr th:only-of-type {\n",
              "        vertical-align: middle;\n",
              "    }\n",
              "\n",
              "    .dataframe tbody tr th {\n",
              "        vertical-align: top;\n",
              "    }\n",
              "\n",
              "    .dataframe thead th {\n",
              "        text-align: right;\n",
              "    }\n",
              "</style>\n",
              "<table border=\"1\" class=\"dataframe\">\n",
              "  <thead>\n",
              "    <tr style=\"text-align: right;\">\n",
              "      <th></th>\n",
              "      <th>ENSG</th>\n",
              "      <th>SAMPID</th>\n",
              "      <th>TPM</th>\n",
              "    </tr>\n",
              "  </thead>\n",
              "  <tbody>\n",
              "    <tr>\n",
              "      <th>0</th>\n",
              "      <td>ENSG00000116198.8</td>\n",
              "      <td>GTEX-1117F-0226-SM-5GZZ7</td>\n",
              "      <td>11.19</td>\n",
              "    </tr>\n",
              "    <tr>\n",
              "      <th>1</th>\n",
              "      <td>ENSG00000221083.1</td>\n",
              "      <td>GTEX-1117F-0226-SM-5GZZ7</td>\n",
              "      <td>0.00</td>\n",
              "    </tr>\n",
              "    <tr>\n",
              "      <th>2</th>\n",
              "      <td>ENSG00000201725.1</td>\n",
              "      <td>GTEX-1117F-0226-SM-5GZZ7</td>\n",
              "      <td>0.00</td>\n",
              "    </tr>\n",
              "    <tr>\n",
              "      <th>3</th>\n",
              "      <td>ENSG00000049239.8</td>\n",
              "      <td>GTEX-1117F-0226-SM-5GZZ7</td>\n",
              "      <td>86.30</td>\n",
              "    </tr>\n",
              "    <tr>\n",
              "      <th>4</th>\n",
              "      <td>ENSG00000201746.1</td>\n",
              "      <td>GTEX-1117F-0226-SM-5GZZ7</td>\n",
              "      <td>0.00</td>\n",
              "    </tr>\n",
              "  </tbody>\n",
              "</table>\n",
              "</div>"
            ],
            "text/plain": [
              "                ENSG                    SAMPID    TPM\n",
              "0  ENSG00000116198.8  GTEX-1117F-0226-SM-5GZZ7  11.19\n",
              "1  ENSG00000221083.1  GTEX-1117F-0226-SM-5GZZ7   0.00\n",
              "2  ENSG00000201725.1  GTEX-1117F-0226-SM-5GZZ7   0.00\n",
              "3  ENSG00000049239.8  GTEX-1117F-0226-SM-5GZZ7  86.30\n",
              "4  ENSG00000201746.1  GTEX-1117F-0226-SM-5GZZ7   0.00"
            ]
          },
          "metadata": {
            "tags": []
          },
          "execution_count": 22
        }
      ]
    },
    {
      "metadata": {
        "id": "X17IFQ43pg3i",
        "colab_type": "code",
        "colab": {
          "autoexec": {
            "startup": false,
            "wait_interval": 0
          },
          "base_uri": "https://localhost:8080/",
          "height": 153
        },
        "outputId": "0c89340c-e65b-47b2-d6e3-4ccc2469ec99",
        "executionInfo": {
          "status": "ok",
          "timestamp": 1533678177410,
          "user_tz": 360,
          "elapsed": 828,
          "user": {
            "displayName": "Jeremy Yang",
            "photoUrl": "//lh4.googleusercontent.com/-oulNnl1aBlA/AAAAAAAAAAI/AAAAAAAAAm4/uOczRUUkS4g/s50-c-k-no/photo.jpg",
            "userId": "102807397641040966212"
          }
        }
      },
      "cell_type": "code",
      "source": [
        "rnaseq.info()"
      ],
      "execution_count": 23,
      "outputs": [
        {
          "output_type": "stream",
          "text": [
            "<class 'pandas.core.frame.DataFrame'>\n",
            "RangeIndex: 12225648 entries, 0 to 12225647\n",
            "Data columns (total 3 columns):\n",
            "ENSG      object\n",
            "SAMPID    object\n",
            "TPM       float64\n",
            "dtypes: float64(1), object(2)\n",
            "memory usage: 279.8+ MB\n"
          ],
          "name": "stdout"
        }
      ]
    },
    {
      "metadata": {
        "id": "2rmvTu5upzFs",
        "colab_type": "text"
      },
      "cell_type": "markdown",
      "source": [
        "### Read and merge gene symbols."
      ]
    },
    {
      "metadata": {
        "id": "Xo2F7qVApyk0",
        "colab_type": "code",
        "colab": {
          "autoexec": {
            "startup": false,
            "wait_interval": 0
          },
          "resources": {
            "http://localhost:8080/nbextensions/google.colab/files.js": {
              "data": "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",
              "ok": true,
              "headers": [
                [
                  "content-type",
                  "application/javascript"
                ]
              ],
              "status": 200,
              "status_text": ""
            }
          },
          "base_uri": "https://localhost:8080/",
          "height": 103
        },
        "outputId": "b128b832-e401-45db-e8e8-280d25762c8a",
        "executionInfo": {
          "status": "ok",
          "timestamp": 1533678216852,
          "user_tz": 360,
          "elapsed": 31877,
          "user": {
            "displayName": "Jeremy Yang",
            "photoUrl": "//lh4.googleusercontent.com/-oulNnl1aBlA/AAAAAAAAAAI/AAAAAAAAAm4/uOczRUUkS4g/s50-c-k-no/photo.jpg",
            "userId": "102807397641040966212"
          }
        }
      },
      "cell_type": "code",
      "source": [
        "print('Upload Biomart ENSG2NCBI genes datafile: ')\n",
        "uploaded = google.colab.files.upload()\n",
        "fn = list(uploaded.keys())[0]\n",
        "print('Uploaded \"{name}\" with {length} bytes'.format(name=fn, length=len(uploaded[fn])))\n",
        "genes = pandas.read_csv(io.StringIO(uploaded[fn].decode('utf8')), sep='\\t', usecols=[1,2,3], na_values=[''], dtype={2:str})\n",
        "genes.columns = ['ENSG','NCBI','HGNC']\n",
        "genes.dropna(inplace=True)"
      ],
      "execution_count": 24,
      "outputs": [
        {
          "output_type": "stream",
          "text": [
            "Upload Biomart ENSG2NCBI genes datafile: \n"
          ],
          "name": "stdout"
        },
        {
          "output_type": "display_data",
          "data": {
            "text/html": [
              "\n",
              "     <input type=\"file\" id=\"files-7f283884-6fbe-4c96-af06-e755f58d21b4\" name=\"files[]\" multiple disabled />\n",
              "     <output id=\"result-7f283884-6fbe-4c96-af06-e755f58d21b4\">\n",
              "      Upload widget is only available when the cell has been executed in the\n",
              "      current browser session. Please rerun this cell to enable.\n",
              "      </output>\n",
              "      <script src=\"/nbextensions/google.colab/files.js\"></script> "
            ],
            "text/plain": [
              "<IPython.core.display.HTML object>"
            ]
          },
          "metadata": {
            "tags": []
          }
        },
        {
          "output_type": "stream",
          "text": [
            "Saving biomart_ENSG2NCBI.tsv to biomart_ENSG2NCBI.tsv\n",
            "Uploaded \"biomart_ENSG2NCBI.tsv\" with 2786143 bytes\n"
          ],
          "name": "stdout"
        }
      ]
    },
    {
      "metadata": {
        "id": "fegRBFc-tO00",
        "colab_type": "code",
        "colab": {
          "autoexec": {
            "startup": false,
            "wait_interval": 0
          },
          "base_uri": "https://localhost:8080/",
          "height": 153
        },
        "outputId": "08355048-31f3-446d-c4bf-07ef2ea4e7a3",
        "executionInfo": {
          "status": "ok",
          "timestamp": 1533678219938,
          "user_tz": 360,
          "elapsed": 762,
          "user": {
            "displayName": "Jeremy Yang",
            "photoUrl": "//lh4.googleusercontent.com/-oulNnl1aBlA/AAAAAAAAAAI/AAAAAAAAAm4/uOczRUUkS4g/s50-c-k-no/photo.jpg",
            "userId": "102807397641040966212"
          }
        }
      },
      "cell_type": "code",
      "source": [
        "genes.info()"
      ],
      "execution_count": 25,
      "outputs": [
        {
          "output_type": "stream",
          "text": [
            "<class 'pandas.core.frame.DataFrame'>\n",
            "Int64Index: 27486 entries, 1 to 64717\n",
            "Data columns (total 3 columns):\n",
            "ENSG    27486 non-null object\n",
            "NCBI    27486 non-null object\n",
            "HGNC    27486 non-null object\n",
            "dtypes: object(3)\n",
            "memory usage: 858.9+ KB\n"
          ],
          "name": "stdout"
        }
      ]
    },
    {
      "metadata": {
        "id": "RSyD7C4Nt9vS",
        "colab_type": "code",
        "colab": {
          "autoexec": {
            "startup": false,
            "wait_interval": 0
          },
          "base_uri": "https://localhost:8080/",
          "height": 204
        },
        "outputId": "e0d8e196-4e59-46fe-de79-01c227d697a3",
        "executionInfo": {
          "status": "ok",
          "timestamp": 1533678227808,
          "user_tz": 360,
          "elapsed": 3734,
          "user": {
            "displayName": "Jeremy Yang",
            "photoUrl": "//lh4.googleusercontent.com/-oulNnl1aBlA/AAAAAAAAAAI/AAAAAAAAAm4/uOczRUUkS4g/s50-c-k-no/photo.jpg",
            "userId": "102807397641040966212"
          }
        }
      },
      "cell_type": "code",
      "source": [
        "rnaseq = pandas.merge(genes, rnaseq, on='ENSG', how='inner')\n",
        "rnaseq.head()"
      ],
      "execution_count": 26,
      "outputs": [
        {
          "output_type": "execute_result",
          "data": {
            "text/html": [
              "<div>\n",
              "<style scoped>\n",
              "    .dataframe tbody tr th:only-of-type {\n",
              "        vertical-align: middle;\n",
              "    }\n",
              "\n",
              "    .dataframe tbody tr th {\n",
              "        vertical-align: top;\n",
              "    }\n",
              "\n",
              "    .dataframe thead th {\n",
              "        text-align: right;\n",
              "    }\n",
              "</style>\n",
              "<table border=\"1\" class=\"dataframe\">\n",
              "  <thead>\n",
              "    <tr style=\"text-align: right;\">\n",
              "      <th></th>\n",
              "      <th>ENSG</th>\n",
              "      <th>NCBI</th>\n",
              "      <th>HGNC</th>\n",
              "      <th>SAMPID</th>\n",
              "      <th>TPM</th>\n",
              "    </tr>\n",
              "  </thead>\n",
              "  <tbody>\n",
              "    <tr>\n",
              "      <th>0</th>\n",
              "      <td>ENSG00000136999.4</td>\n",
              "      <td>4856</td>\n",
              "      <td>NOV</td>\n",
              "      <td>GTEX-1117F-0226-SM-5GZZ7</td>\n",
              "      <td>42.580</td>\n",
              "    </tr>\n",
              "    <tr>\n",
              "      <th>1</th>\n",
              "      <td>ENSG00000136999.4</td>\n",
              "      <td>4856</td>\n",
              "      <td>NOV</td>\n",
              "      <td>GTEX-111CU-1826-SM-5GZYN</td>\n",
              "      <td>5.191</td>\n",
              "    </tr>\n",
              "    <tr>\n",
              "      <th>2</th>\n",
              "      <td>ENSG00000136999.4</td>\n",
              "      <td>4856</td>\n",
              "      <td>NOV</td>\n",
              "      <td>GTEX-111FC-0226-SM-5N9B8</td>\n",
              "      <td>54.550</td>\n",
              "    </tr>\n",
              "    <tr>\n",
              "      <th>3</th>\n",
              "      <td>ENSG00000136999.4</td>\n",
              "      <td>4856</td>\n",
              "      <td>NOV</td>\n",
              "      <td>GTEX-111VG-2326-SM-5N9BK</td>\n",
              "      <td>9.328</td>\n",
              "    </tr>\n",
              "    <tr>\n",
              "      <th>4</th>\n",
              "      <td>ENSG00000136999.4</td>\n",
              "      <td>4856</td>\n",
              "      <td>NOV</td>\n",
              "      <td>GTEX-111YS-2426-SM-5GZZQ</td>\n",
              "      <td>6.857</td>\n",
              "    </tr>\n",
              "  </tbody>\n",
              "</table>\n",
              "</div>"
            ],
            "text/plain": [
              "                ENSG  NCBI HGNC                    SAMPID     TPM\n",
              "0  ENSG00000136999.4  4856  NOV  GTEX-1117F-0226-SM-5GZZ7  42.580\n",
              "1  ENSG00000136999.4  4856  NOV  GTEX-111CU-1826-SM-5GZYN   5.191\n",
              "2  ENSG00000136999.4  4856  NOV  GTEX-111FC-0226-SM-5N9B8  54.550\n",
              "3  ENSG00000136999.4  4856  NOV  GTEX-111VG-2326-SM-5N9BK   9.328\n",
              "4  ENSG00000136999.4  4856  NOV  GTEX-111YS-2426-SM-5GZZQ   6.857"
            ]
          },
          "metadata": {
            "tags": []
          },
          "execution_count": 26
        }
      ]
    },
    {
      "metadata": {
        "id": "jma3YSsCzxr7",
        "colab_type": "text"
      },
      "cell_type": "markdown",
      "source": [
        "### Remove genes in pseudoautosomal regions (PAR) of chromosome Y (\"ENSGR\")."
      ]
    },
    {
      "metadata": {
        "id": "iuJLi_nVzuFM",
        "colab_type": "code",
        "colab": {
          "autoexec": {
            "startup": false,
            "wait_interval": 0
          },
          "base_uri": "https://localhost:8080/",
          "height": 34
        },
        "outputId": "8b6721b2-710c-48da-d29e-c790b0562800",
        "executionInfo": {
          "status": "ok",
          "timestamp": 1533678257372,
          "user_tz": 360,
          "elapsed": 1143,
          "user": {
            "displayName": "Jeremy Yang",
            "photoUrl": "//lh4.googleusercontent.com/-oulNnl1aBlA/AAAAAAAAAAI/AAAAAAAAAm4/uOczRUUkS4g/s50-c-k-no/photo.jpg",
            "userId": "102807397641040966212"
          }
        }
      },
      "cell_type": "code",
      "source": [
        "n_ensgr = rnaseq.ENSG.str.startswith('ENSGR').sum()\n",
        "print('ENSGR gene TPMs: %d (%.2f%%)'%(n_ensgr,100*n_ensgr/rnaseq.shape[0]))"
      ],
      "execution_count": 27,
      "outputs": [
        {
          "output_type": "stream",
          "text": [
            "ENSGR gene TPMs: 0 (0.00%)\n"
          ],
          "name": "stdout"
        }
      ]
    },
    {
      "metadata": {
        "id": "bSTgB436XZLq",
        "colab_type": "code",
        "colab": {
          "autoexec": {
            "startup": false,
            "wait_interval": 0
          }
        }
      },
      "cell_type": "code",
      "source": [
        "rnaseq = rnaseq[~rnaseq.ENSG.str.startswith('ENSGR')]"
      ],
      "execution_count": 0,
      "outputs": []
    },
    {
      "metadata": {
        "id": "DF1bdb1ct3vi",
        "colab_type": "text"
      },
      "cell_type": "markdown",
      "source": [
        "### Merge with samples:"
      ]
    },
    {
      "metadata": {
        "id": "KPzImSwat7Mi",
        "colab_type": "code",
        "colab": {
          "autoexec": {
            "startup": false,
            "wait_interval": 0
          }
        }
      },
      "cell_type": "code",
      "source": [
        "rnaseq = pandas.merge(rnaseq, samples, how=\"inner\", left_on=\"SAMPID\", right_index=True)"
      ],
      "execution_count": 0,
      "outputs": []
    },
    {
      "metadata": {
        "id": "qaWd-f4nVBgo",
        "colab_type": "code",
        "colab": {
          "autoexec": {
            "startup": false,
            "wait_interval": 0
          },
          "base_uri": "https://localhost:8080/",
          "height": 204
        },
        "outputId": "e8797073-2a8f-489f-a290-27c30b31345e",
        "executionInfo": {
          "status": "ok",
          "timestamp": 1533678277382,
          "user_tz": 360,
          "elapsed": 776,
          "user": {
            "displayName": "Jeremy Yang",
            "photoUrl": "//lh4.googleusercontent.com/-oulNnl1aBlA/AAAAAAAAAAI/AAAAAAAAAm4/uOczRUUkS4g/s50-c-k-no/photo.jpg",
            "userId": "102807397641040966212"
          }
        }
      },
      "cell_type": "code",
      "source": [
        "rnaseq.head()"
      ],
      "execution_count": 30,
      "outputs": [
        {
          "output_type": "execute_result",
          "data": {
            "text/html": [
              "<div>\n",
              "<style scoped>\n",
              "    .dataframe tbody tr th:only-of-type {\n",
              "        vertical-align: middle;\n",
              "    }\n",
              "\n",
              "    .dataframe tbody tr th {\n",
              "        vertical-align: top;\n",
              "    }\n",
              "\n",
              "    .dataframe thead th {\n",
              "        text-align: right;\n",
              "    }\n",
              "</style>\n",
              "<table border=\"1\" class=\"dataframe\">\n",
              "  <thead>\n",
              "    <tr style=\"text-align: right;\">\n",
              "      <th></th>\n",
              "      <th>ENSG</th>\n",
              "      <th>NCBI</th>\n",
              "      <th>HGNC</th>\n",
              "      <th>SAMPID</th>\n",
              "      <th>TPM</th>\n",
              "      <th>SMATSSCR</th>\n",
              "      <th>SMTS</th>\n",
              "      <th>SMTSD</th>\n",
              "      <th>SUBJID</th>\n",
              "      <th>SEX</th>\n",
              "      <th>AGE</th>\n",
              "      <th>DTHHRDY</th>\n",
              "    </tr>\n",
              "  </thead>\n",
              "  <tbody>\n",
              "    <tr>\n",
              "      <th>1</th>\n",
              "      <td>ENSG00000136999.4</td>\n",
              "      <td>4856</td>\n",
              "      <td>NOV</td>\n",
              "      <td>GTEX-111CU-1826-SM-5GZYN</td>\n",
              "      <td>5.191</td>\n",
              "      <td>0.0</td>\n",
              "      <td>Adipose Tissue</td>\n",
              "      <td>Adipose - Subcutaneous</td>\n",
              "      <td>GTEX-111CU</td>\n",
              "      <td>male</td>\n",
              "      <td>50-59</td>\n",
              "      <td>0.0</td>\n",
              "    </tr>\n",
              "    <tr>\n",
              "      <th>11689</th>\n",
              "      <td>ENSG00000231671.1</td>\n",
              "      <td>104355286</td>\n",
              "      <td>LINC01307</td>\n",
              "      <td>GTEX-111CU-1826-SM-5GZYN</td>\n",
              "      <td>0.000</td>\n",
              "      <td>0.0</td>\n",
              "      <td>Adipose Tissue</td>\n",
              "      <td>Adipose - Subcutaneous</td>\n",
              "      <td>GTEX-111CU</td>\n",
              "      <td>male</td>\n",
              "      <td>50-59</td>\n",
              "      <td>0.0</td>\n",
              "    </tr>\n",
              "    <tr>\n",
              "      <th>23377</th>\n",
              "      <td>ENSG00000102409.9</td>\n",
              "      <td>56271</td>\n",
              "      <td>BEX4</td>\n",
              "      <td>GTEX-111CU-1826-SM-5GZYN</td>\n",
              "      <td>45.800</td>\n",
              "      <td>0.0</td>\n",
              "      <td>Adipose Tissue</td>\n",
              "      <td>Adipose - Subcutaneous</td>\n",
              "      <td>GTEX-111CU</td>\n",
              "      <td>male</td>\n",
              "      <td>50-59</td>\n",
              "      <td>0.0</td>\n",
              "    </tr>\n",
              "    <tr>\n",
              "      <th>35065</th>\n",
              "      <td>ENSG00000152684.10</td>\n",
              "      <td>53918</td>\n",
              "      <td>PELO</td>\n",
              "      <td>GTEX-111CU-1826-SM-5GZYN</td>\n",
              "      <td>18.630</td>\n",
              "      <td>0.0</td>\n",
              "      <td>Adipose Tissue</td>\n",
              "      <td>Adipose - Subcutaneous</td>\n",
              "      <td>GTEX-111CU</td>\n",
              "      <td>male</td>\n",
              "      <td>50-59</td>\n",
              "      <td>0.0</td>\n",
              "    </tr>\n",
              "    <tr>\n",
              "      <th>46753</th>\n",
              "      <td>ENSG00000135643.4</td>\n",
              "      <td>27345</td>\n",
              "      <td>KCNMB4</td>\n",
              "      <td>GTEX-111CU-1826-SM-5GZYN</td>\n",
              "      <td>1.845</td>\n",
              "      <td>0.0</td>\n",
              "      <td>Adipose Tissue</td>\n",
              "      <td>Adipose - Subcutaneous</td>\n",
              "      <td>GTEX-111CU</td>\n",
              "      <td>male</td>\n",
              "      <td>50-59</td>\n",
              "      <td>0.0</td>\n",
              "    </tr>\n",
              "  </tbody>\n",
              "</table>\n",
              "</div>"
            ],
            "text/plain": [
              "                     ENSG       NCBI       HGNC                    SAMPID  \\\n",
              "1       ENSG00000136999.4       4856        NOV  GTEX-111CU-1826-SM-5GZYN   \n",
              "11689   ENSG00000231671.1  104355286  LINC01307  GTEX-111CU-1826-SM-5GZYN   \n",
              "23377   ENSG00000102409.9      56271       BEX4  GTEX-111CU-1826-SM-5GZYN   \n",
              "35065  ENSG00000152684.10      53918       PELO  GTEX-111CU-1826-SM-5GZYN   \n",
              "46753   ENSG00000135643.4      27345     KCNMB4  GTEX-111CU-1826-SM-5GZYN   \n",
              "\n",
              "          TPM  SMATSSCR            SMTS                   SMTSD      SUBJID  \\\n",
              "1       5.191       0.0  Adipose Tissue  Adipose - Subcutaneous  GTEX-111CU   \n",
              "11689   0.000       0.0  Adipose Tissue  Adipose - Subcutaneous  GTEX-111CU   \n",
              "23377  45.800       0.0  Adipose Tissue  Adipose - Subcutaneous  GTEX-111CU   \n",
              "35065  18.630       0.0  Adipose Tissue  Adipose - Subcutaneous  GTEX-111CU   \n",
              "46753   1.845       0.0  Adipose Tissue  Adipose - Subcutaneous  GTEX-111CU   \n",
              "\n",
              "        SEX    AGE  DTHHRDY  \n",
              "1      male  50-59      0.0  \n",
              "11689  male  50-59      0.0  \n",
              "23377  male  50-59      0.0  \n",
              "35065  male  50-59      0.0  \n",
              "46753  male  50-59      0.0  "
            ]
          },
          "metadata": {
            "tags": []
          },
          "execution_count": 30
        }
      ]
    },
    {
      "metadata": {
        "id": "GNWwsSrNOAzX",
        "colab_type": "text"
      },
      "cell_type": "markdown",
      "source": [
        "### Remove data for gene-tissue pairs with all zero expression."
      ]
    },
    {
      "metadata": {
        "id": "3kAiTBrD0jfz",
        "colab_type": "code",
        "colab": {
          "autoexec": {
            "startup": false,
            "wait_interval": 0
          },
          "base_uri": "https://localhost:8080/",
          "height": 68
        },
        "outputId": "cdd31c18-2389-4ab4-d2c8-8b1a673b9ce3",
        "executionInfo": {
          "status": "ok",
          "timestamp": 1533678314406,
          "user_tz": 360,
          "elapsed": 1457,
          "user": {
            "displayName": "Jeremy Yang",
            "photoUrl": "//lh4.googleusercontent.com/-oulNnl1aBlA/AAAAAAAAAAI/AAAAAAAAAm4/uOczRUUkS4g/s50-c-k-no/photo.jpg",
            "userId": "102807397641040966212"
          }
        }
      },
      "cell_type": "code",
      "source": [
        "max_tpm_0 = (rnaseq[['ENSG', 'SMTSD', 'TPM']].groupby(by=['ENSG','SMTSD'], as_index=True).max() == 0).rename(columns={'TPM':'max_tpm_0'})\n",
        "print(max_tpm_0.max_tpm_0.value_counts())\n",
        "rnaseq = pandas.merge(rnaseq, max_tpm_0, left_on=['ENSG', 'SMTSD'], right_index=True)\n",
        "rnaseq = rnaseq[~rnaseq['max_tpm_0']]\n",
        "rnaseq.drop(columns=['max_tpm_0'], inplace=True)"
      ],
      "execution_count": 31,
      "outputs": [
        {
          "output_type": "stream",
          "text": [
            "False    3199\n",
            "True      467\n",
            "Name: max_tpm_0, dtype: int64\n"
          ],
          "name": "stdout"
        }
      ]
    },
    {
      "metadata": {
        "id": "Fo25DP6F5nSS",
        "colab_type": "text"
      },
      "cell_type": "markdown",
      "source": [
        "### Remove data for gene-tissue pairs not present in both sexes."
      ]
    },
    {
      "metadata": {
        "id": "lP7meXxz4lAY",
        "colab_type": "code",
        "colab": {
          "autoexec": {
            "startup": false,
            "wait_interval": 0
          },
          "base_uri": "https://localhost:8080/",
          "height": 68
        },
        "outputId": "1b5c1075-7b73-46cd-b821-dd8b84bc6f20",
        "executionInfo": {
          "status": "ok",
          "timestamp": 1533678331293,
          "user_tz": 360,
          "elapsed": 2579,
          "user": {
            "displayName": "Jeremy Yang",
            "photoUrl": "//lh4.googleusercontent.com/-oulNnl1aBlA/AAAAAAAAAAI/AAAAAAAAAm4/uOczRUUkS4g/s50-c-k-no/photo.jpg",
            "userId": "102807397641040966212"
          }
        }
      },
      "cell_type": "code",
      "source": [
        "sex_count = (rnaseq[['ENSG', 'SMTSD', 'SEX']].groupby(by=['ENSG','SMTSD'], as_index=True).nunique()).rename(columns={'SEX':'sex_count'})\n",
        "print(sex_count.sex_count.value_counts())\n",
        "rnaseq = pandas.merge(rnaseq, sex_count, left_on=['ENSG', 'SMTSD'], right_index=True)\n",
        "rnaseq = rnaseq[rnaseq['sex_count'] == 2]\n",
        "rnaseq.drop(columns=['sex_count'], inplace=True)"
      ],
      "execution_count": 32,
      "outputs": [
        {
          "output_type": "stream",
          "text": [
            "2    2585\n",
            "1     614\n",
            "Name: sex_count, dtype: int64\n"
          ],
          "name": "stdout"
        }
      ]
    },
    {
      "metadata": {
        "id": "7IBesjzyrRDL",
        "colab_type": "text"
      },
      "cell_type": "markdown",
      "source": [
        "### Compute median TPM by gene+tissue:"
      ]
    },
    {
      "metadata": {
        "id": "RIifJ881rdNc",
        "colab_type": "code",
        "colab": {
          "autoexec": {
            "startup": false,
            "wait_interval": 0
          },
          "base_uri": "https://localhost:8080/",
          "height": 221
        },
        "outputId": "b46bd9b3-fb34-473e-a08b-7cb8ea310f8e",
        "executionInfo": {
          "status": "ok",
          "timestamp": 1533678344987,
          "user_tz": 360,
          "elapsed": 771,
          "user": {
            "displayName": "Jeremy Yang",
            "photoUrl": "//lh4.googleusercontent.com/-oulNnl1aBlA/AAAAAAAAAAI/AAAAAAAAAm4/uOczRUUkS4g/s50-c-k-no/photo.jpg",
            "userId": "102807397641040966212"
          }
        }
      },
      "cell_type": "code",
      "source": [
        "rnaseq_med = rnaseq[['ENSG', 'SMTSD', 'TPM']].groupby(by=['ENSG','SMTSD'], as_index=False).median()\n",
        "print(\"Unique counts: genes: %d ; tissues: %d ; gene-tissue pairs: %d\"%(rnaseq_med.ENSG.nunique(), rnaseq_med.SMTSD.nunique(), rnaseq_med.shape[0]))\n",
        "rnaseq_med.head()"
      ],
      "execution_count": 33,
      "outputs": [
        {
          "output_type": "stream",
          "text": [
            "Unique counts: genes: 92 ; tissues: 31 ; gene-tissue pairs: 2585\n"
          ],
          "name": "stdout"
        },
        {
          "output_type": "execute_result",
          "data": {
            "text/html": [
              "<div>\n",
              "<style scoped>\n",
              "    .dataframe tbody tr th:only-of-type {\n",
              "        vertical-align: middle;\n",
              "    }\n",
              "\n",
              "    .dataframe tbody tr th {\n",
              "        vertical-align: top;\n",
              "    }\n",
              "\n",
              "    .dataframe thead th {\n",
              "        text-align: right;\n",
              "    }\n",
              "</style>\n",
              "<table border=\"1\" class=\"dataframe\">\n",
              "  <thead>\n",
              "    <tr style=\"text-align: right;\">\n",
              "      <th></th>\n",
              "      <th>ENSG</th>\n",
              "      <th>SMTSD</th>\n",
              "      <th>TPM</th>\n",
              "    </tr>\n",
              "  </thead>\n",
              "  <tbody>\n",
              "    <tr>\n",
              "      <th>0</th>\n",
              "      <td>ENSG00000080608.9</td>\n",
              "      <td>Adipose - Subcutaneous</td>\n",
              "      <td>24.850</td>\n",
              "    </tr>\n",
              "    <tr>\n",
              "      <th>1</th>\n",
              "      <td>ENSG00000080608.9</td>\n",
              "      <td>Adipose - Visceral (Omentum)</td>\n",
              "      <td>29.175</td>\n",
              "    </tr>\n",
              "    <tr>\n",
              "      <th>2</th>\n",
              "      <td>ENSG00000080608.9</td>\n",
              "      <td>Adrenal Gland</td>\n",
              "      <td>19.520</td>\n",
              "    </tr>\n",
              "    <tr>\n",
              "      <th>3</th>\n",
              "      <td>ENSG00000080608.9</td>\n",
              "      <td>Artery - Aorta</td>\n",
              "      <td>23.815</td>\n",
              "    </tr>\n",
              "    <tr>\n",
              "      <th>4</th>\n",
              "      <td>ENSG00000080608.9</td>\n",
              "      <td>Artery - Coronary</td>\n",
              "      <td>22.855</td>\n",
              "    </tr>\n",
              "  </tbody>\n",
              "</table>\n",
              "</div>"
            ],
            "text/plain": [
              "                ENSG                         SMTSD     TPM\n",
              "0  ENSG00000080608.9        Adipose - Subcutaneous  24.850\n",
              "1  ENSG00000080608.9  Adipose - Visceral (Omentum)  29.175\n",
              "2  ENSG00000080608.9                 Adrenal Gland  19.520\n",
              "3  ENSG00000080608.9                Artery - Aorta  23.815\n",
              "4  ENSG00000080608.9             Artery - Coronary  22.855"
            ]
          },
          "metadata": {
            "tags": []
          },
          "execution_count": 33
        }
      ]
    },
    {
      "metadata": {
        "id": "__GC_6NC1C55",
        "colab_type": "code",
        "colab": {
          "autoexec": {
            "startup": false,
            "wait_interval": 0
          }
        }
      },
      "cell_type": "code",
      "source": [
        "rnaseq_med.to_csv('rnaseq_med.tsv', sep='\\t')\n",
        "google.colab.files.download('rnaseq_med.tsv')"
      ],
      "execution_count": 0,
      "outputs": []
    },
    {
      "metadata": {
        "id": "5lWkVXQW4Mkk",
        "colab_type": "code",
        "colab": {
          "autoexec": {
            "startup": false,
            "wait_interval": 0
          },
          "base_uri": "https://localhost:8080/",
          "height": 170
        },
        "outputId": "005497c7-5f7d-46e9-e2e5-a07ff8f15ebb",
        "executionInfo": {
          "status": "ok",
          "timestamp": 1533678368207,
          "user_tz": 360,
          "elapsed": 764,
          "user": {
            "displayName": "Jeremy Yang",
            "photoUrl": "//lh4.googleusercontent.com/-oulNnl1aBlA/AAAAAAAAAAI/AAAAAAAAAm4/uOczRUUkS4g/s50-c-k-no/photo.jpg",
            "userId": "102807397641040966212"
          }
        }
      },
      "cell_type": "code",
      "source": [
        "rnaseq_med.TPM.describe()"
      ],
      "execution_count": 34,
      "outputs": [
        {
          "output_type": "execute_result",
          "data": {
            "text/plain": [
              "count    2585.000000\n",
              "mean       13.636915\n",
              "std        84.232961\n",
              "min         0.000000\n",
              "25%         0.000000\n",
              "50%         0.041550\n",
              "75%         2.773000\n",
              "max      2085.000000\n",
              "Name: TPM, dtype: float64"
            ]
          },
          "metadata": {
            "tags": []
          },
          "execution_count": 34
        }
      ]
    },
    {
      "metadata": {
        "id": "OIwpu3JXvv9D",
        "colab_type": "text"
      },
      "cell_type": "markdown",
      "source": [
        "### LOG10(TPM+1) useful transformation."
      ]
    },
    {
      "metadata": {
        "id": "Xiy-KUA6p811",
        "colab_type": "code",
        "colab": {
          "autoexec": {
            "startup": false,
            "wait_interval": 0
          }
        }
      },
      "cell_type": "code",
      "source": [
        "rnaseq_med['LOG_TPM'] = rnaseq_med.TPM.apply(lambda x: numpy.log10(x+1))"
      ],
      "execution_count": 0,
      "outputs": []
    },
    {
      "metadata": {
        "id": "4FNc-Y-k68GD",
        "colab_type": "code",
        "colab": {
          "autoexec": {
            "startup": false,
            "wait_interval": 0
          },
          "base_uri": "https://localhost:8080/",
          "height": 364
        },
        "outputId": "c7cfc5c5-5593-4d84-d12f-729c55b6df5c",
        "executionInfo": {
          "status": "ok",
          "timestamp": 1533678400803,
          "user_tz": 360,
          "elapsed": 1017,
          "user": {
            "displayName": "Jeremy Yang",
            "photoUrl": "//lh4.googleusercontent.com/-oulNnl1aBlA/AAAAAAAAAAI/AAAAAAAAAm4/uOczRUUkS4g/s50-c-k-no/photo.jpg",
            "userId": "102807397641040966212"
          }
        }
      },
      "cell_type": "code",
      "source": [
        "rnaseq_med.LOG_TPM.plot(kind='box')"
      ],
      "execution_count": 36,
      "outputs": [
        {
          "output_type": "execute_result",
          "data": {
            "text/plain": [
              "<matplotlib.axes._subplots.AxesSubplot at 0x7f6ea5e76e48>"
            ]
          },
          "metadata": {
            "tags": []
          },
          "execution_count": 36
        },
        {
          "output_type": "display_data",
          "data": {
            "image/png": "[encoded data removed]",
            "text/plain": [
              "<matplotlib.figure.Figure at 0x7f6ea5900438>"
            ]
          },
          "metadata": {
            "tags": []
          }
        }
      ]
    },
    {
      "metadata": {
        "id": "fsVkfXPhw4Gy",
        "colab_type": "text"
      },
      "cell_type": "markdown",
      "source": [
        "### Compute tissue specificity index (Yanai et al., 2004).\n",
        "\n",
        "> ## $ \\tau = \\frac{\\sum_{i=0}^N (1 - x_i)}{N - 1} $\n",
        "\n",
        "> * N = number of tissues\n",
        "> * x = expression profile component normalized by the maximal component value\n",
        "\n",
        "Validate with example vector from paper.  Should be 0.95.\n",
        "\n"
      ]
    },
    {
      "metadata": {
        "id": "bHpiwd8qxBxS",
        "colab_type": "code",
        "colab": {
          "autoexec": {
            "startup": false,
            "wait_interval": 0
          },
          "base_uri": "https://localhost:8080/",
          "height": 34
        },
        "outputId": "3fcba20a-70e4-465b-973b-32ea9a20071f",
        "executionInfo": {
          "status": "ok",
          "timestamp": 1533678468882,
          "user_tz": 360,
          "elapsed": 753,
          "user": {
            "displayName": "Jeremy Yang",
            "photoUrl": "//lh4.googleusercontent.com/-oulNnl1aBlA/AAAAAAAAAAI/AAAAAAAAAm4/uOczRUUkS4g/s50-c-k-no/photo.jpg",
            "userId": "102807397641040966212"
          }
        }
      },
      "cell_type": "code",
      "source": [
        "def TAU(X):\n",
        "  N = len(X)\n",
        "  xmax = max(X)\n",
        "  if xmax==0: return(0.0)\n",
        "  tau = 0.0\n",
        "  for x in X:\n",
        "    tau += (1 - x/xmax)\n",
        "  tau /= (N - 1)\n",
        "  return(tau)\n",
        "print('%.2f'%TAU([0,8,0,0,0,2,0,2,0,0,0,0]))"
      ],
      "execution_count": 38,
      "outputs": [
        {
          "output_type": "stream",
          "text": [
            "0.95\n"
          ],
          "name": "stdout"
        }
      ]
    },
    {
      "metadata": {
        "id": "XQN09AmIz4M1",
        "colab_type": "code",
        "colab": {
          "autoexec": {
            "startup": false,
            "wait_interval": 0
          },
          "base_uri": "https://localhost:8080/",
          "height": 235
        },
        "outputId": "d1cdfc69-c387-4aeb-b096-af22ce520762",
        "executionInfo": {
          "status": "ok",
          "timestamp": 1533678474617,
          "user_tz": 360,
          "elapsed": 751,
          "user": {
            "displayName": "Jeremy Yang",
            "photoUrl": "//lh4.googleusercontent.com/-oulNnl1aBlA/AAAAAAAAAAI/AAAAAAAAAm4/uOczRUUkS4g/s50-c-k-no/photo.jpg",
            "userId": "102807397641040966212"
          }
        }
      },
      "cell_type": "code",
      "source": [
        "rnaseq_tau = rnaseq_med.groupby(['ENSG']).TPM.agg(TAU)\n",
        "rnaseq_tau = pandas.DataFrame(rnaseq_tau).rename(columns={'TPM':'TAU'})\n",
        "rnaseq_tau.head()"
      ],
      "execution_count": 39,
      "outputs": [
        {
          "output_type": "execute_result",
          "data": {
            "text/html": [
              "<div>\n",
              "<style scoped>\n",
              "    .dataframe tbody tr th:only-of-type {\n",
              "        vertical-align: middle;\n",
              "    }\n",
              "\n",
              "    .dataframe tbody tr th {\n",
              "        vertical-align: top;\n",
              "    }\n",
              "\n",
              "    .dataframe thead th {\n",
              "        text-align: right;\n",
              "    }\n",
              "</style>\n",
              "<table border=\"1\" class=\"dataframe\">\n",
              "  <thead>\n",
              "    <tr style=\"text-align: right;\">\n",
              "      <th></th>\n",
              "      <th>TAU</th>\n",
              "    </tr>\n",
              "    <tr>\n",
              "      <th>ENSG</th>\n",
              "      <th></th>\n",
              "    </tr>\n",
              "  </thead>\n",
              "  <tbody>\n",
              "    <tr>\n",
              "      <th>ENSG00000080608.9</th>\n",
              "      <td>0.453976</td>\n",
              "    </tr>\n",
              "    <tr>\n",
              "      <th>ENSG00000100078.3</th>\n",
              "      <td>0.940948</td>\n",
              "    </tr>\n",
              "    <tr>\n",
              "      <th>ENSG00000102409.9</th>\n",
              "      <td>0.730329</td>\n",
              "    </tr>\n",
              "    <tr>\n",
              "      <th>ENSG00000106004.4</th>\n",
              "      <td>0.753882</td>\n",
              "    </tr>\n",
              "    <tr>\n",
              "      <th>ENSG00000106436.4</th>\n",
              "      <td>0.967737</td>\n",
              "    </tr>\n",
              "  </tbody>\n",
              "</table>\n",
              "</div>"
            ],
            "text/plain": [
              "                        TAU\n",
              "ENSG                       \n",
              "ENSG00000080608.9  0.453976\n",
              "ENSG00000100078.3  0.940948\n",
              "ENSG00000102409.9  0.730329\n",
              "ENSG00000106004.4  0.753882\n",
              "ENSG00000106436.4  0.967737"
            ]
          },
          "metadata": {
            "tags": []
          },
          "execution_count": 39
        }
      ]
    },
    {
      "metadata": {
        "id": "O-CdHZaY-Y0L",
        "colab_type": "code",
        "colab": {
          "autoexec": {
            "startup": false,
            "wait_interval": 0
          },
          "base_uri": "https://localhost:8080/",
          "height": 364
        },
        "outputId": "67b15527-c690-46a3-e6ae-8951b7cd67ec",
        "executionInfo": {
          "status": "ok",
          "timestamp": 1533678510033,
          "user_tz": 360,
          "elapsed": 1084,
          "user": {
            "displayName": "Jeremy Yang",
            "photoUrl": "//lh4.googleusercontent.com/-oulNnl1aBlA/AAAAAAAAAAI/AAAAAAAAAm4/uOczRUUkS4g/s50-c-k-no/photo.jpg",
            "userId": "102807397641040966212"
          }
        }
      },
      "cell_type": "code",
      "source": [
        "rnaseq_tau.plot(kind='hist')"
      ],
      "execution_count": 40,
      "outputs": [
        {
          "output_type": "execute_result",
          "data": {
            "text/plain": [
              "<matplotlib.axes._subplots.AxesSubplot at 0x7f6ea59aa470>"
            ]
          },
          "metadata": {
            "tags": []
          },
          "execution_count": 40
        },
        {
          "output_type": "display_data",
          "data": {
            "image/png": "[encoded data removed]",
            "text/plain": [
              "<matplotlib.figure.Figure at 0x7f6ea59a57b8>"
            ]
          },
          "metadata": {
            "tags": []
          }
        }
      ]
    },
    {
      "metadata": {
        "id": "UZhpN48Q2Qrg",
        "colab_type": "text"
      },
      "cell_type": "markdown",
      "source": [
        "### Assign gene-tissue rank (quantile of median) among tissues.\n",
        "Low-Med-High cutoff quantiles: .25 and .75.  These ranks measure, for a given gene, relative tissue expression from the gene-tissue TPMs."
      ]
    },
    {
      "metadata": {
        "id": "FT2DcDCK2zaM",
        "colab_type": "code",
        "colab": {
          "autoexec": {
            "startup": false,
            "wait_interval": 0
          }
        }
      },
      "cell_type": "code",
      "source": [
        "def GTRanks(rnaseq, tpm_col):\n",
        "  tpm_rank = pandas.Series(dtype=\"float\", index=range(rnaseq.shape[0]))\n",
        "  for i in rnaseq.index:\n",
        "    ensg = rnaseq.ENSG[i]\n",
        "    val_this = rnaseq[tpm_col][i]\n",
        "    vals_ensg = rnaseq[tpm_col][rnaseq.ENSG==ensg]\n",
        "    vals_ensg = vals_ensg.sort_values().reset_index(drop=True)\n",
        "    j = vals_ensg[vals_ensg == val_this].index[0]\n",
        "    tpm_rank.iloc[i] = j/vals_ensg.size \n",
        "\n",
        "  rnaseq[tpm_col+'_RANK'] = tpm_rank\n",
        "  return(rnaseq)"
      ],
      "execution_count": 0,
      "outputs": []
    },
    {
      "metadata": {
        "id": "rtkZFKiuNIgA",
        "colab_type": "code",
        "colab": {
          "autoexec": {
            "startup": false,
            "wait_interval": 0
          },
          "base_uri": "https://localhost:8080/",
          "height": 170
        },
        "outputId": "7cd26506-bf82-4cdc-c57a-4914cb59382c",
        "executionInfo": {
          "status": "ok",
          "timestamp": 1533678533157,
          "user_tz": 360,
          "elapsed": 763,
          "user": {
            "displayName": "Jeremy Yang",
            "photoUrl": "//lh4.googleusercontent.com/-oulNnl1aBlA/AAAAAAAAAAI/AAAAAAAAAm4/uOczRUUkS4g/s50-c-k-no/photo.jpg",
            "userId": "102807397641040966212"
          }
        }
      },
      "cell_type": "code",
      "source": [
        "rnaseq_med.info()"
      ],
      "execution_count": 42,
      "outputs": [
        {
          "output_type": "stream",
          "text": [
            "<class 'pandas.core.frame.DataFrame'>\n",
            "Int64Index: 2585 entries, 0 to 2584\n",
            "Data columns (total 4 columns):\n",
            "ENSG       2585 non-null object\n",
            "SMTSD      2585 non-null object\n",
            "TPM        2585 non-null float64\n",
            "LOG_TPM    2585 non-null float64\n",
            "dtypes: float64(2), object(2)\n",
            "memory usage: 101.0+ KB\n"
          ],
          "name": "stdout"
        }
      ]
    },
    {
      "metadata": {
        "id": "7EtulAR4z2Di",
        "colab_type": "code",
        "colab": {
          "autoexec": {
            "startup": false,
            "wait_interval": 0
          },
          "base_uri": "https://localhost:8080/",
          "height": 221
        },
        "outputId": "2d2dcd04-6ede-4c12-feed-a70ba6db71b2",
        "executionInfo": {
          "status": "ok",
          "timestamp": 1533678545743,
          "user_tz": 360,
          "elapsed": 4509,
          "user": {
            "displayName": "Jeremy Yang",
            "photoUrl": "//lh4.googleusercontent.com/-oulNnl1aBlA/AAAAAAAAAAI/AAAAAAAAAm4/uOczRUUkS4g/s50-c-k-no/photo.jpg",
            "userId": "102807397641040966212"
          }
        }
      },
      "cell_type": "code",
      "source": [
        "t0 = time.time()\n",
        "rnaseq_level = GTRanks(rnaseq_med.copy(), 'TPM')\n",
        "print(\"Elapsed: %ds\"%(time.time()-t0))\n",
        "rnaseq_level.head()"
      ],
      "execution_count": 43,
      "outputs": [
        {
          "output_type": "stream",
          "text": [
            "Elapsed: 3s\n"
          ],
          "name": "stdout"
        },
        {
          "output_type": "execute_result",
          "data": {
            "text/html": [
              "<div>\n",
              "<style scoped>\n",
              "    .dataframe tbody tr th:only-of-type {\n",
              "        vertical-align: middle;\n",
              "    }\n",
              "\n",
              "    .dataframe tbody tr th {\n",
              "        vertical-align: top;\n",
              "    }\n",
              "\n",
              "    .dataframe thead th {\n",
              "        text-align: right;\n",
              "    }\n",
              "</style>\n",
              "<table border=\"1\" class=\"dataframe\">\n",
              "  <thead>\n",
              "    <tr style=\"text-align: right;\">\n",
              "      <th></th>\n",
              "      <th>ENSG</th>\n",
              "      <th>SMTSD</th>\n",
              "      <th>TPM</th>\n",
              "      <th>LOG_TPM</th>\n",
              "      <th>TPM_RANK</th>\n",
              "    </tr>\n",
              "  </thead>\n",
              "  <tbody>\n",
              "    <tr>\n",
              "      <th>0</th>\n",
              "      <td>ENSG00000080608.9</td>\n",
              "      <td>Adipose - Subcutaneous</td>\n",
              "      <td>24.850</td>\n",
              "      <td>1.412461</td>\n",
              "      <td>0.709677</td>\n",
              "    </tr>\n",
              "    <tr>\n",
              "      <th>1</th>\n",
              "      <td>ENSG00000080608.9</td>\n",
              "      <td>Adipose - Visceral (Omentum)</td>\n",
              "      <td>29.175</td>\n",
              "      <td>1.479647</td>\n",
              "      <td>0.903226</td>\n",
              "    </tr>\n",
              "    <tr>\n",
              "      <th>2</th>\n",
              "      <td>ENSG00000080608.9</td>\n",
              "      <td>Adrenal Gland</td>\n",
              "      <td>19.520</td>\n",
              "      <td>1.312177</td>\n",
              "      <td>0.451613</td>\n",
              "    </tr>\n",
              "    <tr>\n",
              "      <th>3</th>\n",
              "      <td>ENSG00000080608.9</td>\n",
              "      <td>Artery - Aorta</td>\n",
              "      <td>23.815</td>\n",
              "      <td>1.394714</td>\n",
              "      <td>0.645161</td>\n",
              "    </tr>\n",
              "    <tr>\n",
              "      <th>4</th>\n",
              "      <td>ENSG00000080608.9</td>\n",
              "      <td>Artery - Coronary</td>\n",
              "      <td>22.855</td>\n",
              "      <td>1.377579</td>\n",
              "      <td>0.548387</td>\n",
              "    </tr>\n",
              "  </tbody>\n",
              "</table>\n",
              "</div>"
            ],
            "text/plain": [
              "                ENSG                         SMTSD     TPM   LOG_TPM  TPM_RANK\n",
              "0  ENSG00000080608.9        Adipose - Subcutaneous  24.850  1.412461  0.709677\n",
              "1  ENSG00000080608.9  Adipose - Visceral (Omentum)  29.175  1.479647  0.903226\n",
              "2  ENSG00000080608.9                 Adrenal Gland  19.520  1.312177  0.451613\n",
              "3  ENSG00000080608.9                Artery - Aorta  23.815  1.394714  0.645161\n",
              "4  ENSG00000080608.9             Artery - Coronary  22.855  1.377579  0.548387"
            ]
          },
          "metadata": {
            "tags": []
          },
          "execution_count": 43
        }
      ]
    },
    {
      "metadata": {
        "id": "mBdoL0jWcc7p",
        "colab_type": "code",
        "colab": {
          "autoexec": {
            "startup": false,
            "wait_interval": 0
          },
          "base_uri": "https://localhost:8080/",
          "height": 364
        },
        "outputId": "9190f2e2-2bd1-4aac-f074-bc159a8814f8",
        "executionInfo": {
          "status": "ok",
          "timestamp": 1533678559995,
          "user_tz": 360,
          "elapsed": 1013,
          "user": {
            "displayName": "Jeremy Yang",
            "photoUrl": "//lh4.googleusercontent.com/-oulNnl1aBlA/AAAAAAAAAAI/AAAAAAAAAm4/uOczRUUkS4g/s50-c-k-no/photo.jpg",
            "userId": "102807397641040966212"
          }
        }
      },
      "cell_type": "code",
      "source": [
        "rnaseq_level.TPM_RANK.plot(kind='hist')"
      ],
      "execution_count": 44,
      "outputs": [
        {
          "output_type": "execute_result",
          "data": {
            "text/plain": [
              "<matplotlib.axes._subplots.AxesSubplot at 0x7f6ea5a31b00>"
            ]
          },
          "metadata": {
            "tags": []
          },
          "execution_count": 44
        },
        {
          "output_type": "display_data",
          "data": {
            "image/png": "[encoded data removed]",
            "text/plain": [
              "<matplotlib.figure.Figure at 0x7f6ea5a1a198>"
            ]
          },
          "metadata": {
            "tags": []
          }
        }
      ]
    },
    {
      "metadata": {
        "id": "U0ro00ZPczBL",
        "colab_type": "code",
        "colab": {
          "autoexec": {
            "startup": false,
            "wait_interval": 0
          },
          "base_uri": "https://localhost:8080/",
          "height": 297
        },
        "outputId": "da5d76e9-ca30-4a9c-827a-ae88ac973a6c",
        "executionInfo": {
          "status": "ok",
          "timestamp": 1533678564286,
          "user_tz": 360,
          "elapsed": 799,
          "user": {
            "displayName": "Jeremy Yang",
            "photoUrl": "//lh4.googleusercontent.com/-oulNnl1aBlA/AAAAAAAAAAI/AAAAAAAAAm4/uOczRUUkS4g/s50-c-k-no/photo.jpg",
            "userId": "102807397641040966212"
          }
        }
      },
      "cell_type": "code",
      "source": [
        "rnaseq_level.describe()"
      ],
      "execution_count": 45,
      "outputs": [
        {
          "output_type": "execute_result",
          "data": {
            "text/html": [
              "<div>\n",
              "<style scoped>\n",
              "    .dataframe tbody tr th:only-of-type {\n",
              "        vertical-align: middle;\n",
              "    }\n",
              "\n",
              "    .dataframe tbody tr th {\n",
              "        vertical-align: top;\n",
              "    }\n",
              "\n",
              "    .dataframe thead th {\n",
              "        text-align: right;\n",
              "    }\n",
              "</style>\n",
              "<table border=\"1\" class=\"dataframe\">\n",
              "  <thead>\n",
              "    <tr style=\"text-align: right;\">\n",
              "      <th></th>\n",
              "      <th>TPM</th>\n",
              "      <th>LOG_TPM</th>\n",
              "      <th>TPM_RANK</th>\n",
              "    </tr>\n",
              "  </thead>\n",
              "  <tbody>\n",
              "    <tr>\n",
              "      <th>count</th>\n",
              "      <td>2585.000000</td>\n",
              "      <td>2585.000000</td>\n",
              "      <td>2585.000000</td>\n",
              "    </tr>\n",
              "    <tr>\n",
              "      <th>mean</th>\n",
              "      <td>13.636915</td>\n",
              "      <td>0.363667</td>\n",
              "      <td>0.275809</td>\n",
              "    </tr>\n",
              "    <tr>\n",
              "      <th>std</th>\n",
              "      <td>84.232961</td>\n",
              "      <td>0.590896</td>\n",
              "      <td>0.331126</td>\n",
              "    </tr>\n",
              "    <tr>\n",
              "      <th>min</th>\n",
              "      <td>0.000000</td>\n",
              "      <td>0.000000</td>\n",
              "      <td>0.000000</td>\n",
              "    </tr>\n",
              "    <tr>\n",
              "      <th>25%</th>\n",
              "      <td>0.000000</td>\n",
              "      <td>0.000000</td>\n",
              "      <td>0.000000</td>\n",
              "    </tr>\n",
              "    <tr>\n",
              "      <th>50%</th>\n",
              "      <td>0.041550</td>\n",
              "      <td>0.017680</td>\n",
              "      <td>0.064516</td>\n",
              "    </tr>\n",
              "    <tr>\n",
              "      <th>75%</th>\n",
              "      <td>2.773000</td>\n",
              "      <td>0.576687</td>\n",
              "      <td>0.548387</td>\n",
              "    </tr>\n",
              "    <tr>\n",
              "      <th>max</th>\n",
              "      <td>2085.000000</td>\n",
              "      <td>3.319314</td>\n",
              "      <td>0.967742</td>\n",
              "    </tr>\n",
              "  </tbody>\n",
              "</table>\n",
              "</div>"
            ],
            "text/plain": [
              "               TPM      LOG_TPM     TPM_RANK\n",
              "count  2585.000000  2585.000000  2585.000000\n",
              "mean     13.636915     0.363667     0.275809\n",
              "std      84.232961     0.590896     0.331126\n",
              "min       0.000000     0.000000     0.000000\n",
              "25%       0.000000     0.000000     0.000000\n",
              "50%       0.041550     0.017680     0.064516\n",
              "75%       2.773000     0.576687     0.548387\n",
              "max    2085.000000     3.319314     0.967742"
            ]
          },
          "metadata": {
            "tags": []
          },
          "execution_count": 45
        }
      ]
    },
    {
      "metadata": {
        "id": "x4S5GCQDmJPb",
        "colab_type": "code",
        "colab": {
          "autoexec": {
            "startup": false,
            "wait_interval": 0
          }
        }
      },
      "cell_type": "code",
      "source": [
        "rnaseq_level.to_csv('rnaseq_level.tsv', sep='\\t')\n",
        "google.colab.files.download('rnaseq_level.tsv')"
      ],
      "execution_count": 0,
      "outputs": []
    },
    {
      "metadata": {
        "id": "PMGtTxqyZfoM",
        "colab_type": "code",
        "colab": {
          "autoexec": {
            "startup": false,
            "wait_interval": 0
          },
          "base_uri": "https://localhost:8080/",
          "height": 204
        },
        "outputId": "7ec32781-aabd-46f6-dfd2-db59618e8b36",
        "executionInfo": {
          "status": "ok",
          "timestamp": 1533678576977,
          "user_tz": 360,
          "elapsed": 784,
          "user": {
            "displayName": "Jeremy Yang",
            "photoUrl": "//lh4.googleusercontent.com/-oulNnl1aBlA/AAAAAAAAAAI/AAAAAAAAAm4/uOczRUUkS4g/s50-c-k-no/photo.jpg",
            "userId": "102807397641040966212"
          }
        }
      },
      "cell_type": "code",
      "source": [
        "rnaseq_level['LEVEL'] = rnaseq_level.TPM_RANK.apply(lambda x: 'Not detected' if x==0 else 'Low' if x<.25 else 'Medium' if x<.75 else 'High')\n",
        "rnaseq_level['AGE'] = 'ALL'\n",
        "rnaseq_level['SEX'] = 'ALL'\n",
        "rnaseq_level.head()"
      ],
      "execution_count": 46,
      "outputs": [
        {
          "output_type": "execute_result",
          "data": {
            "text/html": [
              "<div>\n",
              "<style scoped>\n",
              "    .dataframe tbody tr th:only-of-type {\n",
              "        vertical-align: middle;\n",
              "    }\n",
              "\n",
              "    .dataframe tbody tr th {\n",
              "        vertical-align: top;\n",
              "    }\n",
              "\n",
              "    .dataframe thead th {\n",
              "        text-align: right;\n",
              "    }\n",
              "</style>\n",
              "<table border=\"1\" class=\"dataframe\">\n",
              "  <thead>\n",
              "    <tr style=\"text-align: right;\">\n",
              "      <th></th>\n",
              "      <th>ENSG</th>\n",
              "      <th>SMTSD</th>\n",
              "      <th>TPM</th>\n",
              "      <th>LOG_TPM</th>\n",
              "      <th>TPM_RANK</th>\n",
              "      <th>LEVEL</th>\n",
              "      <th>AGE</th>\n",
              "      <th>SEX</th>\n",
              "    </tr>\n",
              "  </thead>\n",
              "  <tbody>\n",
              "    <tr>\n",
              "      <th>0</th>\n",
              "      <td>ENSG00000080608.9</td>\n",
              "      <td>Adipose - Subcutaneous</td>\n",
              "      <td>24.850</td>\n",
              "      <td>1.412461</td>\n",
              "      <td>0.709677</td>\n",
              "      <td>Medium</td>\n",
              "      <td>ALL</td>\n",
              "      <td>ALL</td>\n",
              "    </tr>\n",
              "    <tr>\n",
              "      <th>1</th>\n",
              "      <td>ENSG00000080608.9</td>\n",
              "      <td>Adipose - Visceral (Omentum)</td>\n",
              "      <td>29.175</td>\n",
              "      <td>1.479647</td>\n",
              "      <td>0.903226</td>\n",
              "      <td>High</td>\n",
              "      <td>ALL</td>\n",
              "      <td>ALL</td>\n",
              "    </tr>\n",
              "    <tr>\n",
              "      <th>2</th>\n",
              "      <td>ENSG00000080608.9</td>\n",
              "      <td>Adrenal Gland</td>\n",
              "      <td>19.520</td>\n",
              "      <td>1.312177</td>\n",
              "      <td>0.451613</td>\n",
              "      <td>Medium</td>\n",
              "      <td>ALL</td>\n",
              "      <td>ALL</td>\n",
              "    </tr>\n",
              "    <tr>\n",
              "      <th>3</th>\n",
              "      <td>ENSG00000080608.9</td>\n",
              "      <td>Artery - Aorta</td>\n",
              "      <td>23.815</td>\n",
              "      <td>1.394714</td>\n",
              "      <td>0.645161</td>\n",
              "      <td>Medium</td>\n",
              "      <td>ALL</td>\n",
              "      <td>ALL</td>\n",
              "    </tr>\n",
              "    <tr>\n",
              "      <th>4</th>\n",
              "      <td>ENSG00000080608.9</td>\n",
              "      <td>Artery - Coronary</td>\n",
              "      <td>22.855</td>\n",
              "      <td>1.377579</td>\n",
              "      <td>0.548387</td>\n",
              "      <td>Medium</td>\n",
              "      <td>ALL</td>\n",
              "      <td>ALL</td>\n",
              "    </tr>\n",
              "  </tbody>\n",
              "</table>\n",
              "</div>"
            ],
            "text/plain": [
              "                ENSG                         SMTSD     TPM   LOG_TPM  \\\n",
              "0  ENSG00000080608.9        Adipose - Subcutaneous  24.850  1.412461   \n",
              "1  ENSG00000080608.9  Adipose - Visceral (Omentum)  29.175  1.479647   \n",
              "2  ENSG00000080608.9                 Adrenal Gland  19.520  1.312177   \n",
              "3  ENSG00000080608.9                Artery - Aorta  23.815  1.394714   \n",
              "4  ENSG00000080608.9             Artery - Coronary  22.855  1.377579   \n",
              "\n",
              "   TPM_RANK   LEVEL  AGE  SEX  \n",
              "0  0.709677  Medium  ALL  ALL  \n",
              "1  0.903226    High  ALL  ALL  \n",
              "2  0.451613  Medium  ALL  ALL  \n",
              "3  0.645161  Medium  ALL  ALL  \n",
              "4  0.548387  Medium  ALL  ALL  "
            ]
          },
          "metadata": {
            "tags": []
          },
          "execution_count": 46
        }
      ]
    },
    {
      "metadata": {
        "id": "ZuwizN20dPOc",
        "colab_type": "code",
        "colab": {
          "autoexec": {
            "startup": false,
            "wait_interval": 0
          },
          "base_uri": "https://localhost:8080/",
          "height": 102
        },
        "outputId": "f50cf07a-d148-4c93-f78f-9de67a05b83d",
        "executionInfo": {
          "status": "ok",
          "timestamp": 1533678597731,
          "user_tz": 360,
          "elapsed": 767,
          "user": {
            "displayName": "Jeremy Yang",
            "photoUrl": "//lh4.googleusercontent.com/-oulNnl1aBlA/AAAAAAAAAAI/AAAAAAAAAm4/uOczRUUkS4g/s50-c-k-no/photo.jpg",
            "userId": "102807397641040966212"
          }
        }
      },
      "cell_type": "code",
      "source": [
        "rnaseq_level.LEVEL.value_counts().sort_index()"
      ],
      "execution_count": 47,
      "outputs": [
        {
          "output_type": "execute_result",
          "data": {
            "text/plain": [
              "High             358\n",
              "Low              290\n",
              "Medium           718\n",
              "Not detected    1219\n",
              "Name: LEVEL, dtype: int64"
            ]
          },
          "metadata": {
            "tags": []
          },
          "execution_count": 47
        }
      ]
    },
    {
      "metadata": {
        "id": "uYN-z_adiKwz",
        "colab_type": "text"
      },
      "cell_type": "markdown",
      "source": [
        "### Compute median TPM by gene+tissue+SEX:"
      ]
    },
    {
      "metadata": {
        "id": "1d_9a09mpI3Q",
        "colab_type": "code",
        "colab": {
          "autoexec": {
            "startup": false,
            "wait_interval": 0
          },
          "base_uri": "https://localhost:8080/",
          "height": 221
        },
        "outputId": "6fb2c3e4-f99b-431b-ed90-0b344942036b",
        "executionInfo": {
          "status": "ok",
          "timestamp": 1533678605775,
          "user_tz": 360,
          "elapsed": 845,
          "user": {
            "displayName": "Jeremy Yang",
            "photoUrl": "//lh4.googleusercontent.com/-oulNnl1aBlA/AAAAAAAAAAI/AAAAAAAAAm4/uOczRUUkS4g/s50-c-k-no/photo.jpg",
            "userId": "102807397641040966212"
          }
        }
      },
      "cell_type": "code",
      "source": [
        "rnaseq_med_sex = rnaseq[['ENSG', 'SMTSD', 'SEX', 'TPM']].groupby(by=['ENSG','SMTSD','SEX'], as_index=False).median()\n",
        "print(rnaseq_med_sex.shape)\n",
        "rnaseq_med_sex.head()"
      ],
      "execution_count": 48,
      "outputs": [
        {
          "output_type": "stream",
          "text": [
            "(5170, 4)\n"
          ],
          "name": "stdout"
        },
        {
          "output_type": "execute_result",
          "data": {
            "text/html": [
              "<div>\n",
              "<style scoped>\n",
              "    .dataframe tbody tr th:only-of-type {\n",
              "        vertical-align: middle;\n",
              "    }\n",
              "\n",
              "    .dataframe tbody tr th {\n",
              "        vertical-align: top;\n",
              "    }\n",
              "\n",
              "    .dataframe thead th {\n",
              "        text-align: right;\n",
              "    }\n",
              "</style>\n",
              "<table border=\"1\" class=\"dataframe\">\n",
              "  <thead>\n",
              "    <tr style=\"text-align: right;\">\n",
              "      <th></th>\n",
              "      <th>ENSG</th>\n",
              "      <th>SMTSD</th>\n",
              "      <th>SEX</th>\n",
              "      <th>TPM</th>\n",
              "    </tr>\n",
              "  </thead>\n",
              "  <tbody>\n",
              "    <tr>\n",
              "      <th>0</th>\n",
              "      <td>ENSG00000080608.9</td>\n",
              "      <td>Adipose - Subcutaneous</td>\n",
              "      <td>female</td>\n",
              "      <td>24.45</td>\n",
              "    </tr>\n",
              "    <tr>\n",
              "      <th>1</th>\n",
              "      <td>ENSG00000080608.9</td>\n",
              "      <td>Adipose - Subcutaneous</td>\n",
              "      <td>male</td>\n",
              "      <td>24.96</td>\n",
              "    </tr>\n",
              "    <tr>\n",
              "      <th>2</th>\n",
              "      <td>ENSG00000080608.9</td>\n",
              "      <td>Adipose - Visceral (Omentum)</td>\n",
              "      <td>female</td>\n",
              "      <td>28.11</td>\n",
              "    </tr>\n",
              "    <tr>\n",
              "      <th>3</th>\n",
              "      <td>ENSG00000080608.9</td>\n",
              "      <td>Adipose - Visceral (Omentum)</td>\n",
              "      <td>male</td>\n",
              "      <td>29.49</td>\n",
              "    </tr>\n",
              "    <tr>\n",
              "      <th>4</th>\n",
              "      <td>ENSG00000080608.9</td>\n",
              "      <td>Adrenal Gland</td>\n",
              "      <td>female</td>\n",
              "      <td>19.01</td>\n",
              "    </tr>\n",
              "  </tbody>\n",
              "</table>\n",
              "</div>"
            ],
            "text/plain": [
              "                ENSG                         SMTSD     SEX    TPM\n",
              "0  ENSG00000080608.9        Adipose - Subcutaneous  female  24.45\n",
              "1  ENSG00000080608.9        Adipose - Subcutaneous    male  24.96\n",
              "2  ENSG00000080608.9  Adipose - Visceral (Omentum)  female  28.11\n",
              "3  ENSG00000080608.9  Adipose - Visceral (Omentum)    male  29.49\n",
              "4  ENSG00000080608.9                 Adrenal Gland  female  19.01"
            ]
          },
          "metadata": {
            "tags": []
          },
          "execution_count": 48
        }
      ]
    },
    {
      "metadata": {
        "id": "4UuYZjZcrUU5",
        "colab_type": "text"
      },
      "cell_type": "markdown",
      "source": [
        "### Combine rows into one row per gene+tissue, cols for M and F TPM."
      ]
    },
    {
      "metadata": {
        "id": "W_huvO_NrbTl",
        "colab_type": "code",
        "colab": {
          "autoexec": {
            "startup": false,
            "wait_interval": 0
          },
          "base_uri": "https://localhost:8080/",
          "height": 204
        },
        "outputId": "88abbaf2-eecf-4745-dc20-7bb8c86edc54",
        "executionInfo": {
          "status": "ok",
          "timestamp": 1533678627965,
          "user_tz": 360,
          "elapsed": 780,
          "user": {
            "displayName": "Jeremy Yang",
            "photoUrl": "//lh4.googleusercontent.com/-oulNnl1aBlA/AAAAAAAAAAI/AAAAAAAAAm4/uOczRUUkS4g/s50-c-k-no/photo.jpg",
            "userId": "102807397641040966212"
          }
        }
      },
      "cell_type": "code",
      "source": [
        "rnaseq_med_sex_f = rnaseq_med_sex.loc[rnaseq_med_sex['SEX'] == 'female']\n",
        "rnaseq_med_sex_f = rnaseq_med_sex_f[['ENSG', 'SMTSD', 'TPM']].rename(columns={'TPM':'TPM_F'})\n",
        "rnaseq_med_sex_m = rnaseq_med_sex.loc[rnaseq_med_sex['SEX'] == 'male']\n",
        "rnaseq_med_sex_m = rnaseq_med_sex_m[['ENSG', 'SMTSD', 'TPM']].rename(columns={'TPM':'TPM_M'})\n",
        "rnaseq_med_sex = pandas.merge(rnaseq_med_sex_f, rnaseq_med_sex_m, how='inner', on=['ENSG','SMTSD'])\n",
        "rnaseq_med_sex.head()"
      ],
      "execution_count": 49,
      "outputs": [
        {
          "output_type": "execute_result",
          "data": {
            "text/html": [
              "<div>\n",
              "<style scoped>\n",
              "    .dataframe tbody tr th:only-of-type {\n",
              "        vertical-align: middle;\n",
              "    }\n",
              "\n",
              "    .dataframe tbody tr th {\n",
              "        vertical-align: top;\n",
              "    }\n",
              "\n",
              "    .dataframe thead th {\n",
              "        text-align: right;\n",
              "    }\n",
              "</style>\n",
              "<table border=\"1\" class=\"dataframe\">\n",
              "  <thead>\n",
              "    <tr style=\"text-align: right;\">\n",
              "      <th></th>\n",
              "      <th>ENSG</th>\n",
              "      <th>SMTSD</th>\n",
              "      <th>TPM_F</th>\n",
              "      <th>TPM_M</th>\n",
              "    </tr>\n",
              "  </thead>\n",
              "  <tbody>\n",
              "    <tr>\n",
              "      <th>0</th>\n",
              "      <td>ENSG00000080608.9</td>\n",
              "      <td>Adipose - Subcutaneous</td>\n",
              "      <td>24.45</td>\n",
              "      <td>24.960</td>\n",
              "    </tr>\n",
              "    <tr>\n",
              "      <th>1</th>\n",
              "      <td>ENSG00000080608.9</td>\n",
              "      <td>Adipose - Visceral (Omentum)</td>\n",
              "      <td>28.11</td>\n",
              "      <td>29.490</td>\n",
              "    </tr>\n",
              "    <tr>\n",
              "      <th>2</th>\n",
              "      <td>ENSG00000080608.9</td>\n",
              "      <td>Adrenal Gland</td>\n",
              "      <td>19.01</td>\n",
              "      <td>19.755</td>\n",
              "    </tr>\n",
              "    <tr>\n",
              "      <th>3</th>\n",
              "      <td>ENSG00000080608.9</td>\n",
              "      <td>Artery - Aorta</td>\n",
              "      <td>23.47</td>\n",
              "      <td>23.870</td>\n",
              "    </tr>\n",
              "    <tr>\n",
              "      <th>4</th>\n",
              "      <td>ENSG00000080608.9</td>\n",
              "      <td>Artery - Coronary</td>\n",
              "      <td>22.94</td>\n",
              "      <td>22.740</td>\n",
              "    </tr>\n",
              "  </tbody>\n",
              "</table>\n",
              "</div>"
            ],
            "text/plain": [
              "                ENSG                         SMTSD  TPM_F   TPM_M\n",
              "0  ENSG00000080608.9        Adipose - Subcutaneous  24.45  24.960\n",
              "1  ENSG00000080608.9  Adipose - Visceral (Omentum)  28.11  29.490\n",
              "2  ENSG00000080608.9                 Adrenal Gland  19.01  19.755\n",
              "3  ENSG00000080608.9                Artery - Aorta  23.47  23.870\n",
              "4  ENSG00000080608.9             Artery - Coronary  22.94  22.740"
            ]
          },
          "metadata": {
            "tags": []
          },
          "execution_count": 49
        }
      ]
    },
    {
      "metadata": {
        "id": "UNujtYxQtu3o",
        "colab_type": "code",
        "colab": {
          "autoexec": {
            "startup": false,
            "wait_interval": 0
          },
          "base_uri": "https://localhost:8080/",
          "height": 221
        },
        "outputId": "d019ea47-3518-402e-db30-295b60b2cd68",
        "executionInfo": {
          "status": "ok",
          "timestamp": 1533678642239,
          "user_tz": 360,
          "elapsed": 4463,
          "user": {
            "displayName": "Jeremy Yang",
            "photoUrl": "//lh4.googleusercontent.com/-oulNnl1aBlA/AAAAAAAAAAI/AAAAAAAAAm4/uOczRUUkS4g/s50-c-k-no/photo.jpg",
            "userId": "102807397641040966212"
          }
        }
      },
      "cell_type": "code",
      "source": [
        "t0 = time.time()\n",
        "rnaseq_level_f = GTRanks(rnaseq_med_sex[['ENSG','SMTSD','TPM_F']].copy(), 'TPM_F')\n",
        "print(\"Elapsed: %ds\"%(time.time()-t0))\n",
        "rnaseq_level_f['LEVEL_F'] = rnaseq_level_f.TPM_F_RANK.apply(lambda x: 'Not detected' if x==0 else 'Low' if x<.25 else 'Medium' if x<.75 else 'High')\n",
        "rnaseq_level_f.head()"
      ],
      "execution_count": 50,
      "outputs": [
        {
          "output_type": "stream",
          "text": [
            "Elapsed: 3s\n"
          ],
          "name": "stdout"
        },
        {
          "output_type": "execute_result",
          "data": {
            "text/html": [
              "<div>\n",
              "<style scoped>\n",
              "    .dataframe tbody tr th:only-of-type {\n",
              "        vertical-align: middle;\n",
              "    }\n",
              "\n",
              "    .dataframe tbody tr th {\n",
              "        vertical-align: top;\n",
              "    }\n",
              "\n",
              "    .dataframe thead th {\n",
              "        text-align: right;\n",
              "    }\n",
              "</style>\n",
              "<table border=\"1\" class=\"dataframe\">\n",
              "  <thead>\n",
              "    <tr style=\"text-align: right;\">\n",
              "      <th></th>\n",
              "      <th>ENSG</th>\n",
              "      <th>SMTSD</th>\n",
              "      <th>TPM_F</th>\n",
              "      <th>TPM_F_RANK</th>\n",
              "      <th>LEVEL_F</th>\n",
              "    </tr>\n",
              "  </thead>\n",
              "  <tbody>\n",
              "    <tr>\n",
              "      <th>0</th>\n",
              "      <td>ENSG00000080608.9</td>\n",
              "      <td>Adipose - Subcutaneous</td>\n",
              "      <td>24.45</td>\n",
              "      <td>0.709677</td>\n",
              "      <td>Medium</td>\n",
              "    </tr>\n",
              "    <tr>\n",
              "      <th>1</th>\n",
              "      <td>ENSG00000080608.9</td>\n",
              "      <td>Adipose - Visceral (Omentum)</td>\n",
              "      <td>28.11</td>\n",
              "      <td>0.870968</td>\n",
              "      <td>High</td>\n",
              "    </tr>\n",
              "    <tr>\n",
              "      <th>2</th>\n",
              "      <td>ENSG00000080608.9</td>\n",
              "      <td>Adrenal Gland</td>\n",
              "      <td>19.01</td>\n",
              "      <td>0.451613</td>\n",
              "      <td>Medium</td>\n",
              "    </tr>\n",
              "    <tr>\n",
              "      <th>3</th>\n",
              "      <td>ENSG00000080608.9</td>\n",
              "      <td>Artery - Aorta</td>\n",
              "      <td>23.47</td>\n",
              "      <td>0.645161</td>\n",
              "      <td>Medium</td>\n",
              "    </tr>\n",
              "    <tr>\n",
              "      <th>4</th>\n",
              "      <td>ENSG00000080608.9</td>\n",
              "      <td>Artery - Coronary</td>\n",
              "      <td>22.94</td>\n",
              "      <td>0.612903</td>\n",
              "      <td>Medium</td>\n",
              "    </tr>\n",
              "  </tbody>\n",
              "</table>\n",
              "</div>"
            ],
            "text/plain": [
              "                ENSG                         SMTSD  TPM_F  TPM_F_RANK LEVEL_F\n",
              "0  ENSG00000080608.9        Adipose - Subcutaneous  24.45    0.709677  Medium\n",
              "1  ENSG00000080608.9  Adipose - Visceral (Omentum)  28.11    0.870968    High\n",
              "2  ENSG00000080608.9                 Adrenal Gland  19.01    0.451613  Medium\n",
              "3  ENSG00000080608.9                Artery - Aorta  23.47    0.645161  Medium\n",
              "4  ENSG00000080608.9             Artery - Coronary  22.94    0.612903  Medium"
            ]
          },
          "metadata": {
            "tags": []
          },
          "execution_count": 50
        }
      ]
    },
    {
      "metadata": {
        "id": "oTZA7hKiKwAQ",
        "colab_type": "code",
        "colab": {
          "autoexec": {
            "startup": false,
            "wait_interval": 0
          },
          "base_uri": "https://localhost:8080/",
          "height": 221
        },
        "outputId": "7c8c0108-186f-462b-a519-32f77c07cda2",
        "executionInfo": {
          "status": "ok",
          "timestamp": 1533678649581,
          "user_tz": 360,
          "elapsed": 4466,
          "user": {
            "displayName": "Jeremy Yang",
            "photoUrl": "//lh4.googleusercontent.com/-oulNnl1aBlA/AAAAAAAAAAI/AAAAAAAAAm4/uOczRUUkS4g/s50-c-k-no/photo.jpg",
            "userId": "102807397641040966212"
          }
        }
      },
      "cell_type": "code",
      "source": [
        "t0 = time.time()\n",
        "rnaseq_level_m = GTRanks(rnaseq_med_sex[['ENSG','SMTSD','TPM_M']].copy(), 'TPM_M')\n",
        "print(\"Elapsed: %ds\"%(time.time()-t0))\n",
        "rnaseq_level_m['LEVEL_M'] = rnaseq_level_m.TPM_M_RANK.apply(lambda x: 'Not detected' if x==0 else 'Low' if x<.25 else 'Medium' if x<.75 else 'High')\n",
        "rnaseq_level_m.head()"
      ],
      "execution_count": 51,
      "outputs": [
        {
          "output_type": "stream",
          "text": [
            "Elapsed: 3s\n"
          ],
          "name": "stdout"
        },
        {
          "output_type": "execute_result",
          "data": {
            "text/html": [
              "<div>\n",
              "<style scoped>\n",
              "    .dataframe tbody tr th:only-of-type {\n",
              "        vertical-align: middle;\n",
              "    }\n",
              "\n",
              "    .dataframe tbody tr th {\n",
              "        vertical-align: top;\n",
              "    }\n",
              "\n",
              "    .dataframe thead th {\n",
              "        text-align: right;\n",
              "    }\n",
              "</style>\n",
              "<table border=\"1\" class=\"dataframe\">\n",
              "  <thead>\n",
              "    <tr style=\"text-align: right;\">\n",
              "      <th></th>\n",
              "      <th>ENSG</th>\n",
              "      <th>SMTSD</th>\n",
              "      <th>TPM_M</th>\n",
              "      <th>TPM_M_RANK</th>\n",
              "      <th>LEVEL_M</th>\n",
              "    </tr>\n",
              "  </thead>\n",
              "  <tbody>\n",
              "    <tr>\n",
              "      <th>0</th>\n",
              "      <td>ENSG00000080608.9</td>\n",
              "      <td>Adipose - Subcutaneous</td>\n",
              "      <td>24.960</td>\n",
              "      <td>0.677419</td>\n",
              "      <td>Medium</td>\n",
              "    </tr>\n",
              "    <tr>\n",
              "      <th>1</th>\n",
              "      <td>ENSG00000080608.9</td>\n",
              "      <td>Adipose - Visceral (Omentum)</td>\n",
              "      <td>29.490</td>\n",
              "      <td>0.903226</td>\n",
              "      <td>High</td>\n",
              "    </tr>\n",
              "    <tr>\n",
              "      <th>2</th>\n",
              "      <td>ENSG00000080608.9</td>\n",
              "      <td>Adrenal Gland</td>\n",
              "      <td>19.755</td>\n",
              "      <td>0.451613</td>\n",
              "      <td>Medium</td>\n",
              "    </tr>\n",
              "    <tr>\n",
              "      <th>3</th>\n",
              "      <td>ENSG00000080608.9</td>\n",
              "      <td>Artery - Aorta</td>\n",
              "      <td>23.870</td>\n",
              "      <td>0.612903</td>\n",
              "      <td>Medium</td>\n",
              "    </tr>\n",
              "    <tr>\n",
              "      <th>4</th>\n",
              "      <td>ENSG00000080608.9</td>\n",
              "      <td>Artery - Coronary</td>\n",
              "      <td>22.740</td>\n",
              "      <td>0.516129</td>\n",
              "      <td>Medium</td>\n",
              "    </tr>\n",
              "  </tbody>\n",
              "</table>\n",
              "</div>"
            ],
            "text/plain": [
              "                ENSG                         SMTSD   TPM_M  TPM_M_RANK LEVEL_M\n",
              "0  ENSG00000080608.9        Adipose - Subcutaneous  24.960    0.677419  Medium\n",
              "1  ENSG00000080608.9  Adipose - Visceral (Omentum)  29.490    0.903226    High\n",
              "2  ENSG00000080608.9                 Adrenal Gland  19.755    0.451613  Medium\n",
              "3  ENSG00000080608.9                Artery - Aorta  23.870    0.612903  Medium\n",
              "4  ENSG00000080608.9             Artery - Coronary  22.740    0.516129  Medium"
            ]
          },
          "metadata": {
            "tags": []
          },
          "execution_count": 51
        }
      ]
    },
    {
      "metadata": {
        "id": "dVrKuPwOipdx",
        "colab_type": "code",
        "colab": {
          "autoexec": {
            "startup": false,
            "wait_interval": 0
          },
          "base_uri": "https://localhost:8080/",
          "height": 204
        },
        "outputId": "9129ceca-2510-485d-dcff-aa53a2213e27",
        "executionInfo": {
          "status": "ok",
          "timestamp": 1533678654006,
          "user_tz": 360,
          "elapsed": 760,
          "user": {
            "displayName": "Jeremy Yang",
            "photoUrl": "//lh4.googleusercontent.com/-oulNnl1aBlA/AAAAAAAAAAI/AAAAAAAAAm4/uOczRUUkS4g/s50-c-k-no/photo.jpg",
            "userId": "102807397641040966212"
          }
        }
      },
      "cell_type": "code",
      "source": [
        "rnaseq_level = pandas.merge(rnaseq_level_f, rnaseq_level_m, on = ['ENSG','SMTSD'], how = 'inner')\n",
        "rnaseq_level.head()"
      ],
      "execution_count": 52,
      "outputs": [
        {
          "output_type": "execute_result",
          "data": {
            "text/html": [
              "<div>\n",
              "<style scoped>\n",
              "    .dataframe tbody tr th:only-of-type {\n",
              "        vertical-align: middle;\n",
              "    }\n",
              "\n",
              "    .dataframe tbody tr th {\n",
              "        vertical-align: top;\n",
              "    }\n",
              "\n",
              "    .dataframe thead th {\n",
              "        text-align: right;\n",
              "    }\n",
              "</style>\n",
              "<table border=\"1\" class=\"dataframe\">\n",
              "  <thead>\n",
              "    <tr style=\"text-align: right;\">\n",
              "      <th></th>\n",
              "      <th>ENSG</th>\n",
              "      <th>SMTSD</th>\n",
              "      <th>TPM_F</th>\n",
              "      <th>TPM_F_RANK</th>\n",
              "      <th>LEVEL_F</th>\n",
              "      <th>TPM_M</th>\n",
              "      <th>TPM_M_RANK</th>\n",
              "      <th>LEVEL_M</th>\n",
              "    </tr>\n",
              "  </thead>\n",
              "  <tbody>\n",
              "    <tr>\n",
              "      <th>0</th>\n",
              "      <td>ENSG00000080608.9</td>\n",
              "      <td>Adipose - Subcutaneous</td>\n",
              "      <td>24.45</td>\n",
              "      <td>0.709677</td>\n",
              "      <td>Medium</td>\n",
              "      <td>24.960</td>\n",
              "      <td>0.677419</td>\n",
              "      <td>Medium</td>\n",
              "    </tr>\n",
              "    <tr>\n",
              "      <th>1</th>\n",
              "      <td>ENSG00000080608.9</td>\n",
              "      <td>Adipose - Visceral (Omentum)</td>\n",
              "      <td>28.11</td>\n",
              "      <td>0.870968</td>\n",
              "      <td>High</td>\n",
              "      <td>29.490</td>\n",
              "      <td>0.903226</td>\n",
              "      <td>High</td>\n",
              "    </tr>\n",
              "    <tr>\n",
              "      <th>2</th>\n",
              "      <td>ENSG00000080608.9</td>\n",
              "      <td>Adrenal Gland</td>\n",
              "      <td>19.01</td>\n",
              "      <td>0.451613</td>\n",
              "      <td>Medium</td>\n",
              "      <td>19.755</td>\n",
              "      <td>0.451613</td>\n",
              "      <td>Medium</td>\n",
              "    </tr>\n",
              "    <tr>\n",
              "      <th>3</th>\n",
              "      <td>ENSG00000080608.9</td>\n",
              "      <td>Artery - Aorta</td>\n",
              "      <td>23.47</td>\n",
              "      <td>0.645161</td>\n",
              "      <td>Medium</td>\n",
              "      <td>23.870</td>\n",
              "      <td>0.612903</td>\n",
              "      <td>Medium</td>\n",
              "    </tr>\n",
              "    <tr>\n",
              "      <th>4</th>\n",
              "      <td>ENSG00000080608.9</td>\n",
              "      <td>Artery - Coronary</td>\n",
              "      <td>22.94</td>\n",
              "      <td>0.612903</td>\n",
              "      <td>Medium</td>\n",
              "      <td>22.740</td>\n",
              "      <td>0.516129</td>\n",
              "      <td>Medium</td>\n",
              "    </tr>\n",
              "  </tbody>\n",
              "</table>\n",
              "</div>"
            ],
            "text/plain": [
              "                ENSG                         SMTSD  TPM_F  TPM_F_RANK LEVEL_F  \\\n",
              "0  ENSG00000080608.9        Adipose - Subcutaneous  24.45    0.709677  Medium   \n",
              "1  ENSG00000080608.9  Adipose - Visceral (Omentum)  28.11    0.870968    High   \n",
              "2  ENSG00000080608.9                 Adrenal Gland  19.01    0.451613  Medium   \n",
              "3  ENSG00000080608.9                Artery - Aorta  23.47    0.645161  Medium   \n",
              "4  ENSG00000080608.9             Artery - Coronary  22.94    0.612903  Medium   \n",
              "\n",
              "    TPM_M  TPM_M_RANK LEVEL_M  \n",
              "0  24.960    0.677419  Medium  \n",
              "1  29.490    0.903226    High  \n",
              "2  19.755    0.451613  Medium  \n",
              "3  23.870    0.612903  Medium  \n",
              "4  22.740    0.516129  Medium  "
            ]
          },
          "metadata": {
            "tags": []
          },
          "execution_count": 52
        }
      ]
    },
    {
      "metadata": {
        "id": "8Th6MzQ6yndd",
        "colab_type": "text"
      },
      "cell_type": "markdown",
      "source": [
        "### For each gene, compute sex difference via Wilcox test:\n",
        "(Wilcoxon signed-rank test, with Wilcox treatment, discarding all zero-differences.)"
      ]
    },
    {
      "metadata": {
        "id": "6HNxmpqWk_Sf",
        "colab_type": "code",
        "colab": {
          "autoexec": {
            "startup": false,
            "wait_interval": 0
          },
          "base_uri": "https://localhost:8080/",
          "height": 272
        },
        "outputId": "ce482e80-e937-4fb8-8b74-38d6b1dbea8a",
        "executionInfo": {
          "status": "ok",
          "timestamp": 1533678662038,
          "user_tz": 360,
          "elapsed": 776,
          "user": {
            "displayName": "Jeremy Yang",
            "photoUrl": "//lh4.googleusercontent.com/-oulNnl1aBlA/AAAAAAAAAAI/AAAAAAAAAm4/uOczRUUkS4g/s50-c-k-no/photo.jpg",
            "userId": "102807397641040966212"
          }
        }
      },
      "cell_type": "code",
      "source": [
        "wilcox = pandas.DataFrame({'ENSG':rnaseq_med_sex.ENSG.drop_duplicates().sort_values(), 'stat':None, 'pval':None}).reset_index(drop=True)\n",
        "\n",
        "for i in range(wilcox.shape[0]):\n",
        "  tpm_f_this = rnaseq_med_sex.TPM_F[rnaseq_level.ENSG == wilcox.ENSG[i]]\n",
        "  tpm_m_this = rnaseq_med_sex.TPM_M[rnaseq_level.ENSG == wilcox.ENSG[i]]\n",
        "  stat, pval = scipy.stats.wilcoxon(x=tpm_f_this, y=tpm_m_this, zero_method='wilcox')\n",
        "  wilcox.stat.iloc[i] = stat\n",
        "  wilcox.pval.iloc[i] = pval \n",
        "wilcox.head()"
      ],
      "execution_count": 53,
      "outputs": [
        {
          "output_type": "stream",
          "text": [
            "/usr/local/lib/python3.6/dist-packages/scipy/stats/morestats.py:2397: UserWarning: Warning: sample size too small for normal approximation.\n",
            "  warnings.warn(\"Warning: sample size too small for normal approximation.\")\n",
            "/usr/local/lib/python3.6/dist-packages/scipy/stats/morestats.py:2422: RuntimeWarning: invalid value encountered in double_scalars\n",
            "  z = (T - mn - correction) / se\n"
          ],
          "name": "stderr"
        },
        {
          "output_type": "execute_result",
          "data": {
            "text/html": [
              "<div>\n",
              "<style scoped>\n",
              "    .dataframe tbody tr th:only-of-type {\n",
              "        vertical-align: middle;\n",
              "    }\n",
              "\n",
              "    .dataframe tbody tr th {\n",
              "        vertical-align: top;\n",
              "    }\n",
              "\n",
              "    .dataframe thead th {\n",
              "        text-align: right;\n",
              "    }\n",
              "</style>\n",
              "<table border=\"1\" class=\"dataframe\">\n",
              "  <thead>\n",
              "    <tr style=\"text-align: right;\">\n",
              "      <th></th>\n",
              "      <th>ENSG</th>\n",
              "      <th>pval</th>\n",
              "      <th>stat</th>\n",
              "    </tr>\n",
              "  </thead>\n",
              "  <tbody>\n",
              "    <tr>\n",
              "      <th>0</th>\n",
              "      <td>ENSG00000080608.9</td>\n",
              "      <td>0.0456248</td>\n",
              "      <td>146</td>\n",
              "    </tr>\n",
              "    <tr>\n",
              "      <th>1</th>\n",
              "      <td>ENSG00000100078.3</td>\n",
              "      <td>0.19861</td>\n",
              "      <td>170</td>\n",
              "    </tr>\n",
              "    <tr>\n",
              "      <th>2</th>\n",
              "      <td>ENSG00000102409.9</td>\n",
              "      <td>0.724285</td>\n",
              "      <td>230</td>\n",
              "    </tr>\n",
              "    <tr>\n",
              "      <th>3</th>\n",
              "      <td>ENSG00000106004.4</td>\n",
              "      <td>0.968736</td>\n",
              "      <td>246</td>\n",
              "    </tr>\n",
              "    <tr>\n",
              "      <th>4</th>\n",
              "      <td>ENSG00000106436.4</td>\n",
              "      <td>0.600179</td>\n",
              "      <td>8</td>\n",
              "    </tr>\n",
              "  </tbody>\n",
              "</table>\n",
              "</div>"
            ],
            "text/plain": [
              "                ENSG       pval stat\n",
              "0  ENSG00000080608.9  0.0456248  146\n",
              "1  ENSG00000100078.3    0.19861  170\n",
              "2  ENSG00000102409.9   0.724285  230\n",
              "3  ENSG00000106004.4   0.968736  246\n",
              "4  ENSG00000106436.4   0.600179    8"
            ]
          },
          "metadata": {
            "tags": []
          },
          "execution_count": 53
        }
      ]
    },
    {
      "metadata": {
        "id": "R3CrnrZy0usJ",
        "colab_type": "text"
      },
      "cell_type": "markdown",
      "source": [
        "### Log fold-change is log of ratio."
      ]
    },
    {
      "metadata": {
        "id": "vYRobAfenAvd",
        "colab_type": "code",
        "colab": {
          "autoexec": {
            "startup": false,
            "wait_interval": 0
          },
          "base_uri": "https://localhost:8080/",
          "height": 204
        },
        "outputId": "b907b03e-8604-463a-902c-c196fb024449",
        "executionInfo": {
          "status": "ok",
          "timestamp": 1533678769668,
          "user_tz": 360,
          "elapsed": 805,
          "user": {
            "displayName": "Jeremy Yang",
            "photoUrl": "//lh4.googleusercontent.com/-oulNnl1aBlA/AAAAAAAAAAI/AAAAAAAAAm4/uOczRUUkS4g/s50-c-k-no/photo.jpg",
            "userId": "102807397641040966212"
          }
        }
      },
      "cell_type": "code",
      "source": [
        "rnaseq_level['log2foldchange'] = ((rnaseq_level.TPM_F+1) / (rnaseq_level.TPM_M+1)).apply(lambda x: numpy.log2(max(x, 1/x)))\n",
        "rnaseq_level.head()"
      ],
      "execution_count": 54,
      "outputs": [
        {
          "output_type": "execute_result",
          "data": {
            "text/html": [
              "<div>\n",
              "<style scoped>\n",
              "    .dataframe tbody tr th:only-of-type {\n",
              "        vertical-align: middle;\n",
              "    }\n",
              "\n",
              "    .dataframe tbody tr th {\n",
              "        vertical-align: top;\n",
              "    }\n",
              "\n",
              "    .dataframe thead th {\n",
              "        text-align: right;\n",
              "    }\n",
              "</style>\n",
              "<table border=\"1\" class=\"dataframe\">\n",
              "  <thead>\n",
              "    <tr style=\"text-align: right;\">\n",
              "      <th></th>\n",
              "      <th>ENSG</th>\n",
              "      <th>SMTSD</th>\n",
              "      <th>TPM_F</th>\n",
              "      <th>TPM_F_RANK</th>\n",
              "      <th>LEVEL_F</th>\n",
              "      <th>TPM_M</th>\n",
              "      <th>TPM_M_RANK</th>\n",
              "      <th>LEVEL_M</th>\n",
              "      <th>log2foldchange</th>\n",
              "    </tr>\n",
              "  </thead>\n",
              "  <tbody>\n",
              "    <tr>\n",
              "      <th>0</th>\n",
              "      <td>ENSG00000080608.9</td>\n",
              "      <td>Adipose - Subcutaneous</td>\n",
              "      <td>24.45</td>\n",
              "      <td>0.709677</td>\n",
              "      <td>Medium</td>\n",
              "      <td>24.960</td>\n",
              "      <td>0.677419</td>\n",
              "      <td>Medium</td>\n",
              "      <td>0.028625</td>\n",
              "    </tr>\n",
              "    <tr>\n",
              "      <th>1</th>\n",
              "      <td>ENSG00000080608.9</td>\n",
              "      <td>Adipose - Visceral (Omentum)</td>\n",
              "      <td>28.11</td>\n",
              "      <td>0.870968</td>\n",
              "      <td>High</td>\n",
              "      <td>29.490</td>\n",
              "      <td>0.903226</td>\n",
              "      <td>High</td>\n",
              "      <td>0.066821</td>\n",
              "    </tr>\n",
              "    <tr>\n",
              "      <th>2</th>\n",
              "      <td>ENSG00000080608.9</td>\n",
              "      <td>Adrenal Gland</td>\n",
              "      <td>19.01</td>\n",
              "      <td>0.451613</td>\n",
              "      <td>Medium</td>\n",
              "      <td>19.755</td>\n",
              "      <td>0.451613</td>\n",
              "      <td>Medium</td>\n",
              "      <td>0.052738</td>\n",
              "    </tr>\n",
              "    <tr>\n",
              "      <th>3</th>\n",
              "      <td>ENSG00000080608.9</td>\n",
              "      <td>Artery - Aorta</td>\n",
              "      <td>23.47</td>\n",
              "      <td>0.645161</td>\n",
              "      <td>Medium</td>\n",
              "      <td>23.870</td>\n",
              "      <td>0.612903</td>\n",
              "      <td>Medium</td>\n",
              "      <td>0.023392</td>\n",
              "    </tr>\n",
              "    <tr>\n",
              "      <th>4</th>\n",
              "      <td>ENSG00000080608.9</td>\n",
              "      <td>Artery - Coronary</td>\n",
              "      <td>22.94</td>\n",
              "      <td>0.612903</td>\n",
              "      <td>Medium</td>\n",
              "      <td>22.740</td>\n",
              "      <td>0.516129</td>\n",
              "      <td>Medium</td>\n",
              "      <td>0.012103</td>\n",
              "    </tr>\n",
              "  </tbody>\n",
              "</table>\n",
              "</div>"
            ],
            "text/plain": [
              "                ENSG                         SMTSD  TPM_F  TPM_F_RANK LEVEL_F  \\\n",
              "0  ENSG00000080608.9        Adipose - Subcutaneous  24.45    0.709677  Medium   \n",
              "1  ENSG00000080608.9  Adipose - Visceral (Omentum)  28.11    0.870968    High   \n",
              "2  ENSG00000080608.9                 Adrenal Gland  19.01    0.451613  Medium   \n",
              "3  ENSG00000080608.9                Artery - Aorta  23.47    0.645161  Medium   \n",
              "4  ENSG00000080608.9             Artery - Coronary  22.94    0.612903  Medium   \n",
              "\n",
              "    TPM_M  TPM_M_RANK LEVEL_M  log2foldchange  \n",
              "0  24.960    0.677419  Medium        0.028625  \n",
              "1  29.490    0.903226    High        0.066821  \n",
              "2  19.755    0.451613  Medium        0.052738  \n",
              "3  23.870    0.612903  Medium        0.023392  \n",
              "4  22.740    0.516129  Medium        0.012103  "
            ]
          },
          "metadata": {
            "tags": []
          },
          "execution_count": 54
        }
      ]
    },
    {
      "metadata": {
        "id": "V3mSYzgio-w2",
        "colab_type": "code",
        "colab": {
          "autoexec": {
            "startup": false,
            "wait_interval": 0
          },
          "base_uri": "https://localhost:8080/",
          "height": 364
        },
        "outputId": "e86c6b96-15db-415d-e72a-cae6030b78d2",
        "executionInfo": {
          "status": "ok",
          "timestamp": 1533678778752,
          "user_tz": 360,
          "elapsed": 1111,
          "user": {
            "displayName": "Jeremy Yang",
            "photoUrl": "//lh4.googleusercontent.com/-oulNnl1aBlA/AAAAAAAAAAI/AAAAAAAAAm4/uOczRUUkS4g/s50-c-k-no/photo.jpg",
            "userId": "102807397641040966212"
          }
        }
      },
      "cell_type": "code",
      "source": [
        "rnaseq_level.log2foldchange.plot(kind='hist', logy=True)"
      ],
      "execution_count": 55,
      "outputs": [
        {
          "output_type": "execute_result",
          "data": {
            "text/plain": [
              "<matplotlib.axes._subplots.AxesSubplot at 0x7f6ea5a4d748>"
            ]
          },
          "metadata": {
            "tags": []
          },
          "execution_count": 55
        },
        {
          "output_type": "display_data",
          "data": {
            "image/png": "[encoded data removed]",
            "text/plain": [
              "<matplotlib.figure.Figure at 0x7f6ea5a54fd0>"
            ]
          },
          "metadata": {
            "tags": []
          }
        }
      ]
    }
  ]
}